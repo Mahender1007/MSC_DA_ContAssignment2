{
 "cells": [
  {
   "cell_type": "markdown",
   "id": "97908571",
   "metadata": {},
   "source": [
    "### Project outcome\n",
    "Create a datasheet of dairy product over time (1960 to 2020) for Ireland and other EU nations. Dataframe will be created from diffrent dairy products, types of animal where dairy products are collected and Tatal population of the Countries.\n",
    "\n",
    "\n",
    "### Data Description\n",
    "This data, which is in a csv file format, consists of Year, Ireland and other european countries. These columns contain information about the columns mentioned from 1960 to 2020.\n",
    "\n",
    "\n",
    "### How Was This Data Collected?\n",
    "Crop and Food data were obtained from the Food and Agricultural Organisation of the United Nations. FAO collects the data from all the counrties in the world. FAO is an international organisation and it is a part of the United Nations. I am using raw data to form the base of my dataframes. FAO is a website that provides reliable data in various fields.\n",
    "For more detailed information, please click the link below. Link :\n",
    "https://www.fao.org/faostat/en/#data/QCL\n",
    "\n",
    "\n",
    "Total yearly population data are collectes from EUROSTAT which is freely available and there is no licensing reuirement to access these data. This population is then compared to the other 27 countries in the EU. Four countries are identified as having a similar (+/- 1m people) population in 2020. The population data for these countries is downloaded. They can only be downloaded seperately.\n",
    "For more detailed information, please click the link below. Link :\n",
    "https://data.worldbank.org/indicator/SP.POP.TOTL?end=2020&start=1960\n",
    "\n",
    "\n",
    "### Is There a License for the Data Used?\n",
    "The FAO, the website from which the data was obtained, has a Creative Commons Attribution 4.0 International license. This license type makes shared data publicly available according to open data standards and license datasets. Data are freely available and no licence is required to access or downlaod the data."
   ]
  },
  {
   "cell_type": "code",
   "execution_count": 168,
   "id": "575130b8",
   "metadata": {
    "ExecuteTime": {
     "end_time": "2022-12-16T12:06:36.514993Z",
     "start_time": "2022-12-16T12:06:36.497040Z"
    }
   },
   "outputs": [],
   "source": [
    "# import libraries first\n",
    "import pandas as pd\n",
    "import seaborn as sns\n",
    "import numpy as np\n",
    "import warnings\n",
    "import datetime\n",
    "import math\n",
    "from matplotlib import pyplot as plt"
   ]
  },
  {
   "cell_type": "markdown",
   "id": "8bf2d525",
   "metadata": {},
   "source": [
    "Aim of this project is to investigate the milk production in Ireland by comparing Irish data with other EU countries based on similar climatic conditions or similar population levels."
   ]
  },
  {
   "cell_type": "markdown",
   "id": "5353ab29",
   "metadata": {},
   "source": [
    "## Section 1.0\n",
    "# Creating Gantt chart for my project\n"
   ]
  },
  {
   "cell_type": "code",
   "execution_count": 169,
   "id": "a009640a",
   "metadata": {
    "ExecuteTime": {
     "end_time": "2022-12-16T12:06:38.460697Z",
     "start_time": "2022-12-16T12:06:38.409836Z"
    }
   },
   "outputs": [
    {
     "data": {
      "application/vnd.plotly.v1+json": {
       "config": {
        "plotlyServerURL": "https://plot.ly"
       },
       "data": [
        {
         "fill": "toself",
         "fillcolor": "rgb(0, 255, 100)",
         "hoverinfo": "name",
         "legendgroup": "rgb(0, 255, 100)",
         "mode": "none",
         "name": "Complete",
         "type": "scatter",
         "x": [
          "2022-12-04",
          "2022-12-11",
          "2022-12-11",
          "2022-12-04"
         ],
         "y": [
          4.8,
          4.8,
          5.2,
          5.2
         ]
        },
        {
         "fill": "toself",
         "fillcolor": "rgb(220, 0, 0)",
         "hoverinfo": "name",
         "legendgroup": "rgb(220, 0, 0)",
         "mode": "none",
         "name": "Not Started",
         "type": "scatter",
         "x": [
          "2022-12-20",
          "2022-12-22",
          "2022-12-22",
          "2022-12-20",
          "2022-12-20",
          "2022-12-27",
          "2023-01-01",
          "2023-01-01",
          "2022-12-27",
          "2022-12-27",
          "2022-12-18",
          "2022-12-22",
          "2022-12-22",
          "2022-12-18",
          "2022-12-18",
          "2022-12-27",
          "2023-01-05",
          "2023-01-05",
          "2022-12-27",
          "2022-12-27",
          "2023-01-06",
          "2023-01-06",
          "2023-01-06",
          "2023-01-06"
         ],
         "y": [
          1.8,
          1.8,
          2.2,
          2.2,
          null,
          1.8,
          1.8,
          2.2,
          2.2,
          null,
          0.8,
          0.8,
          1.2,
          1.2,
          null,
          0.8,
          0.8,
          1.2,
          1.2,
          null,
          -0.2,
          -0.2,
          0.2,
          0.2
         ]
        },
        {
         "fill": "toself",
         "fillcolor": "rgb(255, 230, 41)",
         "hoverinfo": "name",
         "legendgroup": "rgb(255, 230, 41)",
         "mode": "none",
         "name": "Incomplete",
         "type": "scatter",
         "x": [
          "2022-12-10",
          "2022-12-18",
          "2022-12-18",
          "2022-12-10",
          "2022-12-10",
          "2022-12-12",
          "2022-12-22",
          "2022-12-22",
          "2022-12-12"
         ],
         "y": [
          3.8,
          3.8,
          4.2,
          4.2,
          null,
          2.8,
          2.8,
          3.2,
          3.2
         ]
        },
        {
         "legendgroup": "rgb(0, 255, 100)",
         "marker": {
          "color": "rgb(0, 255, 100)",
          "opacity": 0,
          "size": 1
         },
         "mode": "markers",
         "name": "",
         "showlegend": false,
         "text": [
          null,
          null
         ],
         "type": "scatter",
         "x": [
          "2022-12-04",
          "2022-12-11"
         ],
         "y": [
          5,
          5
         ]
        },
        {
         "legendgroup": "rgb(220, 0, 0)",
         "marker": {
          "color": "rgb(220, 0, 0)",
          "opacity": 0,
          "size": 1
         },
         "mode": "markers",
         "name": "",
         "showlegend": false,
         "text": [
          null,
          null,
          null,
          null,
          null,
          null,
          null,
          null,
          null,
          null
         ],
         "type": "scatter",
         "x": [
          "2022-12-20",
          "2022-12-22",
          "2022-12-27",
          "2023-01-01",
          "2022-12-18",
          "2022-12-22",
          "2022-12-27",
          "2023-01-05",
          "2023-01-06",
          "2023-01-06"
         ],
         "y": [
          2,
          2,
          2,
          2,
          1,
          1,
          1,
          1,
          0,
          0
         ]
        },
        {
         "legendgroup": "rgb(255, 230, 41)",
         "marker": {
          "color": "rgb(255, 230, 41)",
          "opacity": 0,
          "size": 1
         },
         "mode": "markers",
         "name": "",
         "showlegend": false,
         "text": [
          null,
          null,
          null,
          null
         ],
         "type": "scatter",
         "x": [
          "2022-12-10",
          "2022-12-18",
          "2022-12-12",
          "2022-12-22"
         ],
         "y": [
          4,
          4,
          3,
          3
         ]
        }
       ],
       "layout": {
        "height": 600,
        "hovermode": "closest",
        "showlegend": true,
        "template": {
         "data": {
          "bar": [
           {
            "error_x": {
             "color": "#2a3f5f"
            },
            "error_y": {
             "color": "#2a3f5f"
            },
            "marker": {
             "line": {
              "color": "#E5ECF6",
              "width": 0.5
             },
             "pattern": {
              "fillmode": "overlay",
              "size": 10,
              "solidity": 0.2
             }
            },
            "type": "bar"
           }
          ],
          "barpolar": [
           {
            "marker": {
             "line": {
              "color": "#E5ECF6",
              "width": 0.5
             },
             "pattern": {
              "fillmode": "overlay",
              "size": 10,
              "solidity": 0.2
             }
            },
            "type": "barpolar"
           }
          ],
          "carpet": [
           {
            "aaxis": {
             "endlinecolor": "#2a3f5f",
             "gridcolor": "white",
             "linecolor": "white",
             "minorgridcolor": "white",
             "startlinecolor": "#2a3f5f"
            },
            "baxis": {
             "endlinecolor": "#2a3f5f",
             "gridcolor": "white",
             "linecolor": "white",
             "minorgridcolor": "white",
             "startlinecolor": "#2a3f5f"
            },
            "type": "carpet"
           }
          ],
          "choropleth": [
           {
            "colorbar": {
             "outlinewidth": 0,
             "ticks": ""
            },
            "type": "choropleth"
           }
          ],
          "contour": [
           {
            "colorbar": {
             "outlinewidth": 0,
             "ticks": ""
            },
            "colorscale": [
             [
              0,
              "#0d0887"
             ],
             [
              0.1111111111111111,
              "#46039f"
             ],
             [
              0.2222222222222222,
              "#7201a8"
             ],
             [
              0.3333333333333333,
              "#9c179e"
             ],
             [
              0.4444444444444444,
              "#bd3786"
             ],
             [
              0.5555555555555556,
              "#d8576b"
             ],
             [
              0.6666666666666666,
              "#ed7953"
             ],
             [
              0.7777777777777778,
              "#fb9f3a"
             ],
             [
              0.8888888888888888,
              "#fdca26"
             ],
             [
              1,
              "#f0f921"
             ]
            ],
            "type": "contour"
           }
          ],
          "contourcarpet": [
           {
            "colorbar": {
             "outlinewidth": 0,
             "ticks": ""
            },
            "type": "contourcarpet"
           }
          ],
          "heatmap": [
           {
            "colorbar": {
             "outlinewidth": 0,
             "ticks": ""
            },
            "colorscale": [
             [
              0,
              "#0d0887"
             ],
             [
              0.1111111111111111,
              "#46039f"
             ],
             [
              0.2222222222222222,
              "#7201a8"
             ],
             [
              0.3333333333333333,
              "#9c179e"
             ],
             [
              0.4444444444444444,
              "#bd3786"
             ],
             [
              0.5555555555555556,
              "#d8576b"
             ],
             [
              0.6666666666666666,
              "#ed7953"
             ],
             [
              0.7777777777777778,
              "#fb9f3a"
             ],
             [
              0.8888888888888888,
              "#fdca26"
             ],
             [
              1,
              "#f0f921"
             ]
            ],
            "type": "heatmap"
           }
          ],
          "heatmapgl": [
           {
            "colorbar": {
             "outlinewidth": 0,
             "ticks": ""
            },
            "colorscale": [
             [
              0,
              "#0d0887"
             ],
             [
              0.1111111111111111,
              "#46039f"
             ],
             [
              0.2222222222222222,
              "#7201a8"
             ],
             [
              0.3333333333333333,
              "#9c179e"
             ],
             [
              0.4444444444444444,
              "#bd3786"
             ],
             [
              0.5555555555555556,
              "#d8576b"
             ],
             [
              0.6666666666666666,
              "#ed7953"
             ],
             [
              0.7777777777777778,
              "#fb9f3a"
             ],
             [
              0.8888888888888888,
              "#fdca26"
             ],
             [
              1,
              "#f0f921"
             ]
            ],
            "type": "heatmapgl"
           }
          ],
          "histogram": [
           {
            "marker": {
             "pattern": {
              "fillmode": "overlay",
              "size": 10,
              "solidity": 0.2
             }
            },
            "type": "histogram"
           }
          ],
          "histogram2d": [
           {
            "colorbar": {
             "outlinewidth": 0,
             "ticks": ""
            },
            "colorscale": [
             [
              0,
              "#0d0887"
             ],
             [
              0.1111111111111111,
              "#46039f"
             ],
             [
              0.2222222222222222,
              "#7201a8"
             ],
             [
              0.3333333333333333,
              "#9c179e"
             ],
             [
              0.4444444444444444,
              "#bd3786"
             ],
             [
              0.5555555555555556,
              "#d8576b"
             ],
             [
              0.6666666666666666,
              "#ed7953"
             ],
             [
              0.7777777777777778,
              "#fb9f3a"
             ],
             [
              0.8888888888888888,
              "#fdca26"
             ],
             [
              1,
              "#f0f921"
             ]
            ],
            "type": "histogram2d"
           }
          ],
          "histogram2dcontour": [
           {
            "colorbar": {
             "outlinewidth": 0,
             "ticks": ""
            },
            "colorscale": [
             [
              0,
              "#0d0887"
             ],
             [
              0.1111111111111111,
              "#46039f"
             ],
             [
              0.2222222222222222,
              "#7201a8"
             ],
             [
              0.3333333333333333,
              "#9c179e"
             ],
             [
              0.4444444444444444,
              "#bd3786"
             ],
             [
              0.5555555555555556,
              "#d8576b"
             ],
             [
              0.6666666666666666,
              "#ed7953"
             ],
             [
              0.7777777777777778,
              "#fb9f3a"
             ],
             [
              0.8888888888888888,
              "#fdca26"
             ],
             [
              1,
              "#f0f921"
             ]
            ],
            "type": "histogram2dcontour"
           }
          ],
          "mesh3d": [
           {
            "colorbar": {
             "outlinewidth": 0,
             "ticks": ""
            },
            "type": "mesh3d"
           }
          ],
          "parcoords": [
           {
            "line": {
             "colorbar": {
              "outlinewidth": 0,
              "ticks": ""
             }
            },
            "type": "parcoords"
           }
          ],
          "pie": [
           {
            "automargin": true,
            "type": "pie"
           }
          ],
          "scatter": [
           {
            "marker": {
             "colorbar": {
              "outlinewidth": 0,
              "ticks": ""
             }
            },
            "type": "scatter"
           }
          ],
          "scatter3d": [
           {
            "line": {
             "colorbar": {
              "outlinewidth": 0,
              "ticks": ""
             }
            },
            "marker": {
             "colorbar": {
              "outlinewidth": 0,
              "ticks": ""
             }
            },
            "type": "scatter3d"
           }
          ],
          "scattercarpet": [
           {
            "marker": {
             "colorbar": {
              "outlinewidth": 0,
              "ticks": ""
             }
            },
            "type": "scattercarpet"
           }
          ],
          "scattergeo": [
           {
            "marker": {
             "colorbar": {
              "outlinewidth": 0,
              "ticks": ""
             }
            },
            "type": "scattergeo"
           }
          ],
          "scattergl": [
           {
            "marker": {
             "colorbar": {
              "outlinewidth": 0,
              "ticks": ""
             }
            },
            "type": "scattergl"
           }
          ],
          "scattermapbox": [
           {
            "marker": {
             "colorbar": {
              "outlinewidth": 0,
              "ticks": ""
             }
            },
            "type": "scattermapbox"
           }
          ],
          "scatterpolar": [
           {
            "marker": {
             "colorbar": {
              "outlinewidth": 0,
              "ticks": ""
             }
            },
            "type": "scatterpolar"
           }
          ],
          "scatterpolargl": [
           {
            "marker": {
             "colorbar": {
              "outlinewidth": 0,
              "ticks": ""
             }
            },
            "type": "scatterpolargl"
           }
          ],
          "scatterternary": [
           {
            "marker": {
             "colorbar": {
              "outlinewidth": 0,
              "ticks": ""
             }
            },
            "type": "scatterternary"
           }
          ],
          "surface": [
           {
            "colorbar": {
             "outlinewidth": 0,
             "ticks": ""
            },
            "colorscale": [
             [
              0,
              "#0d0887"
             ],
             [
              0.1111111111111111,
              "#46039f"
             ],
             [
              0.2222222222222222,
              "#7201a8"
             ],
             [
              0.3333333333333333,
              "#9c179e"
             ],
             [
              0.4444444444444444,
              "#bd3786"
             ],
             [
              0.5555555555555556,
              "#d8576b"
             ],
             [
              0.6666666666666666,
              "#ed7953"
             ],
             [
              0.7777777777777778,
              "#fb9f3a"
             ],
             [
              0.8888888888888888,
              "#fdca26"
             ],
             [
              1,
              "#f0f921"
             ]
            ],
            "type": "surface"
           }
          ],
          "table": [
           {
            "cells": {
             "fill": {
              "color": "#EBF0F8"
             },
             "line": {
              "color": "white"
             }
            },
            "header": {
             "fill": {
              "color": "#C8D4E3"
             },
             "line": {
              "color": "white"
             }
            },
            "type": "table"
           }
          ]
         },
         "layout": {
          "annotationdefaults": {
           "arrowcolor": "#2a3f5f",
           "arrowhead": 0,
           "arrowwidth": 1
          },
          "autotypenumbers": "strict",
          "coloraxis": {
           "colorbar": {
            "outlinewidth": 0,
            "ticks": ""
           }
          },
          "colorscale": {
           "diverging": [
            [
             0,
             "#8e0152"
            ],
            [
             0.1,
             "#c51b7d"
            ],
            [
             0.2,
             "#de77ae"
            ],
            [
             0.3,
             "#f1b6da"
            ],
            [
             0.4,
             "#fde0ef"
            ],
            [
             0.5,
             "#f7f7f7"
            ],
            [
             0.6,
             "#e6f5d0"
            ],
            [
             0.7,
             "#b8e186"
            ],
            [
             0.8,
             "#7fbc41"
            ],
            [
             0.9,
             "#4d9221"
            ],
            [
             1,
             "#276419"
            ]
           ],
           "sequential": [
            [
             0,
             "#0d0887"
            ],
            [
             0.1111111111111111,
             "#46039f"
            ],
            [
             0.2222222222222222,
             "#7201a8"
            ],
            [
             0.3333333333333333,
             "#9c179e"
            ],
            [
             0.4444444444444444,
             "#bd3786"
            ],
            [
             0.5555555555555556,
             "#d8576b"
            ],
            [
             0.6666666666666666,
             "#ed7953"
            ],
            [
             0.7777777777777778,
             "#fb9f3a"
            ],
            [
             0.8888888888888888,
             "#fdca26"
            ],
            [
             1,
             "#f0f921"
            ]
           ],
           "sequentialminus": [
            [
             0,
             "#0d0887"
            ],
            [
             0.1111111111111111,
             "#46039f"
            ],
            [
             0.2222222222222222,
             "#7201a8"
            ],
            [
             0.3333333333333333,
             "#9c179e"
            ],
            [
             0.4444444444444444,
             "#bd3786"
            ],
            [
             0.5555555555555556,
             "#d8576b"
            ],
            [
             0.6666666666666666,
             "#ed7953"
            ],
            [
             0.7777777777777778,
             "#fb9f3a"
            ],
            [
             0.8888888888888888,
             "#fdca26"
            ],
            [
             1,
             "#f0f921"
            ]
           ]
          },
          "colorway": [
           "#636efa",
           "#EF553B",
           "#00cc96",
           "#ab63fa",
           "#FFA15A",
           "#19d3f3",
           "#FF6692",
           "#B6E880",
           "#FF97FF",
           "#FECB52"
          ],
          "font": {
           "color": "#2a3f5f"
          },
          "geo": {
           "bgcolor": "white",
           "lakecolor": "white",
           "landcolor": "#E5ECF6",
           "showlakes": true,
           "showland": true,
           "subunitcolor": "white"
          },
          "hoverlabel": {
           "align": "left"
          },
          "hovermode": "closest",
          "mapbox": {
           "style": "light"
          },
          "paper_bgcolor": "white",
          "plot_bgcolor": "#E5ECF6",
          "polar": {
           "angularaxis": {
            "gridcolor": "white",
            "linecolor": "white",
            "ticks": ""
           },
           "bgcolor": "#E5ECF6",
           "radialaxis": {
            "gridcolor": "white",
            "linecolor": "white",
            "ticks": ""
           }
          },
          "scene": {
           "xaxis": {
            "backgroundcolor": "#E5ECF6",
            "gridcolor": "white",
            "gridwidth": 2,
            "linecolor": "white",
            "showbackground": true,
            "ticks": "",
            "zerolinecolor": "white"
           },
           "yaxis": {
            "backgroundcolor": "#E5ECF6",
            "gridcolor": "white",
            "gridwidth": 2,
            "linecolor": "white",
            "showbackground": true,
            "ticks": "",
            "zerolinecolor": "white"
           },
           "zaxis": {
            "backgroundcolor": "#E5ECF6",
            "gridcolor": "white",
            "gridwidth": 2,
            "linecolor": "white",
            "showbackground": true,
            "ticks": "",
            "zerolinecolor": "white"
           }
          },
          "shapedefaults": {
           "line": {
            "color": "#2a3f5f"
           }
          },
          "ternary": {
           "aaxis": {
            "gridcolor": "white",
            "linecolor": "white",
            "ticks": ""
           },
           "baxis": {
            "gridcolor": "white",
            "linecolor": "white",
            "ticks": ""
           },
           "bgcolor": "#E5ECF6",
           "caxis": {
            "gridcolor": "white",
            "linecolor": "white",
            "ticks": ""
           }
          },
          "title": {
           "x": 0.05
          },
          "xaxis": {
           "automargin": true,
           "gridcolor": "white",
           "linecolor": "white",
           "ticks": "",
           "title": {
            "standoff": 15
           },
           "zerolinecolor": "white",
           "zerolinewidth": 2
          },
          "yaxis": {
           "automargin": true,
           "gridcolor": "white",
           "linecolor": "white",
           "ticks": "",
           "title": {
            "standoff": 15
           },
           "zerolinecolor": "white",
           "zerolinewidth": 2
          }
         }
        },
        "title": {
         "text": "Gantt Chart"
        },
        "xaxis": {
         "rangeselector": {
          "buttons": [
           {
            "count": 7,
            "label": "1w",
            "step": "day",
            "stepmode": "backward"
           },
           {
            "count": 1,
            "label": "1m",
            "step": "month",
            "stepmode": "backward"
           },
           {
            "count": 6,
            "label": "6m",
            "step": "month",
            "stepmode": "backward"
           },
           {
            "count": 1,
            "label": "YTD",
            "step": "year",
            "stepmode": "todate"
           },
           {
            "count": 1,
            "label": "1y",
            "step": "year",
            "stepmode": "backward"
           },
           {
            "step": "all"
           }
          ]
         },
         "showgrid": false,
         "type": "date",
         "zeroline": false
        },
        "yaxis": {
         "autorange": false,
         "range": [
          -1,
          7
         ],
         "showgrid": false,
         "ticktext": [
          "Submit ",
          "Report Writing ",
          "Machine Learning",
          "EDA & Statistics",
          "Data Collection & Prep",
          "Investigate & Develop Questions"
         ],
         "tickvals": [
          0,
          1,
          2,
          3,
          4,
          5
         ],
         "zeroline": false
        }
       }
      },
      "text/html": [
       "<div>                            <div id=\"e8f58a1d-1ba7-4732-a2bb-6f98cac6a3e3\" class=\"plotly-graph-div\" style=\"height:600px; width:100%;\"></div>            <script type=\"text/javascript\">                require([\"plotly\"], function(Plotly) {                    window.PLOTLYENV=window.PLOTLYENV || {};                                    if (document.getElementById(\"e8f58a1d-1ba7-4732-a2bb-6f98cac6a3e3\")) {                    Plotly.newPlot(                        \"e8f58a1d-1ba7-4732-a2bb-6f98cac6a3e3\",                        [{\"fill\":\"toself\",\"fillcolor\":\"rgb(0, 255, 100)\",\"hoverinfo\":\"name\",\"legendgroup\":\"rgb(0, 255, 100)\",\"mode\":\"none\",\"name\":\"Complete\",\"x\":[\"2022-12-04\",\"2022-12-11\",\"2022-12-11\",\"2022-12-04\"],\"y\":[4.8,4.8,5.2,5.2],\"type\":\"scatter\"},{\"fill\":\"toself\",\"fillcolor\":\"rgb(220, 0, 0)\",\"hoverinfo\":\"name\",\"legendgroup\":\"rgb(220, 0, 0)\",\"mode\":\"none\",\"name\":\"Not Started\",\"x\":[\"2022-12-20\",\"2022-12-22\",\"2022-12-22\",\"2022-12-20\",\"2022-12-20\",\"2022-12-27\",\"2023-01-01\",\"2023-01-01\",\"2022-12-27\",\"2022-12-27\",\"2022-12-18\",\"2022-12-22\",\"2022-12-22\",\"2022-12-18\",\"2022-12-18\",\"2022-12-27\",\"2023-01-05\",\"2023-01-05\",\"2022-12-27\",\"2022-12-27\",\"2023-01-06\",\"2023-01-06\",\"2023-01-06\",\"2023-01-06\"],\"y\":[1.8,1.8,2.2,2.2,null,1.8,1.8,2.2,2.2,null,0.8,0.8,1.2,1.2,null,0.8,0.8,1.2,1.2,null,-0.2,-0.2,0.2,0.2],\"type\":\"scatter\"},{\"fill\":\"toself\",\"fillcolor\":\"rgb(255, 230, 41)\",\"hoverinfo\":\"name\",\"legendgroup\":\"rgb(255, 230, 41)\",\"mode\":\"none\",\"name\":\"Incomplete\",\"x\":[\"2022-12-10\",\"2022-12-18\",\"2022-12-18\",\"2022-12-10\",\"2022-12-10\",\"2022-12-12\",\"2022-12-22\",\"2022-12-22\",\"2022-12-12\"],\"y\":[3.8,3.8,4.2,4.2,null,2.8,2.8,3.2,3.2],\"type\":\"scatter\"},{\"legendgroup\":\"rgb(0, 255, 100)\",\"marker\":{\"color\":\"rgb(0, 255, 100)\",\"opacity\":0,\"size\":1},\"mode\":\"markers\",\"name\":\"\",\"showlegend\":false,\"text\":[null,null],\"x\":[\"2022-12-04\",\"2022-12-11\"],\"y\":[5,5],\"type\":\"scatter\"},{\"legendgroup\":\"rgb(220, 0, 0)\",\"marker\":{\"color\":\"rgb(220, 0, 0)\",\"opacity\":0,\"size\":1},\"mode\":\"markers\",\"name\":\"\",\"showlegend\":false,\"text\":[null,null,null,null,null,null,null,null,null,null],\"x\":[\"2022-12-20\",\"2022-12-22\",\"2022-12-27\",\"2023-01-01\",\"2022-12-18\",\"2022-12-22\",\"2022-12-27\",\"2023-01-05\",\"2023-01-06\",\"2023-01-06\"],\"y\":[2,2,2,2,1,1,1,1,0,0],\"type\":\"scatter\"},{\"legendgroup\":\"rgb(255, 230, 41)\",\"marker\":{\"color\":\"rgb(255, 230, 41)\",\"opacity\":0,\"size\":1},\"mode\":\"markers\",\"name\":\"\",\"showlegend\":false,\"text\":[null,null,null,null],\"x\":[\"2022-12-10\",\"2022-12-18\",\"2022-12-12\",\"2022-12-22\"],\"y\":[4,4,3,3],\"type\":\"scatter\"}],                        {\"height\":600,\"hovermode\":\"closest\",\"showlegend\":true,\"title\":{\"text\":\"Gantt Chart\"},\"xaxis\":{\"rangeselector\":{\"buttons\":[{\"count\":7,\"label\":\"1w\",\"step\":\"day\",\"stepmode\":\"backward\"},{\"count\":1,\"label\":\"1m\",\"step\":\"month\",\"stepmode\":\"backward\"},{\"count\":6,\"label\":\"6m\",\"step\":\"month\",\"stepmode\":\"backward\"},{\"count\":1,\"label\":\"YTD\",\"step\":\"year\",\"stepmode\":\"todate\"},{\"count\":1,\"label\":\"1y\",\"step\":\"year\",\"stepmode\":\"backward\"},{\"step\":\"all\"}]},\"showgrid\":false,\"type\":\"date\",\"zeroline\":false},\"yaxis\":{\"autorange\":false,\"range\":[-1,7],\"showgrid\":false,\"ticktext\":[\"Submit \",\"Report Writing \",\"Machine Learning\",\"EDA & Statistics\",\"Data Collection & Prep\",\"Investigate & Develop Questions\"],\"tickvals\":[0,1,2,3,4,5],\"zeroline\":false},\"template\":{\"data\":{\"bar\":[{\"error_x\":{\"color\":\"#2a3f5f\"},\"error_y\":{\"color\":\"#2a3f5f\"},\"marker\":{\"line\":{\"color\":\"#E5ECF6\",\"width\":0.5},\"pattern\":{\"fillmode\":\"overlay\",\"size\":10,\"solidity\":0.2}},\"type\":\"bar\"}],\"barpolar\":[{\"marker\":{\"line\":{\"color\":\"#E5ECF6\",\"width\":0.5},\"pattern\":{\"fillmode\":\"overlay\",\"size\":10,\"solidity\":0.2}},\"type\":\"barpolar\"}],\"carpet\":[{\"aaxis\":{\"endlinecolor\":\"#2a3f5f\",\"gridcolor\":\"white\",\"linecolor\":\"white\",\"minorgridcolor\":\"white\",\"startlinecolor\":\"#2a3f5f\"},\"baxis\":{\"endlinecolor\":\"#2a3f5f\",\"gridcolor\":\"white\",\"linecolor\":\"white\",\"minorgridcolor\":\"white\",\"startlinecolor\":\"#2a3f5f\"},\"type\":\"carpet\"}],\"choropleth\":[{\"colorbar\":{\"outlinewidth\":0,\"ticks\":\"\"},\"type\":\"choropleth\"}],\"contour\":[{\"colorbar\":{\"outlinewidth\":0,\"ticks\":\"\"},\"colorscale\":[[0.0,\"#0d0887\"],[0.1111111111111111,\"#46039f\"],[0.2222222222222222,\"#7201a8\"],[0.3333333333333333,\"#9c179e\"],[0.4444444444444444,\"#bd3786\"],[0.5555555555555556,\"#d8576b\"],[0.6666666666666666,\"#ed7953\"],[0.7777777777777778,\"#fb9f3a\"],[0.8888888888888888,\"#fdca26\"],[1.0,\"#f0f921\"]],\"type\":\"contour\"}],\"contourcarpet\":[{\"colorbar\":{\"outlinewidth\":0,\"ticks\":\"\"},\"type\":\"contourcarpet\"}],\"heatmap\":[{\"colorbar\":{\"outlinewidth\":0,\"ticks\":\"\"},\"colorscale\":[[0.0,\"#0d0887\"],[0.1111111111111111,\"#46039f\"],[0.2222222222222222,\"#7201a8\"],[0.3333333333333333,\"#9c179e\"],[0.4444444444444444,\"#bd3786\"],[0.5555555555555556,\"#d8576b\"],[0.6666666666666666,\"#ed7953\"],[0.7777777777777778,\"#fb9f3a\"],[0.8888888888888888,\"#fdca26\"],[1.0,\"#f0f921\"]],\"type\":\"heatmap\"}],\"heatmapgl\":[{\"colorbar\":{\"outlinewidth\":0,\"ticks\":\"\"},\"colorscale\":[[0.0,\"#0d0887\"],[0.1111111111111111,\"#46039f\"],[0.2222222222222222,\"#7201a8\"],[0.3333333333333333,\"#9c179e\"],[0.4444444444444444,\"#bd3786\"],[0.5555555555555556,\"#d8576b\"],[0.6666666666666666,\"#ed7953\"],[0.7777777777777778,\"#fb9f3a\"],[0.8888888888888888,\"#fdca26\"],[1.0,\"#f0f921\"]],\"type\":\"heatmapgl\"}],\"histogram\":[{\"marker\":{\"pattern\":{\"fillmode\":\"overlay\",\"size\":10,\"solidity\":0.2}},\"type\":\"histogram\"}],\"histogram2d\":[{\"colorbar\":{\"outlinewidth\":0,\"ticks\":\"\"},\"colorscale\":[[0.0,\"#0d0887\"],[0.1111111111111111,\"#46039f\"],[0.2222222222222222,\"#7201a8\"],[0.3333333333333333,\"#9c179e\"],[0.4444444444444444,\"#bd3786\"],[0.5555555555555556,\"#d8576b\"],[0.6666666666666666,\"#ed7953\"],[0.7777777777777778,\"#fb9f3a\"],[0.8888888888888888,\"#fdca26\"],[1.0,\"#f0f921\"]],\"type\":\"histogram2d\"}],\"histogram2dcontour\":[{\"colorbar\":{\"outlinewidth\":0,\"ticks\":\"\"},\"colorscale\":[[0.0,\"#0d0887\"],[0.1111111111111111,\"#46039f\"],[0.2222222222222222,\"#7201a8\"],[0.3333333333333333,\"#9c179e\"],[0.4444444444444444,\"#bd3786\"],[0.5555555555555556,\"#d8576b\"],[0.6666666666666666,\"#ed7953\"],[0.7777777777777778,\"#fb9f3a\"],[0.8888888888888888,\"#fdca26\"],[1.0,\"#f0f921\"]],\"type\":\"histogram2dcontour\"}],\"mesh3d\":[{\"colorbar\":{\"outlinewidth\":0,\"ticks\":\"\"},\"type\":\"mesh3d\"}],\"parcoords\":[{\"line\":{\"colorbar\":{\"outlinewidth\":0,\"ticks\":\"\"}},\"type\":\"parcoords\"}],\"pie\":[{\"automargin\":true,\"type\":\"pie\"}],\"scatter\":[{\"marker\":{\"colorbar\":{\"outlinewidth\":0,\"ticks\":\"\"}},\"type\":\"scatter\"}],\"scatter3d\":[{\"line\":{\"colorbar\":{\"outlinewidth\":0,\"ticks\":\"\"}},\"marker\":{\"colorbar\":{\"outlinewidth\":0,\"ticks\":\"\"}},\"type\":\"scatter3d\"}],\"scattercarpet\":[{\"marker\":{\"colorbar\":{\"outlinewidth\":0,\"ticks\":\"\"}},\"type\":\"scattercarpet\"}],\"scattergeo\":[{\"marker\":{\"colorbar\":{\"outlinewidth\":0,\"ticks\":\"\"}},\"type\":\"scattergeo\"}],\"scattergl\":[{\"marker\":{\"colorbar\":{\"outlinewidth\":0,\"ticks\":\"\"}},\"type\":\"scattergl\"}],\"scattermapbox\":[{\"marker\":{\"colorbar\":{\"outlinewidth\":0,\"ticks\":\"\"}},\"type\":\"scattermapbox\"}],\"scatterpolar\":[{\"marker\":{\"colorbar\":{\"outlinewidth\":0,\"ticks\":\"\"}},\"type\":\"scatterpolar\"}],\"scatterpolargl\":[{\"marker\":{\"colorbar\":{\"outlinewidth\":0,\"ticks\":\"\"}},\"type\":\"scatterpolargl\"}],\"scatterternary\":[{\"marker\":{\"colorbar\":{\"outlinewidth\":0,\"ticks\":\"\"}},\"type\":\"scatterternary\"}],\"surface\":[{\"colorbar\":{\"outlinewidth\":0,\"ticks\":\"\"},\"colorscale\":[[0.0,\"#0d0887\"],[0.1111111111111111,\"#46039f\"],[0.2222222222222222,\"#7201a8\"],[0.3333333333333333,\"#9c179e\"],[0.4444444444444444,\"#bd3786\"],[0.5555555555555556,\"#d8576b\"],[0.6666666666666666,\"#ed7953\"],[0.7777777777777778,\"#fb9f3a\"],[0.8888888888888888,\"#fdca26\"],[1.0,\"#f0f921\"]],\"type\":\"surface\"}],\"table\":[{\"cells\":{\"fill\":{\"color\":\"#EBF0F8\"},\"line\":{\"color\":\"white\"}},\"header\":{\"fill\":{\"color\":\"#C8D4E3\"},\"line\":{\"color\":\"white\"}},\"type\":\"table\"}]},\"layout\":{\"annotationdefaults\":{\"arrowcolor\":\"#2a3f5f\",\"arrowhead\":0,\"arrowwidth\":1},\"autotypenumbers\":\"strict\",\"coloraxis\":{\"colorbar\":{\"outlinewidth\":0,\"ticks\":\"\"}},\"colorscale\":{\"diverging\":[[0,\"#8e0152\"],[0.1,\"#c51b7d\"],[0.2,\"#de77ae\"],[0.3,\"#f1b6da\"],[0.4,\"#fde0ef\"],[0.5,\"#f7f7f7\"],[0.6,\"#e6f5d0\"],[0.7,\"#b8e186\"],[0.8,\"#7fbc41\"],[0.9,\"#4d9221\"],[1,\"#276419\"]],\"sequential\":[[0.0,\"#0d0887\"],[0.1111111111111111,\"#46039f\"],[0.2222222222222222,\"#7201a8\"],[0.3333333333333333,\"#9c179e\"],[0.4444444444444444,\"#bd3786\"],[0.5555555555555556,\"#d8576b\"],[0.6666666666666666,\"#ed7953\"],[0.7777777777777778,\"#fb9f3a\"],[0.8888888888888888,\"#fdca26\"],[1.0,\"#f0f921\"]],\"sequentialminus\":[[0.0,\"#0d0887\"],[0.1111111111111111,\"#46039f\"],[0.2222222222222222,\"#7201a8\"],[0.3333333333333333,\"#9c179e\"],[0.4444444444444444,\"#bd3786\"],[0.5555555555555556,\"#d8576b\"],[0.6666666666666666,\"#ed7953\"],[0.7777777777777778,\"#fb9f3a\"],[0.8888888888888888,\"#fdca26\"],[1.0,\"#f0f921\"]]},\"colorway\":[\"#636efa\",\"#EF553B\",\"#00cc96\",\"#ab63fa\",\"#FFA15A\",\"#19d3f3\",\"#FF6692\",\"#B6E880\",\"#FF97FF\",\"#FECB52\"],\"font\":{\"color\":\"#2a3f5f\"},\"geo\":{\"bgcolor\":\"white\",\"lakecolor\":\"white\",\"landcolor\":\"#E5ECF6\",\"showlakes\":true,\"showland\":true,\"subunitcolor\":\"white\"},\"hoverlabel\":{\"align\":\"left\"},\"hovermode\":\"closest\",\"mapbox\":{\"style\":\"light\"},\"paper_bgcolor\":\"white\",\"plot_bgcolor\":\"#E5ECF6\",\"polar\":{\"angularaxis\":{\"gridcolor\":\"white\",\"linecolor\":\"white\",\"ticks\":\"\"},\"bgcolor\":\"#E5ECF6\",\"radialaxis\":{\"gridcolor\":\"white\",\"linecolor\":\"white\",\"ticks\":\"\"}},\"scene\":{\"xaxis\":{\"backgroundcolor\":\"#E5ECF6\",\"gridcolor\":\"white\",\"gridwidth\":2,\"linecolor\":\"white\",\"showbackground\":true,\"ticks\":\"\",\"zerolinecolor\":\"white\"},\"yaxis\":{\"backgroundcolor\":\"#E5ECF6\",\"gridcolor\":\"white\",\"gridwidth\":2,\"linecolor\":\"white\",\"showbackground\":true,\"ticks\":\"\",\"zerolinecolor\":\"white\"},\"zaxis\":{\"backgroundcolor\":\"#E5ECF6\",\"gridcolor\":\"white\",\"gridwidth\":2,\"linecolor\":\"white\",\"showbackground\":true,\"ticks\":\"\",\"zerolinecolor\":\"white\"}},\"shapedefaults\":{\"line\":{\"color\":\"#2a3f5f\"}},\"ternary\":{\"aaxis\":{\"gridcolor\":\"white\",\"linecolor\":\"white\",\"ticks\":\"\"},\"baxis\":{\"gridcolor\":\"white\",\"linecolor\":\"white\",\"ticks\":\"\"},\"bgcolor\":\"#E5ECF6\",\"caxis\":{\"gridcolor\":\"white\",\"linecolor\":\"white\",\"ticks\":\"\"}},\"title\":{\"x\":0.05},\"xaxis\":{\"automargin\":true,\"gridcolor\":\"white\",\"linecolor\":\"white\",\"ticks\":\"\",\"title\":{\"standoff\":15},\"zerolinecolor\":\"white\",\"zerolinewidth\":2},\"yaxis\":{\"automargin\":true,\"gridcolor\":\"white\",\"linecolor\":\"white\",\"ticks\":\"\",\"title\":{\"standoff\":15},\"zerolinecolor\":\"white\",\"zerolinewidth\":2}}}},                        {\"responsive\": true}                    ).then(function(){\n",
       "                            \n",
       "var gd = document.getElementById('e8f58a1d-1ba7-4732-a2bb-6f98cac6a3e3');\n",
       "var x = new MutationObserver(function (mutations, observer) {{\n",
       "        var display = window.getComputedStyle(gd).display;\n",
       "        if (!display || display === 'none') {{\n",
       "            console.log([gd, 'removed!']);\n",
       "            Plotly.purge(gd);\n",
       "            observer.disconnect();\n",
       "        }}\n",
       "}});\n",
       "\n",
       "// Listen for the removal of the full notebook cells\n",
       "var notebookContainer = gd.closest('#notebook-container');\n",
       "if (notebookContainer) {{\n",
       "    x.observe(notebookContainer, {childList: true});\n",
       "}}\n",
       "\n",
       "// Listen for the clearing of the current output cell\n",
       "var outputEl = gd.closest('.output');\n",
       "if (outputEl) {{\n",
       "    x.observe(outputEl, {childList: true});\n",
       "}}\n",
       "\n",
       "                        })                };                });            </script>        </div>"
      ]
     },
     "metadata": {},
     "output_type": "display_data"
    }
   ],
   "source": [
    "# import libraries for the chart\n",
    "import plotly.express as px\n",
    "import pandas as pd\n",
    "import plotly.figure_factory as ff\n",
    "df = pd.DataFrame([\n",
    "    dict(Task=\"Investigate & Develop Questions\", Start='2022-12-04', Finish='2022-12-11', Resource='Complete'),\n",
    "    dict(Task=\"Data Collection & Prep\", Start='2022-12-10', Finish='2022-12-18',  Resource='Incomplete'),\n",
    "    dict(Task=\"EDA & Statistics\", Start='2022-12-12', Finish='2022-12-22',  Resource='Incomplete'),\n",
    "    dict(Task=\"Machine Learning\", Start='2022-12-20', Finish='2022-12-22',  Resource='Not Started'),\n",
    "    dict(Task=\"Machine Learning\", Start='2022-12-27', Finish='2023-01-01',  Resource='Not Started'),\n",
    "    dict(Task=\"Report Writing \", Start='2022-12-18', Finish='2022-12-22',  Resource='Not Started'),\n",
    "    dict(Task=\"Report Writing \", Start='2022-12-27', Finish='2023-01-05',  Resource='Not Started'),\n",
    "    dict(Task=\"Submit \", Start='2023-01-06', Finish='2023-01-06',  Resource='Not Started')\n",
    "])\n",
    "\n",
    "colors = {'Not Started': 'rgb(220, 0, 0)',\n",
    "          'Incomplete': (1, 0.9, 0.16),\n",
    "          'Complete': 'rgb(0, 255, 100)'}\n",
    "\n",
    "fig = ff.create_gantt(df, colors=colors, index_col='Resource', show_colorbar=True,\n",
    "                      group_tasks=True)\n",
    "fig.show()"
   ]
  },
  {
   "cell_type": "markdown",
   "id": "0be13261",
   "metadata": {},
   "source": [
    "## Section 2.0 Exploratory Data Analysis (EDA)\n",
    "### 2.0.1 Import Data from the CSV file"
   ]
  },
  {
   "cell_type": "code",
   "execution_count": 105,
   "id": "7ad06957",
   "metadata": {
    "ExecuteTime": {
     "end_time": "2022-12-16T11:04:48.433735Z",
     "start_time": "2022-12-16T11:04:48.309023Z"
    }
   },
   "outputs": [],
   "source": [
    "# import the milk production data\n",
    "# encoding is added to overcome following error\n",
    "#UnicodeDecodeError: 'utf-8' codec can't decode byte 0xe9 in position 103043: invalid continuation byte\n",
    "lp_df = pd.read_csv('datasets/livestock_products.csv', encoding='latin-1') \n",
    "\n"
   ]
  },
  {
   "cell_type": "code",
   "execution_count": 439,
   "id": "52803a0b",
   "metadata": {
    "ExecuteTime": {
     "end_time": "2022-12-20T14:22:54.743083Z",
     "start_time": "2022-12-20T14:22:54.123241Z"
    }
   },
   "outputs": [],
   "source": [
    "# import the propulaton data\n",
    "# encoding is added to overcome following error\n",
    "#UnicodeDecodeError: 'utf-8' codec can't decode byte 0xe9 in position 103043: invalid continuation byte\n",
    "wpt_df = pd.read_csv('datasets/world_populations_total.csv', encoding='latin-1') \n"
   ]
  },
  {
   "cell_type": "markdown",
   "id": "a4b6de30",
   "metadata": {},
   "source": [
    "### 2.0.2 Exploring the data"
   ]
  },
  {
   "cell_type": "code",
   "execution_count": 107,
   "id": "cb974a3f",
   "metadata": {
    "ExecuteTime": {
     "end_time": "2022-12-16T11:04:48.918718Z",
     "start_time": "2022-12-16T11:04:48.886769Z"
    }
   },
   "outputs": [
    {
     "data": {
      "text/html": [
       "<div>\n",
       "<style scoped>\n",
       "    .dataframe tbody tr th:only-of-type {\n",
       "        vertical-align: middle;\n",
       "    }\n",
       "\n",
       "    .dataframe tbody tr th {\n",
       "        vertical-align: top;\n",
       "    }\n",
       "\n",
       "    .dataframe thead th {\n",
       "        text-align: right;\n",
       "    }\n",
       "</style>\n",
       "<table border=\"1\" class=\"dataframe\">\n",
       "  <thead>\n",
       "    <tr style=\"text-align: right;\">\n",
       "      <th></th>\n",
       "      <th>ï»¿Domain_Code</th>\n",
       "      <th>Domain</th>\n",
       "      <th>Area Code</th>\n",
       "      <th>Area</th>\n",
       "      <th>Element_Code</th>\n",
       "      <th>Element</th>\n",
       "      <th>Item_Code</th>\n",
       "      <th>Item</th>\n",
       "      <th>Year_Code</th>\n",
       "      <th>Year</th>\n",
       "      <th>Unit</th>\n",
       "      <th>Value</th>\n",
       "      <th>Flag</th>\n",
       "      <th>Flag Description</th>\n",
       "    </tr>\n",
       "  </thead>\n",
       "  <tbody>\n",
       "    <tr>\n",
       "      <th>0</th>\n",
       "      <td>QCL</td>\n",
       "      <td>Crops and livestock products</td>\n",
       "      <td>2</td>\n",
       "      <td>Afghanistan</td>\n",
       "      <td>5420</td>\n",
       "      <td>Yield</td>\n",
       "      <td>1780</td>\n",
       "      <td>Milk</td>\n",
       "      <td>1961</td>\n",
       "      <td>1961</td>\n",
       "      <td>hg/An</td>\n",
       "      <td>753.0</td>\n",
       "      <td>E</td>\n",
       "      <td>Estimated value</td>\n",
       "    </tr>\n",
       "    <tr>\n",
       "      <th>1</th>\n",
       "      <td>QCL</td>\n",
       "      <td>Crops and livestock products</td>\n",
       "      <td>2</td>\n",
       "      <td>Afghanistan</td>\n",
       "      <td>5420</td>\n",
       "      <td>Yield</td>\n",
       "      <td>1780</td>\n",
       "      <td>Milk</td>\n",
       "      <td>1962</td>\n",
       "      <td>1962</td>\n",
       "      <td>hg/An</td>\n",
       "      <td>752.0</td>\n",
       "      <td>E</td>\n",
       "      <td>Estimated value</td>\n",
       "    </tr>\n",
       "    <tr>\n",
       "      <th>2</th>\n",
       "      <td>QCL</td>\n",
       "      <td>Crops and livestock products</td>\n",
       "      <td>2</td>\n",
       "      <td>Afghanistan</td>\n",
       "      <td>5420</td>\n",
       "      <td>Yield</td>\n",
       "      <td>1780</td>\n",
       "      <td>Milk</td>\n",
       "      <td>1963</td>\n",
       "      <td>1963</td>\n",
       "      <td>hg/An</td>\n",
       "      <td>779.0</td>\n",
       "      <td>E</td>\n",
       "      <td>Estimated value</td>\n",
       "    </tr>\n",
       "    <tr>\n",
       "      <th>3</th>\n",
       "      <td>QCL</td>\n",
       "      <td>Crops and livestock products</td>\n",
       "      <td>2</td>\n",
       "      <td>Afghanistan</td>\n",
       "      <td>5420</td>\n",
       "      <td>Yield</td>\n",
       "      <td>1780</td>\n",
       "      <td>Milk</td>\n",
       "      <td>1964</td>\n",
       "      <td>1964</td>\n",
       "      <td>hg/An</td>\n",
       "      <td>753.0</td>\n",
       "      <td>E</td>\n",
       "      <td>Estimated value</td>\n",
       "    </tr>\n",
       "    <tr>\n",
       "      <th>4</th>\n",
       "      <td>QCL</td>\n",
       "      <td>Crops and livestock products</td>\n",
       "      <td>2</td>\n",
       "      <td>Afghanistan</td>\n",
       "      <td>5420</td>\n",
       "      <td>Yield</td>\n",
       "      <td>1780</td>\n",
       "      <td>Milk</td>\n",
       "      <td>1965</td>\n",
       "      <td>1965</td>\n",
       "      <td>hg/An</td>\n",
       "      <td>784.0</td>\n",
       "      <td>E</td>\n",
       "      <td>Estimated value</td>\n",
       "    </tr>\n",
       "  </tbody>\n",
       "</table>\n",
       "</div>"
      ],
      "text/plain": [
       "  ï»¿Domain_Code                        Domain  Area Code         Area  \\\n",
       "0            QCL  Crops and livestock products          2  Afghanistan   \n",
       "1            QCL  Crops and livestock products          2  Afghanistan   \n",
       "2            QCL  Crops and livestock products          2  Afghanistan   \n",
       "3            QCL  Crops and livestock products          2  Afghanistan   \n",
       "4            QCL  Crops and livestock products          2  Afghanistan   \n",
       "\n",
       "   Element_Code Element  Item_Code  Item  Year_Code  Year   Unit  Value Flag  \\\n",
       "0          5420   Yield       1780  Milk       1961  1961  hg/An  753.0    E   \n",
       "1          5420   Yield       1780  Milk       1962  1962  hg/An  752.0    E   \n",
       "2          5420   Yield       1780  Milk       1963  1963  hg/An  779.0    E   \n",
       "3          5420   Yield       1780  Milk       1964  1964  hg/An  753.0    E   \n",
       "4          5420   Yield       1780  Milk       1965  1965  hg/An  784.0    E   \n",
       "\n",
       "  Flag Description  \n",
       "0  Estimated value  \n",
       "1  Estimated value  \n",
       "2  Estimated value  \n",
       "3  Estimated value  \n",
       "4  Estimated value  "
      ]
     },
     "execution_count": 107,
     "metadata": {},
     "output_type": "execute_result"
    }
   ],
   "source": [
    "lp_df.head() # default shows first 5 rows"
   ]
  },
  {
   "cell_type": "code",
   "execution_count": 441,
   "id": "5f96ecd2",
   "metadata": {
    "ExecuteTime": {
     "end_time": "2022-12-20T14:23:15.428550Z",
     "start_time": "2022-12-20T14:23:15.399622Z"
    }
   },
   "outputs": [
    {
     "data": {
      "text/html": [
       "<div>\n",
       "<style scoped>\n",
       "    .dataframe tbody tr th:only-of-type {\n",
       "        vertical-align: middle;\n",
       "    }\n",
       "\n",
       "    .dataframe tbody tr th {\n",
       "        vertical-align: top;\n",
       "    }\n",
       "\n",
       "    .dataframe thead th {\n",
       "        text-align: right;\n",
       "    }\n",
       "</style>\n",
       "<table border=\"1\" class=\"dataframe\">\n",
       "  <thead>\n",
       "    <tr style=\"text-align: right;\">\n",
       "      <th></th>\n",
       "      <th>ï»¿Country_Name</th>\n",
       "      <th>Country_Code</th>\n",
       "      <th>Indicator_Name</th>\n",
       "      <th>Indicator_Code</th>\n",
       "      <th>Year</th>\n",
       "      <th>Human_Population_Total</th>\n",
       "      <th>Human_Populationin_agriculture</th>\n",
       "      <th>Human_Populationin_agriculturePercent</th>\n",
       "    </tr>\n",
       "  </thead>\n",
       "  <tbody>\n",
       "    <tr>\n",
       "      <th>0</th>\n",
       "      <td>Afghanistan</td>\n",
       "      <td>AFG</td>\n",
       "      <td>Population total</td>\n",
       "      <td>SP.POP.TOTL</td>\n",
       "      <td>1960</td>\n",
       "      <td>8996967.0</td>\n",
       "      <td>NaN</td>\n",
       "      <td>NaN</td>\n",
       "    </tr>\n",
       "    <tr>\n",
       "      <th>1</th>\n",
       "      <td>Afghanistan</td>\n",
       "      <td>AFG</td>\n",
       "      <td>Population total</td>\n",
       "      <td>SP.POP.TOTL</td>\n",
       "      <td>1961</td>\n",
       "      <td>9169406.0</td>\n",
       "      <td>NaN</td>\n",
       "      <td>NaN</td>\n",
       "    </tr>\n",
       "    <tr>\n",
       "      <th>2</th>\n",
       "      <td>Afghanistan</td>\n",
       "      <td>AFG</td>\n",
       "      <td>Population total</td>\n",
       "      <td>SP.POP.TOTL</td>\n",
       "      <td>1962</td>\n",
       "      <td>9351442.0</td>\n",
       "      <td>NaN</td>\n",
       "      <td>NaN</td>\n",
       "    </tr>\n",
       "    <tr>\n",
       "      <th>3</th>\n",
       "      <td>Afghanistan</td>\n",
       "      <td>AFG</td>\n",
       "      <td>Population total</td>\n",
       "      <td>SP.POP.TOTL</td>\n",
       "      <td>1963</td>\n",
       "      <td>9543200.0</td>\n",
       "      <td>NaN</td>\n",
       "      <td>NaN</td>\n",
       "    </tr>\n",
       "    <tr>\n",
       "      <th>4</th>\n",
       "      <td>Afghanistan</td>\n",
       "      <td>AFG</td>\n",
       "      <td>Population total</td>\n",
       "      <td>SP.POP.TOTL</td>\n",
       "      <td>1964</td>\n",
       "      <td>9744772.0</td>\n",
       "      <td>NaN</td>\n",
       "      <td>NaN</td>\n",
       "    </tr>\n",
       "  </tbody>\n",
       "</table>\n",
       "</div>"
      ],
      "text/plain": [
       "  ï»¿Country_Name Country_Code    Indicator_Name Indicator_Code  Year  \\\n",
       "0     Afghanistan          AFG  Population total    SP.POP.TOTL  1960   \n",
       "1     Afghanistan          AFG  Population total    SP.POP.TOTL  1961   \n",
       "2     Afghanistan          AFG  Population total    SP.POP.TOTL  1962   \n",
       "3     Afghanistan          AFG  Population total    SP.POP.TOTL  1963   \n",
       "4     Afghanistan          AFG  Population total    SP.POP.TOTL  1964   \n",
       "\n",
       "   Human_Population_Total  Human_Populationin_agriculture  \\\n",
       "0               8996967.0                             NaN   \n",
       "1               9169406.0                             NaN   \n",
       "2               9351442.0                             NaN   \n",
       "3               9543200.0                             NaN   \n",
       "4               9744772.0                             NaN   \n",
       "\n",
       "   Human_Populationin_agriculturePercent  \n",
       "0                                    NaN  \n",
       "1                                    NaN  \n",
       "2                                    NaN  \n",
       "3                                    NaN  \n",
       "4                                    NaN  "
      ]
     },
     "execution_count": 441,
     "metadata": {},
     "output_type": "execute_result"
    }
   ],
   "source": [
    "wpt_df.head() # default shows first 5 rows"
   ]
  },
  {
   "cell_type": "code",
   "execution_count": 109,
   "id": "412a8354",
   "metadata": {
    "ExecuteTime": {
     "end_time": "2022-12-16T11:04:49.324683Z",
     "start_time": "2022-12-16T11:04:49.288779Z"
    }
   },
   "outputs": [
    {
     "data": {
      "text/html": [
       "<div>\n",
       "<style scoped>\n",
       "    .dataframe tbody tr th:only-of-type {\n",
       "        vertical-align: middle;\n",
       "    }\n",
       "\n",
       "    .dataframe tbody tr th {\n",
       "        vertical-align: top;\n",
       "    }\n",
       "\n",
       "    .dataframe thead th {\n",
       "        text-align: right;\n",
       "    }\n",
       "</style>\n",
       "<table border=\"1\" class=\"dataframe\">\n",
       "  <thead>\n",
       "    <tr style=\"text-align: right;\">\n",
       "      <th></th>\n",
       "      <th>ï»¿Domain_Code</th>\n",
       "      <th>Domain</th>\n",
       "      <th>Area Code</th>\n",
       "      <th>Area</th>\n",
       "      <th>Element_Code</th>\n",
       "      <th>Element</th>\n",
       "      <th>Item_Code</th>\n",
       "      <th>Item</th>\n",
       "      <th>Year_Code</th>\n",
       "      <th>Year</th>\n",
       "      <th>Unit</th>\n",
       "      <th>Value</th>\n",
       "      <th>Flag</th>\n",
       "      <th>Flag Description</th>\n",
       "    </tr>\n",
       "  </thead>\n",
       "  <tbody>\n",
       "    <tr>\n",
       "      <th>37660</th>\n",
       "      <td>QCL</td>\n",
       "      <td>Crops and livestock products</td>\n",
       "      <td>5817</td>\n",
       "      <td>Net Food Importing Developing Countries</td>\n",
       "      <td>5318</td>\n",
       "      <td>Milk Animals</td>\n",
       "      <td>1780</td>\n",
       "      <td>Milk</td>\n",
       "      <td>2016</td>\n",
       "      <td>2016</td>\n",
       "      <td>Head</td>\n",
       "      <td>330972903.0</td>\n",
       "      <td>E</td>\n",
       "      <td>Estimated value</td>\n",
       "    </tr>\n",
       "    <tr>\n",
       "      <th>37661</th>\n",
       "      <td>QCL</td>\n",
       "      <td>Crops and livestock products</td>\n",
       "      <td>5817</td>\n",
       "      <td>Net Food Importing Developing Countries</td>\n",
       "      <td>5318</td>\n",
       "      <td>Milk Animals</td>\n",
       "      <td>1780</td>\n",
       "      <td>Milk</td>\n",
       "      <td>2017</td>\n",
       "      <td>2017</td>\n",
       "      <td>Head</td>\n",
       "      <td>332781005.0</td>\n",
       "      <td>E</td>\n",
       "      <td>Estimated value</td>\n",
       "    </tr>\n",
       "    <tr>\n",
       "      <th>37662</th>\n",
       "      <td>QCL</td>\n",
       "      <td>Crops and livestock products</td>\n",
       "      <td>5817</td>\n",
       "      <td>Net Food Importing Developing Countries</td>\n",
       "      <td>5318</td>\n",
       "      <td>Milk Animals</td>\n",
       "      <td>1780</td>\n",
       "      <td>Milk</td>\n",
       "      <td>2018</td>\n",
       "      <td>2018</td>\n",
       "      <td>Head</td>\n",
       "      <td>333856329.0</td>\n",
       "      <td>E</td>\n",
       "      <td>Estimated value</td>\n",
       "    </tr>\n",
       "    <tr>\n",
       "      <th>37663</th>\n",
       "      <td>QCL</td>\n",
       "      <td>Crops and livestock products</td>\n",
       "      <td>5817</td>\n",
       "      <td>Net Food Importing Developing Countries</td>\n",
       "      <td>5318</td>\n",
       "      <td>Milk Animals</td>\n",
       "      <td>1780</td>\n",
       "      <td>Milk</td>\n",
       "      <td>2019</td>\n",
       "      <td>2019</td>\n",
       "      <td>Head</td>\n",
       "      <td>350949439.0</td>\n",
       "      <td>E</td>\n",
       "      <td>Estimated value</td>\n",
       "    </tr>\n",
       "    <tr>\n",
       "      <th>37664</th>\n",
       "      <td>QCL</td>\n",
       "      <td>Crops and livestock products</td>\n",
       "      <td>5817</td>\n",
       "      <td>Net Food Importing Developing Countries</td>\n",
       "      <td>5318</td>\n",
       "      <td>Milk Animals</td>\n",
       "      <td>1780</td>\n",
       "      <td>Milk</td>\n",
       "      <td>2020</td>\n",
       "      <td>2020</td>\n",
       "      <td>Head</td>\n",
       "      <td>346548351.0</td>\n",
       "      <td>E</td>\n",
       "      <td>Estimated value</td>\n",
       "    </tr>\n",
       "  </tbody>\n",
       "</table>\n",
       "</div>"
      ],
      "text/plain": [
       "      ï»¿Domain_Code                        Domain  Area Code  \\\n",
       "37660            QCL  Crops and livestock products       5817   \n",
       "37661            QCL  Crops and livestock products       5817   \n",
       "37662            QCL  Crops and livestock products       5817   \n",
       "37663            QCL  Crops and livestock products       5817   \n",
       "37664            QCL  Crops and livestock products       5817   \n",
       "\n",
       "                                          Area  Element_Code       Element  \\\n",
       "37660  Net Food Importing Developing Countries          5318  Milk Animals   \n",
       "37661  Net Food Importing Developing Countries          5318  Milk Animals   \n",
       "37662  Net Food Importing Developing Countries          5318  Milk Animals   \n",
       "37663  Net Food Importing Developing Countries          5318  Milk Animals   \n",
       "37664  Net Food Importing Developing Countries          5318  Milk Animals   \n",
       "\n",
       "       Item_Code  Item  Year_Code  Year  Unit        Value Flag  \\\n",
       "37660       1780  Milk       2016  2016  Head  330972903.0    E   \n",
       "37661       1780  Milk       2017  2017  Head  332781005.0    E   \n",
       "37662       1780  Milk       2018  2018  Head  333856329.0    E   \n",
       "37663       1780  Milk       2019  2019  Head  350949439.0    E   \n",
       "37664       1780  Milk       2020  2020  Head  346548351.0    E   \n",
       "\n",
       "      Flag Description  \n",
       "37660  Estimated value  \n",
       "37661  Estimated value  \n",
       "37662  Estimated value  \n",
       "37663  Estimated value  \n",
       "37664  Estimated value  "
      ]
     },
     "execution_count": 109,
     "metadata": {},
     "output_type": "execute_result"
    }
   ],
   "source": [
    "lp_df.tail() # default shows last 5 rows"
   ]
  },
  {
   "cell_type": "code",
   "execution_count": 442,
   "id": "61fdc3fb",
   "metadata": {
    "ExecuteTime": {
     "end_time": "2022-12-20T14:23:19.208222Z",
     "start_time": "2022-12-20T14:23:19.160349Z"
    }
   },
   "outputs": [
    {
     "data": {
      "text/html": [
       "<div>\n",
       "<style scoped>\n",
       "    .dataframe tbody tr th:only-of-type {\n",
       "        vertical-align: middle;\n",
       "    }\n",
       "\n",
       "    .dataframe tbody tr th {\n",
       "        vertical-align: top;\n",
       "    }\n",
       "\n",
       "    .dataframe thead th {\n",
       "        text-align: right;\n",
       "    }\n",
       "</style>\n",
       "<table border=\"1\" class=\"dataframe\">\n",
       "  <thead>\n",
       "    <tr style=\"text-align: right;\">\n",
       "      <th></th>\n",
       "      <th>ï»¿Country_Name</th>\n",
       "      <th>Country_Code</th>\n",
       "      <th>Indicator_Name</th>\n",
       "      <th>Indicator_Code</th>\n",
       "      <th>Year</th>\n",
       "      <th>Human_Population_Total</th>\n",
       "      <th>Human_Populationin_agriculture</th>\n",
       "      <th>Human_Populationin_agriculturePercent</th>\n",
       "    </tr>\n",
       "  </thead>\n",
       "  <tbody>\n",
       "    <tr>\n",
       "      <th>16160</th>\n",
       "      <td>Zimbabwe</td>\n",
       "      <td>ZWE</td>\n",
       "      <td>Population total</td>\n",
       "      <td>SP.POP.TOTL</td>\n",
       "      <td>2016</td>\n",
       "      <td>14030338.0</td>\n",
       "      <td>9383490.0</td>\n",
       "      <td>66.879997</td>\n",
       "    </tr>\n",
       "    <tr>\n",
       "      <th>16161</th>\n",
       "      <td>Zimbabwe</td>\n",
       "      <td>ZWE</td>\n",
       "      <td>Population total</td>\n",
       "      <td>SP.POP.TOTL</td>\n",
       "      <td>2017</td>\n",
       "      <td>14236599.0</td>\n",
       "      <td>9464491.0</td>\n",
       "      <td>66.480003</td>\n",
       "    </tr>\n",
       "    <tr>\n",
       "      <th>16162</th>\n",
       "      <td>Zimbabwe</td>\n",
       "      <td>ZWE</td>\n",
       "      <td>Population total</td>\n",
       "      <td>SP.POP.TOTL</td>\n",
       "      <td>2018</td>\n",
       "      <td>14438812.0</td>\n",
       "      <td>9532503.0</td>\n",
       "      <td>66.019997</td>\n",
       "    </tr>\n",
       "    <tr>\n",
       "      <th>16163</th>\n",
       "      <td>Zimbabwe</td>\n",
       "      <td>ZWE</td>\n",
       "      <td>Population total</td>\n",
       "      <td>SP.POP.TOTL</td>\n",
       "      <td>2019</td>\n",
       "      <td>14645473.0</td>\n",
       "      <td>9693839.0</td>\n",
       "      <td>66.190002</td>\n",
       "    </tr>\n",
       "    <tr>\n",
       "      <th>16164</th>\n",
       "      <td>Zimbabwe</td>\n",
       "      <td>ZWE</td>\n",
       "      <td>Population total</td>\n",
       "      <td>SP.POP.TOTL</td>\n",
       "      <td>2020</td>\n",
       "      <td>14862927.0</td>\n",
       "      <td>NaN</td>\n",
       "      <td>NaN</td>\n",
       "    </tr>\n",
       "  </tbody>\n",
       "</table>\n",
       "</div>"
      ],
      "text/plain": [
       "      ï»¿Country_Name Country_Code    Indicator_Name Indicator_Code  Year  \\\n",
       "16160        Zimbabwe          ZWE  Population total    SP.POP.TOTL  2016   \n",
       "16161        Zimbabwe          ZWE  Population total    SP.POP.TOTL  2017   \n",
       "16162        Zimbabwe          ZWE  Population total    SP.POP.TOTL  2018   \n",
       "16163        Zimbabwe          ZWE  Population total    SP.POP.TOTL  2019   \n",
       "16164        Zimbabwe          ZWE  Population total    SP.POP.TOTL  2020   \n",
       "\n",
       "       Human_Population_Total  Human_Populationin_agriculture  \\\n",
       "16160              14030338.0                       9383490.0   \n",
       "16161              14236599.0                       9464491.0   \n",
       "16162              14438812.0                       9532503.0   \n",
       "16163              14645473.0                       9693839.0   \n",
       "16164              14862927.0                             NaN   \n",
       "\n",
       "       Human_Populationin_agriculturePercent  \n",
       "16160                              66.879997  \n",
       "16161                              66.480003  \n",
       "16162                              66.019997  \n",
       "16163                              66.190002  \n",
       "16164                                    NaN  "
      ]
     },
     "execution_count": 442,
     "metadata": {},
     "output_type": "execute_result"
    }
   ],
   "source": [
    "wpt_df.tail() # default shows last 5 rows"
   ]
  },
  {
   "cell_type": "code",
   "execution_count": 265,
   "id": "74c6d160",
   "metadata": {
    "ExecuteTime": {
     "end_time": "2022-12-18T12:28:24.555344Z",
     "start_time": "2022-12-18T12:28:24.528385Z"
    }
   },
   "outputs": [
    {
     "data": {
      "text/plain": [
       "Index(['Domain_Code', 'Domain', 'Area Code', 'Area', 'Element_Code', 'Element',\n",
       "       'Item_Code', 'Item', 'Year_Code', 'Year', 'Unit', 'Value', 'Flag',\n",
       "       'Flag Description'],\n",
       "      dtype='object')"
      ]
     },
     "execution_count": 265,
     "metadata": {},
     "output_type": "execute_result"
    }
   ],
   "source": [
    "lp_df.columns # this will list all the column names\n"
   ]
  },
  {
   "cell_type": "code",
   "execution_count": 443,
   "id": "444e7837",
   "metadata": {
    "ExecuteTime": {
     "end_time": "2022-12-20T14:23:36.427183Z",
     "start_time": "2022-12-20T14:23:36.402248Z"
    }
   },
   "outputs": [
    {
     "data": {
      "text/plain": [
       "Index(['ï»¿Country_Name', 'Country_Code', 'Indicator_Name', 'Indicator_Code',\n",
       "       'Year', 'Human_Population_Total', 'Human_Populationin_agriculture',\n",
       "       'Human_Populationin_agriculturePercent'],\n",
       "      dtype='object')"
      ]
     },
     "execution_count": 443,
     "metadata": {},
     "output_type": "execute_result"
    }
   ],
   "source": [
    "wpt_df.columns # this will list all the column names"
   ]
  },
  {
   "cell_type": "code",
   "execution_count": 113,
   "id": "9b26d626",
   "metadata": {
    "ExecuteTime": {
     "end_time": "2022-12-16T11:04:50.148607Z",
     "start_time": "2022-12-16T11:04:50.126662Z"
    }
   },
   "outputs": [],
   "source": [
    "# upon observation noticed that some column name need to be fixed\n",
    "# i identified the column name and remaned it\n",
    "#fix column name in data frame lp_df\n",
    "lp_df.rename(columns = {'ï»¿Domain_Code':'Domain_Code'}, inplace = True)\n"
   ]
  },
  {
   "cell_type": "code",
   "execution_count": 444,
   "id": "f91510e6",
   "metadata": {
    "ExecuteTime": {
     "end_time": "2022-12-20T14:23:39.917488Z",
     "start_time": "2022-12-20T14:23:39.892558Z"
    }
   },
   "outputs": [],
   "source": [
    "# upon observation noticed that some column name need to be fixed\n",
    "# i identified the column name and remaned it\n",
    "#fix column name in data frame wpt_df\n",
    "wpt_df.rename(columns = {'ï»¿Country_Name':'Country_Name'}, inplace = True)"
   ]
  },
  {
   "cell_type": "code",
   "execution_count": 115,
   "id": "ef2b3e5f",
   "metadata": {
    "ExecuteTime": {
     "end_time": "2022-12-16T11:04:50.503982Z",
     "start_time": "2022-12-16T11:04:50.495006Z"
    }
   },
   "outputs": [
    {
     "data": {
      "text/plain": [
       "Domain_Code          object\n",
       "Domain               object\n",
       "Area Code             int64\n",
       "Area                 object\n",
       "Element_Code          int64\n",
       "Element              object\n",
       "Item_Code             int64\n",
       "Item                 object\n",
       "Year_Code             int64\n",
       "Year                  int64\n",
       "Unit                 object\n",
       "Value               float64\n",
       "Flag                 object\n",
       "Flag Description     object\n",
       "dtype: object"
      ]
     },
     "execution_count": 115,
     "metadata": {},
     "output_type": "execute_result"
    }
   ],
   "source": [
    "lp_df.dtypes # data type for each variable in the dataframe"
   ]
  },
  {
   "cell_type": "code",
   "execution_count": 445,
   "id": "775e3140",
   "metadata": {
    "ExecuteTime": {
     "end_time": "2022-12-20T14:23:42.799536Z",
     "start_time": "2022-12-20T14:23:42.771608Z"
    }
   },
   "outputs": [
    {
     "data": {
      "text/plain": [
       "Country_Name                              object\n",
       "Country_Code                              object\n",
       "Indicator_Name                            object\n",
       "Indicator_Code                            object\n",
       "Year                                       int64\n",
       "Human_Population_Total                   float64\n",
       "Human_Populationin_agriculture           float64\n",
       "Human_Populationin_agriculturePercent    float64\n",
       "dtype: object"
      ]
     },
     "execution_count": 445,
     "metadata": {},
     "output_type": "execute_result"
    }
   ],
   "source": [
    "wpt_df.dtypes # data type for each variable in the dataframe"
   ]
  },
  {
   "cell_type": "code",
   "execution_count": 117,
   "id": "60d5a382",
   "metadata": {
    "ExecuteTime": {
     "end_time": "2022-12-16T11:04:51.068613Z",
     "start_time": "2022-12-16T11:04:50.861996Z"
    }
   },
   "outputs": [
    {
     "data": {
      "text/html": [
       "<div>\n",
       "<style scoped>\n",
       "    .dataframe tbody tr th:only-of-type {\n",
       "        vertical-align: middle;\n",
       "    }\n",
       "\n",
       "    .dataframe tbody tr th {\n",
       "        vertical-align: top;\n",
       "    }\n",
       "\n",
       "    .dataframe thead th {\n",
       "        text-align: right;\n",
       "    }\n",
       "</style>\n",
       "<table border=\"1\" class=\"dataframe\">\n",
       "  <thead>\n",
       "    <tr style=\"text-align: right;\">\n",
       "      <th></th>\n",
       "      <th>1960</th>\n",
       "      <th>1961</th>\n",
       "      <th>1962</th>\n",
       "      <th>1963</th>\n",
       "      <th>1964</th>\n",
       "      <th>1965</th>\n",
       "      <th>1966</th>\n",
       "      <th>1967</th>\n",
       "      <th>1968</th>\n",
       "      <th>1969</th>\n",
       "      <th>...</th>\n",
       "      <th>2013</th>\n",
       "      <th>2014</th>\n",
       "      <th>2015</th>\n",
       "      <th>2016</th>\n",
       "      <th>2017</th>\n",
       "      <th>2018</th>\n",
       "      <th>2019</th>\n",
       "      <th>2020</th>\n",
       "      <th>2021</th>\n",
       "      <th>Unnamed: 66</th>\n",
       "    </tr>\n",
       "  </thead>\n",
       "  <tbody>\n",
       "    <tr>\n",
       "      <th>count</th>\n",
       "      <td>2.640000e+02</td>\n",
       "      <td>2.640000e+02</td>\n",
       "      <td>2.640000e+02</td>\n",
       "      <td>2.640000e+02</td>\n",
       "      <td>2.640000e+02</td>\n",
       "      <td>2.640000e+02</td>\n",
       "      <td>2.640000e+02</td>\n",
       "      <td>2.640000e+02</td>\n",
       "      <td>2.640000e+02</td>\n",
       "      <td>2.640000e+02</td>\n",
       "      <td>...</td>\n",
       "      <td>2.640000e+02</td>\n",
       "      <td>2.640000e+02</td>\n",
       "      <td>2.640000e+02</td>\n",
       "      <td>2.640000e+02</td>\n",
       "      <td>2.640000e+02</td>\n",
       "      <td>2.640000e+02</td>\n",
       "      <td>2.640000e+02</td>\n",
       "      <td>2.640000e+02</td>\n",
       "      <td>2.640000e+02</td>\n",
       "      <td>0.0</td>\n",
       "    </tr>\n",
       "    <tr>\n",
       "      <th>mean</th>\n",
       "      <td>1.172174e+08</td>\n",
       "      <td>1.187633e+08</td>\n",
       "      <td>1.208717e+08</td>\n",
       "      <td>1.234910e+08</td>\n",
       "      <td>1.261315e+08</td>\n",
       "      <td>1.288372e+08</td>\n",
       "      <td>1.316853e+08</td>\n",
       "      <td>1.345256e+08</td>\n",
       "      <td>1.374350e+08</td>\n",
       "      <td>1.404490e+08</td>\n",
       "      <td>...</td>\n",
       "      <td>2.912969e+08</td>\n",
       "      <td>2.951160e+08</td>\n",
       "      <td>2.989277e+08</td>\n",
       "      <td>3.027560e+08</td>\n",
       "      <td>3.065980e+08</td>\n",
       "      <td>3.103591e+08</td>\n",
       "      <td>3.140425e+08</td>\n",
       "      <td>3.176734e+08</td>\n",
       "      <td>3.210893e+08</td>\n",
       "      <td>NaN</td>\n",
       "    </tr>\n",
       "    <tr>\n",
       "      <th>std</th>\n",
       "      <td>3.695745e+08</td>\n",
       "      <td>3.739180e+08</td>\n",
       "      <td>3.804316e+08</td>\n",
       "      <td>3.889142e+08</td>\n",
       "      <td>3.974401e+08</td>\n",
       "      <td>4.062000e+08</td>\n",
       "      <td>4.155171e+08</td>\n",
       "      <td>4.247722e+08</td>\n",
       "      <td>4.342805e+08</td>\n",
       "      <td>4.441772e+08</td>\n",
       "      <td>...</td>\n",
       "      <td>9.129343e+08</td>\n",
       "      <td>9.241050e+08</td>\n",
       "      <td>9.352101e+08</td>\n",
       "      <td>9.463321e+08</td>\n",
       "      <td>9.575052e+08</td>\n",
       "      <td>9.683483e+08</td>\n",
       "      <td>9.788967e+08</td>\n",
       "      <td>9.891628e+08</td>\n",
       "      <td>9.988295e+08</td>\n",
       "      <td>NaN</td>\n",
       "    </tr>\n",
       "    <tr>\n",
       "      <th>min</th>\n",
       "      <td>2.833000e+03</td>\n",
       "      <td>3.077000e+03</td>\n",
       "      <td>3.367000e+03</td>\n",
       "      <td>3.703000e+03</td>\n",
       "      <td>4.063000e+03</td>\n",
       "      <td>4.460000e+03</td>\n",
       "      <td>4.675000e+03</td>\n",
       "      <td>4.922000e+03</td>\n",
       "      <td>5.194000e+03</td>\n",
       "      <td>5.461000e+03</td>\n",
       "      <td>...</td>\n",
       "      <td>1.020800e+04</td>\n",
       "      <td>1.028900e+04</td>\n",
       "      <td>1.037400e+04</td>\n",
       "      <td>1.047400e+04</td>\n",
       "      <td>1.057700e+04</td>\n",
       "      <td>1.067800e+04</td>\n",
       "      <td>1.076400e+04</td>\n",
       "      <td>1.083400e+04</td>\n",
       "      <td>1.087300e+04</td>\n",
       "      <td>NaN</td>\n",
       "    </tr>\n",
       "    <tr>\n",
       "      <th>25%</th>\n",
       "      <td>5.022802e+05</td>\n",
       "      <td>5.109642e+05</td>\n",
       "      <td>5.206540e+05</td>\n",
       "      <td>5.311622e+05</td>\n",
       "      <td>5.421252e+05</td>\n",
       "      <td>5.533362e+05</td>\n",
       "      <td>5.647475e+05</td>\n",
       "      <td>5.823645e+05</td>\n",
       "      <td>5.981078e+05</td>\n",
       "      <td>6.100030e+05</td>\n",
       "      <td>...</td>\n",
       "      <td>1.574621e+06</td>\n",
       "      <td>1.609909e+06</td>\n",
       "      <td>1.645868e+06</td>\n",
       "      <td>1.689616e+06</td>\n",
       "      <td>1.716772e+06</td>\n",
       "      <td>1.740174e+06</td>\n",
       "      <td>1.751950e+06</td>\n",
       "      <td>1.767996e+06</td>\n",
       "      <td>1.791783e+06</td>\n",
       "      <td>NaN</td>\n",
       "    </tr>\n",
       "    <tr>\n",
       "      <th>50%</th>\n",
       "      <td>3.718330e+06</td>\n",
       "      <td>3.826398e+06</td>\n",
       "      <td>3.929109e+06</td>\n",
       "      <td>4.015834e+06</td>\n",
       "      <td>4.124521e+06</td>\n",
       "      <td>4.242788e+06</td>\n",
       "      <td>4.326013e+06</td>\n",
       "      <td>4.387887e+06</td>\n",
       "      <td>4.474171e+06</td>\n",
       "      <td>4.550402e+06</td>\n",
       "      <td>...</td>\n",
       "      <td>9.948838e+06</td>\n",
       "      <td>1.001582e+07</td>\n",
       "      <td>1.022085e+07</td>\n",
       "      <td>1.036160e+07</td>\n",
       "      <td>1.040671e+07</td>\n",
       "      <td>1.045548e+07</td>\n",
       "      <td>1.047907e+07</td>\n",
       "      <td>1.052565e+07</td>\n",
       "      <td>1.054019e+07</td>\n",
       "      <td>NaN</td>\n",
       "    </tr>\n",
       "    <tr>\n",
       "      <th>75%</th>\n",
       "      <td>2.636053e+07</td>\n",
       "      <td>2.721235e+07</td>\n",
       "      <td>2.808607e+07</td>\n",
       "      <td>2.890669e+07</td>\n",
       "      <td>2.972333e+07</td>\n",
       "      <td>3.055227e+07</td>\n",
       "      <td>3.134845e+07</td>\n",
       "      <td>3.200449e+07</td>\n",
       "      <td>3.244145e+07</td>\n",
       "      <td>3.277149e+07</td>\n",
       "      <td>...</td>\n",
       "      <td>6.120753e+07</td>\n",
       "      <td>6.174243e+07</td>\n",
       "      <td>6.182699e+07</td>\n",
       "      <td>6.187352e+07</td>\n",
       "      <td>6.191725e+07</td>\n",
       "      <td>6.193141e+07</td>\n",
       "      <td>6.150589e+07</td>\n",
       "      <td>6.157091e+07</td>\n",
       "      <td>6.295547e+07</td>\n",
       "      <td>NaN</td>\n",
       "    </tr>\n",
       "    <tr>\n",
       "      <th>max</th>\n",
       "      <td>3.032156e+09</td>\n",
       "      <td>3.071596e+09</td>\n",
       "      <td>3.124561e+09</td>\n",
       "      <td>3.189656e+09</td>\n",
       "      <td>3.255146e+09</td>\n",
       "      <td>3.322047e+09</td>\n",
       "      <td>3.392098e+09</td>\n",
       "      <td>3.461620e+09</td>\n",
       "      <td>3.532783e+09</td>\n",
       "      <td>3.606554e+09</td>\n",
       "      <td>...</td>\n",
       "      <td>7.175500e+09</td>\n",
       "      <td>7.261847e+09</td>\n",
       "      <td>7.347679e+09</td>\n",
       "      <td>7.433651e+09</td>\n",
       "      <td>7.519371e+09</td>\n",
       "      <td>7.602716e+09</td>\n",
       "      <td>7.683806e+09</td>\n",
       "      <td>7.763933e+09</td>\n",
       "      <td>7.836631e+09</td>\n",
       "      <td>NaN</td>\n",
       "    </tr>\n",
       "  </tbody>\n",
       "</table>\n",
       "<p>8 rows × 63 columns</p>\n",
       "</div>"
      ],
      "text/plain": [
       "               1960          1961          1962          1963          1964  \\\n",
       "count  2.640000e+02  2.640000e+02  2.640000e+02  2.640000e+02  2.640000e+02   \n",
       "mean   1.172174e+08  1.187633e+08  1.208717e+08  1.234910e+08  1.261315e+08   \n",
       "std    3.695745e+08  3.739180e+08  3.804316e+08  3.889142e+08  3.974401e+08   \n",
       "min    2.833000e+03  3.077000e+03  3.367000e+03  3.703000e+03  4.063000e+03   \n",
       "25%    5.022802e+05  5.109642e+05  5.206540e+05  5.311622e+05  5.421252e+05   \n",
       "50%    3.718330e+06  3.826398e+06  3.929109e+06  4.015834e+06  4.124521e+06   \n",
       "75%    2.636053e+07  2.721235e+07  2.808607e+07  2.890669e+07  2.972333e+07   \n",
       "max    3.032156e+09  3.071596e+09  3.124561e+09  3.189656e+09  3.255146e+09   \n",
       "\n",
       "               1965          1966          1967          1968          1969  \\\n",
       "count  2.640000e+02  2.640000e+02  2.640000e+02  2.640000e+02  2.640000e+02   \n",
       "mean   1.288372e+08  1.316853e+08  1.345256e+08  1.374350e+08  1.404490e+08   \n",
       "std    4.062000e+08  4.155171e+08  4.247722e+08  4.342805e+08  4.441772e+08   \n",
       "min    4.460000e+03  4.675000e+03  4.922000e+03  5.194000e+03  5.461000e+03   \n",
       "25%    5.533362e+05  5.647475e+05  5.823645e+05  5.981078e+05  6.100030e+05   \n",
       "50%    4.242788e+06  4.326013e+06  4.387887e+06  4.474171e+06  4.550402e+06   \n",
       "75%    3.055227e+07  3.134845e+07  3.200449e+07  3.244145e+07  3.277149e+07   \n",
       "max    3.322047e+09  3.392098e+09  3.461620e+09  3.532783e+09  3.606554e+09   \n",
       "\n",
       "       ...          2013          2014          2015          2016  \\\n",
       "count  ...  2.640000e+02  2.640000e+02  2.640000e+02  2.640000e+02   \n",
       "mean   ...  2.912969e+08  2.951160e+08  2.989277e+08  3.027560e+08   \n",
       "std    ...  9.129343e+08  9.241050e+08  9.352101e+08  9.463321e+08   \n",
       "min    ...  1.020800e+04  1.028900e+04  1.037400e+04  1.047400e+04   \n",
       "25%    ...  1.574621e+06  1.609909e+06  1.645868e+06  1.689616e+06   \n",
       "50%    ...  9.948838e+06  1.001582e+07  1.022085e+07  1.036160e+07   \n",
       "75%    ...  6.120753e+07  6.174243e+07  6.182699e+07  6.187352e+07   \n",
       "max    ...  7.175500e+09  7.261847e+09  7.347679e+09  7.433651e+09   \n",
       "\n",
       "               2017          2018          2019          2020          2021  \\\n",
       "count  2.640000e+02  2.640000e+02  2.640000e+02  2.640000e+02  2.640000e+02   \n",
       "mean   3.065980e+08  3.103591e+08  3.140425e+08  3.176734e+08  3.210893e+08   \n",
       "std    9.575052e+08  9.683483e+08  9.788967e+08  9.891628e+08  9.988295e+08   \n",
       "min    1.057700e+04  1.067800e+04  1.076400e+04  1.083400e+04  1.087300e+04   \n",
       "25%    1.716772e+06  1.740174e+06  1.751950e+06  1.767996e+06  1.791783e+06   \n",
       "50%    1.040671e+07  1.045548e+07  1.047907e+07  1.052565e+07  1.054019e+07   \n",
       "75%    6.191725e+07  6.193141e+07  6.150589e+07  6.157091e+07  6.295547e+07   \n",
       "max    7.519371e+09  7.602716e+09  7.683806e+09  7.763933e+09  7.836631e+09   \n",
       "\n",
       "       Unnamed: 66  \n",
       "count          0.0  \n",
       "mean           NaN  \n",
       "std            NaN  \n",
       "min            NaN  \n",
       "25%            NaN  \n",
       "50%            NaN  \n",
       "75%            NaN  \n",
       "max            NaN  \n",
       "\n",
       "[8 rows x 63 columns]"
      ]
     },
     "execution_count": 117,
     "metadata": {},
     "output_type": "execute_result"
    }
   ],
   "source": [
    "lp_df.describe() # description of the numeric data in the DataFrame\n",
    "wpt_df.describe() # description of the numeric data in the DataFrame"
   ]
  },
  {
   "cell_type": "code",
   "execution_count": 118,
   "id": "ac505e73",
   "metadata": {
    "ExecuteTime": {
     "end_time": "2022-12-16T11:04:51.164504Z",
     "start_time": "2022-12-16T11:04:51.073589Z"
    }
   },
   "outputs": [
    {
     "data": {
      "text/html": [
       "<div>\n",
       "<style scoped>\n",
       "    .dataframe tbody tr th:only-of-type {\n",
       "        vertical-align: middle;\n",
       "    }\n",
       "\n",
       "    .dataframe tbody tr th {\n",
       "        vertical-align: top;\n",
       "    }\n",
       "\n",
       "    .dataframe thead th {\n",
       "        text-align: right;\n",
       "    }\n",
       "</style>\n",
       "<table border=\"1\" class=\"dataframe\">\n",
       "  <thead>\n",
       "    <tr style=\"text-align: right;\">\n",
       "      <th></th>\n",
       "      <th>Domain_Code</th>\n",
       "      <th>Domain</th>\n",
       "      <th>Area</th>\n",
       "      <th>Element</th>\n",
       "      <th>Item</th>\n",
       "      <th>Unit</th>\n",
       "      <th>Flag</th>\n",
       "      <th>Flag Description</th>\n",
       "    </tr>\n",
       "  </thead>\n",
       "  <tbody>\n",
       "    <tr>\n",
       "      <th>count</th>\n",
       "      <td>37665</td>\n",
       "      <td>37665</td>\n",
       "      <td>37665</td>\n",
       "      <td>37665</td>\n",
       "      <td>37665</td>\n",
       "      <td>37665</td>\n",
       "      <td>37665</td>\n",
       "      <td>37665</td>\n",
       "    </tr>\n",
       "    <tr>\n",
       "      <th>unique</th>\n",
       "      <td>1</td>\n",
       "      <td>1</td>\n",
       "      <td>231</td>\n",
       "      <td>3</td>\n",
       "      <td>1</td>\n",
       "      <td>3</td>\n",
       "      <td>2</td>\n",
       "      <td>2</td>\n",
       "    </tr>\n",
       "    <tr>\n",
       "      <th>top</th>\n",
       "      <td>QCL</td>\n",
       "      <td>Crops and livestock products</td>\n",
       "      <td>Afghanistan</td>\n",
       "      <td>Production</td>\n",
       "      <td>Milk</td>\n",
       "      <td>tonnes</td>\n",
       "      <td>E</td>\n",
       "      <td>Estimated value</td>\n",
       "    </tr>\n",
       "    <tr>\n",
       "      <th>freq</th>\n",
       "      <td>37665</td>\n",
       "      <td>37665</td>\n",
       "      <td>180</td>\n",
       "      <td>12566</td>\n",
       "      <td>37665</td>\n",
       "      <td>12566</td>\n",
       "      <td>36695</td>\n",
       "      <td>36695</td>\n",
       "    </tr>\n",
       "  </tbody>\n",
       "</table>\n",
       "</div>"
      ],
      "text/plain": [
       "       Domain_Code                        Domain         Area     Element  \\\n",
       "count        37665                         37665        37665       37665   \n",
       "unique           1                             1          231           3   \n",
       "top            QCL  Crops and livestock products  Afghanistan  Production   \n",
       "freq         37665                         37665          180       12566   \n",
       "\n",
       "         Item    Unit   Flag Flag Description  \n",
       "count   37665   37665  37665            37665  \n",
       "unique      1       3      2                2  \n",
       "top      Milk  tonnes      E  Estimated value  \n",
       "freq    37665   12566  36695            36695  "
      ]
     },
     "execution_count": 118,
     "metadata": {},
     "output_type": "execute_result"
    }
   ],
   "source": [
    "lp_df.describe(include=object) #description of the non-numeric data in the DataFrame"
   ]
  },
  {
   "cell_type": "markdown",
   "id": "11e29995",
   "metadata": {},
   "source": [
    "### 2.0.3 Data indentification and cleaning"
   ]
  },
  {
   "cell_type": "markdown",
   "id": "52451ff4",
   "metadata": {},
   "source": [
    "Identify the unique Element in the DF lp_df\n",
    "need to merge the data from Element column\n",
    "convert all the unique Element row into columns\n",
    "this step was neccessory as data set is huge and data with element row are repeated multiple times"
   ]
  },
  {
   "cell_type": "code",
   "execution_count": 305,
   "id": "25bf4785",
   "metadata": {
    "ExecuteTime": {
     "end_time": "2022-12-18T12:43:02.029424Z",
     "start_time": "2022-12-18T12:43:02.015461Z"
    }
   },
   "outputs": [
    {
     "data": {
      "text/plain": [
       "array(['Yield', 'Production', 'Milk Animals'], dtype=object)"
      ]
     },
     "execution_count": 305,
     "metadata": {},
     "output_type": "execute_result"
    }
   ],
   "source": [
    "# identify unique element\n",
    "lp_df[\"Element\"].unique()"
   ]
  },
  {
   "cell_type": "code",
   "execution_count": 306,
   "id": "7348d097",
   "metadata": {
    "ExecuteTime": {
     "end_time": "2022-12-18T12:43:09.940219Z",
     "start_time": "2022-12-18T12:43:09.215164Z"
    }
   },
   "outputs": [],
   "source": [
    "# Dataframe contains 3 unique elements. Milk production (mp) is an element of interest.\n",
    "# Subset the data to isolate Milk production (mp) data\n",
    "milkproductionyeild_lp_df = lp_df[lp_df[\"Element\"]==\"Yield\"]"
   ]
  },
  {
   "cell_type": "code",
   "execution_count": 307,
   "id": "e0eca921",
   "metadata": {
    "ExecuteTime": {
     "end_time": "2022-12-18T12:43:15.749070Z",
     "start_time": "2022-12-18T12:43:15.717128Z"
    }
   },
   "outputs": [],
   "source": [
    "# Dataframe contains 3 unique elements. Milk production (mp) is an element of interest.\n",
    "# Subset the data to isolate Milk production (mp) data\n",
    "milkproduction_lp_df = lp_df[lp_df[\"Element\"]==\"Production\"]"
   ]
  },
  {
   "cell_type": "code",
   "execution_count": 308,
   "id": "8599b707",
   "metadata": {
    "ExecuteTime": {
     "end_time": "2022-12-18T12:43:21.204261Z",
     "start_time": "2022-12-18T12:43:21.188305Z"
    }
   },
   "outputs": [],
   "source": [
    "# Dataframe contains 3 unique elements. Milk production (mp) is an element of interest.\n",
    "# Subset the data to isolate Milk production (mp) data\n",
    "milkproductionanimals_lp_df = lp_df[lp_df[\"Element\"]==\"Milk Animals\"]\n"
   ]
  },
  {
   "cell_type": "code",
   "execution_count": 309,
   "id": "f584e3c7",
   "metadata": {
    "ExecuteTime": {
     "end_time": "2022-12-18T12:43:25.106361Z",
     "start_time": "2022-12-18T12:43:25.084419Z"
    }
   },
   "outputs": [],
   "source": [
    "# change column names\n",
    "# column name are change to give them meaningful name\n",
    "#milkproduction_lp_df.head(80)\n",
    "milkproductionanimals_lp_df.columns # this will list all the column names\n",
    "# now identify the column and change the name\n",
    "milkproductionanimals_lp_df.rename(columns = {'Element':'Animal_Element'}, inplace = True)\n",
    "milkproductionanimals_lp_df.rename(columns = {'Unit':'Animal_Unit'}, inplace = True)\n",
    "milkproductionanimals_lp_df.rename(columns = {'Value':'Animal_Value'}, inplace = True)\n"
   ]
  },
  {
   "cell_type": "code",
   "execution_count": 310,
   "id": "e7db6634",
   "metadata": {
    "ExecuteTime": {
     "end_time": "2022-12-18T12:43:29.433362Z",
     "start_time": "2022-12-18T12:43:29.413419Z"
    }
   },
   "outputs": [],
   "source": [
    "# change column names\n",
    "# column name are change to give them meaningful name\n",
    "#milkproduction_lp_df.head(80)\n",
    "milkproduction_lp_df.columns # this will list all the column names\n",
    "# now identify the column and change the name\n",
    "milkproduction_lp_df.rename(columns = {'Element':'Production_Element'}, inplace = True)\n",
    "milkproduction_lp_df.rename(columns = {'Unit':'Production_Unit'}, inplace = True)\n",
    "milkproduction_lp_df.rename(columns = {'Value':'Production_Value'}, inplace = True)\n"
   ]
  },
  {
   "cell_type": "code",
   "execution_count": 311,
   "id": "0988c1fb",
   "metadata": {
    "ExecuteTime": {
     "end_time": "2022-12-18T12:43:32.914438Z",
     "start_time": "2022-12-18T12:43:32.894489Z"
    }
   },
   "outputs": [],
   "source": [
    "# change column names\n",
    "# column name are change to give them meaningful name\n",
    "#milkproductionyeild_lp_df.head(80)\n",
    "milkproductionyeild_lp_df.columns # this will list all the column names\n",
    "# now identify the column and change the name\n",
    "milkproductionyeild_lp_df.rename(columns = {'Element':'Yeild_Element'}, inplace = True)\n",
    "milkproductionyeild_lp_df.rename(columns = {'Unit':'Yeild_Unit'}, inplace = True)\n",
    "milkproductionyeild_lp_df.rename(columns = {'Value':'Yeild_Value'}, inplace = True)\n"
   ]
  },
  {
   "cell_type": "code",
   "execution_count": 312,
   "id": "326cd3ad",
   "metadata": {
    "ExecuteTime": {
     "end_time": "2022-12-18T12:43:34.505250Z",
     "start_time": "2022-12-18T12:43:34.484270Z"
    }
   },
   "outputs": [
    {
     "data": {
      "text/plain": [
       "Index(['Domain_Code', 'Domain', 'Area Code', 'Area', 'Element_Code',\n",
       "       'Yeild_Element', 'Item_Code', 'Item', 'Year_Code', 'Year', 'Yeild_Unit',\n",
       "       'Yeild_Value', 'Flag', 'Flag Description'],\n",
       "      dtype='object')"
      ]
     },
     "execution_count": 312,
     "metadata": {},
     "output_type": "execute_result"
    }
   ],
   "source": [
    "# overview the changed column names\n",
    "milkproductionyeild_lp_df.columns"
   ]
  },
  {
   "cell_type": "code",
   "execution_count": 468,
   "id": "04247bac",
   "metadata": {
    "ExecuteTime": {
     "end_time": "2022-12-22T15:26:22.387955Z",
     "start_time": "2022-12-22T15:26:21.642553Z"
    }
   },
   "outputs": [
    {
     "ename": "KeyError",
     "evalue": "\"['Domain_Code', 'Domain', 'Area Code', 'Element_Code', 'Item_Code', 'Item', 'Year_Code', 'Flag', 'Flag Description'] not found in axis\"",
     "output_type": "error",
     "traceback": [
      "\u001b[1;31m---------------------------------------------------------------------------\u001b[0m",
      "\u001b[1;31mKeyError\u001b[0m                                  Traceback (most recent call last)",
      "Input \u001b[1;32mIn [468]\u001b[0m, in \u001b[0;36m<cell line: 4>\u001b[1;34m()\u001b[0m\n\u001b[0;32m      1\u001b[0m \u001b[38;5;66;03m# drop columns that are not neccessory\u001b[39;00m\n\u001b[0;32m      2\u001b[0m \u001b[38;5;66;03m# columns that are not used in data sets are dropped\u001b[39;00m\n\u001b[0;32m      3\u001b[0m \u001b[38;5;66;03m# dropping column will incrase the performance\u001b[39;00m\n\u001b[1;32m----> 4\u001b[0m \u001b[43mmilkproductionyeild_lp_df\u001b[49m\u001b[38;5;241;43m.\u001b[39;49m\u001b[43mdrop\u001b[49m\u001b[43m(\u001b[49m\u001b[43m[\u001b[49m\u001b[38;5;124;43m'\u001b[39;49m\u001b[38;5;124;43mDomain_Code\u001b[39;49m\u001b[38;5;124;43m'\u001b[39;49m\u001b[43m,\u001b[49m\u001b[43m \u001b[49m\u001b[38;5;124;43m'\u001b[39;49m\u001b[38;5;124;43mDomain\u001b[39;49m\u001b[38;5;124;43m'\u001b[39;49m\u001b[43m,\u001b[49m\u001b[43m \u001b[49m\u001b[38;5;124;43m'\u001b[39;49m\u001b[38;5;124;43mArea Code\u001b[39;49m\u001b[38;5;124;43m'\u001b[39;49m\u001b[43m,\u001b[49m\u001b[43m \u001b[49m\u001b[38;5;124;43m'\u001b[39;49m\u001b[38;5;124;43mElement_Code\u001b[39;49m\u001b[38;5;124;43m'\u001b[39;49m\u001b[43m,\u001b[49m\n\u001b[0;32m      5\u001b[0m \u001b[43m       \u001b[49m\u001b[38;5;124;43m'\u001b[39;49m\u001b[38;5;124;43mItem_Code\u001b[39;49m\u001b[38;5;124;43m'\u001b[39;49m\u001b[43m,\u001b[49m\u001b[43m \u001b[49m\u001b[38;5;124;43m'\u001b[39;49m\u001b[38;5;124;43mItem\u001b[39;49m\u001b[38;5;124;43m'\u001b[39;49m\u001b[43m,\u001b[49m\u001b[43m \u001b[49m\u001b[38;5;124;43m'\u001b[39;49m\u001b[38;5;124;43mYear_Code\u001b[39;49m\u001b[38;5;124;43m'\u001b[39;49m\u001b[43m,\u001b[49m\u001b[43m \u001b[49m\u001b[38;5;124;43m'\u001b[39;49m\u001b[38;5;124;43mFlag\u001b[39;49m\u001b[38;5;124;43m'\u001b[39;49m\u001b[43m,\u001b[49m\u001b[43m \u001b[49m\u001b[38;5;124;43m'\u001b[39;49m\u001b[38;5;124;43mFlag Description\u001b[39;49m\u001b[38;5;124;43m'\u001b[39;49m\u001b[43m]\u001b[49m\u001b[43m,\u001b[49m\u001b[43m \u001b[49m\u001b[43maxis\u001b[49m\u001b[43m \u001b[49m\u001b[38;5;241;43m=\u001b[39;49m\u001b[43m \u001b[49m\u001b[38;5;241;43m1\u001b[39;49m\u001b[43m,\u001b[49m\u001b[43m \u001b[49m\u001b[43minplace\u001b[49m\u001b[43m \u001b[49m\u001b[38;5;241;43m=\u001b[39;49m\u001b[43m \u001b[49m\u001b[38;5;28;43;01mTrue\u001b[39;49;00m\u001b[43m)\u001b[49m\n\u001b[0;32m      6\u001b[0m milkproductionanimals_lp_df\u001b[38;5;241m.\u001b[39mdrop([\u001b[38;5;124m'\u001b[39m\u001b[38;5;124mDomain_Code\u001b[39m\u001b[38;5;124m'\u001b[39m, \u001b[38;5;124m'\u001b[39m\u001b[38;5;124mDomain\u001b[39m\u001b[38;5;124m'\u001b[39m, \u001b[38;5;124m'\u001b[39m\u001b[38;5;124mArea Code\u001b[39m\u001b[38;5;124m'\u001b[39m, \u001b[38;5;124m'\u001b[39m\u001b[38;5;124mElement_Code\u001b[39m\u001b[38;5;124m'\u001b[39m,\n\u001b[0;32m      7\u001b[0m        \u001b[38;5;124m'\u001b[39m\u001b[38;5;124mItem_Code\u001b[39m\u001b[38;5;124m'\u001b[39m, \u001b[38;5;124m'\u001b[39m\u001b[38;5;124mItem\u001b[39m\u001b[38;5;124m'\u001b[39m, \u001b[38;5;124m'\u001b[39m\u001b[38;5;124mYear_Code\u001b[39m\u001b[38;5;124m'\u001b[39m, \u001b[38;5;124m'\u001b[39m\u001b[38;5;124mFlag\u001b[39m\u001b[38;5;124m'\u001b[39m, \u001b[38;5;124m'\u001b[39m\u001b[38;5;124mFlag Description\u001b[39m\u001b[38;5;124m'\u001b[39m], axis \u001b[38;5;241m=\u001b[39m \u001b[38;5;241m1\u001b[39m, inplace \u001b[38;5;241m=\u001b[39m \u001b[38;5;28;01mTrue\u001b[39;00m)\n",
      "File \u001b[1;32mC:\\ProgramData\\anaconda3\\lib\\site-packages\\pandas\\util\\_decorators.py:311\u001b[0m, in \u001b[0;36mdeprecate_nonkeyword_arguments.<locals>.decorate.<locals>.wrapper\u001b[1;34m(*args, **kwargs)\u001b[0m\n\u001b[0;32m    305\u001b[0m \u001b[38;5;28;01mif\u001b[39;00m \u001b[38;5;28mlen\u001b[39m(args) \u001b[38;5;241m>\u001b[39m num_allow_args:\n\u001b[0;32m    306\u001b[0m     warnings\u001b[38;5;241m.\u001b[39mwarn(\n\u001b[0;32m    307\u001b[0m         msg\u001b[38;5;241m.\u001b[39mformat(arguments\u001b[38;5;241m=\u001b[39marguments),\n\u001b[0;32m    308\u001b[0m         \u001b[38;5;167;01mFutureWarning\u001b[39;00m,\n\u001b[0;32m    309\u001b[0m         stacklevel\u001b[38;5;241m=\u001b[39mstacklevel,\n\u001b[0;32m    310\u001b[0m     )\n\u001b[1;32m--> 311\u001b[0m \u001b[38;5;28;01mreturn\u001b[39;00m func(\u001b[38;5;241m*\u001b[39margs, \u001b[38;5;241m*\u001b[39m\u001b[38;5;241m*\u001b[39mkwargs)\n",
      "File \u001b[1;32mC:\\ProgramData\\anaconda3\\lib\\site-packages\\pandas\\core\\frame.py:4954\u001b[0m, in \u001b[0;36mDataFrame.drop\u001b[1;34m(self, labels, axis, index, columns, level, inplace, errors)\u001b[0m\n\u001b[0;32m   4806\u001b[0m \u001b[38;5;129m@deprecate_nonkeyword_arguments\u001b[39m(version\u001b[38;5;241m=\u001b[39m\u001b[38;5;28;01mNone\u001b[39;00m, allowed_args\u001b[38;5;241m=\u001b[39m[\u001b[38;5;124m\"\u001b[39m\u001b[38;5;124mself\u001b[39m\u001b[38;5;124m\"\u001b[39m, \u001b[38;5;124m\"\u001b[39m\u001b[38;5;124mlabels\u001b[39m\u001b[38;5;124m\"\u001b[39m])\n\u001b[0;32m   4807\u001b[0m \u001b[38;5;28;01mdef\u001b[39;00m \u001b[38;5;21mdrop\u001b[39m(\n\u001b[0;32m   4808\u001b[0m     \u001b[38;5;28mself\u001b[39m,\n\u001b[1;32m   (...)\u001b[0m\n\u001b[0;32m   4815\u001b[0m     errors: \u001b[38;5;28mstr\u001b[39m \u001b[38;5;241m=\u001b[39m \u001b[38;5;124m\"\u001b[39m\u001b[38;5;124mraise\u001b[39m\u001b[38;5;124m\"\u001b[39m,\n\u001b[0;32m   4816\u001b[0m ):\n\u001b[0;32m   4817\u001b[0m     \u001b[38;5;124;03m\"\"\"\u001b[39;00m\n\u001b[0;32m   4818\u001b[0m \u001b[38;5;124;03m    Drop specified labels from rows or columns.\u001b[39;00m\n\u001b[0;32m   4819\u001b[0m \n\u001b[1;32m   (...)\u001b[0m\n\u001b[0;32m   4952\u001b[0m \u001b[38;5;124;03m            weight  1.0     0.8\u001b[39;00m\n\u001b[0;32m   4953\u001b[0m \u001b[38;5;124;03m    \"\"\"\u001b[39;00m\n\u001b[1;32m-> 4954\u001b[0m     \u001b[38;5;28;01mreturn\u001b[39;00m \u001b[38;5;28;43msuper\u001b[39;49m\u001b[43m(\u001b[49m\u001b[43m)\u001b[49m\u001b[38;5;241;43m.\u001b[39;49m\u001b[43mdrop\u001b[49m\u001b[43m(\u001b[49m\n\u001b[0;32m   4955\u001b[0m \u001b[43m        \u001b[49m\u001b[43mlabels\u001b[49m\u001b[38;5;241;43m=\u001b[39;49m\u001b[43mlabels\u001b[49m\u001b[43m,\u001b[49m\n\u001b[0;32m   4956\u001b[0m \u001b[43m        \u001b[49m\u001b[43maxis\u001b[49m\u001b[38;5;241;43m=\u001b[39;49m\u001b[43maxis\u001b[49m\u001b[43m,\u001b[49m\n\u001b[0;32m   4957\u001b[0m \u001b[43m        \u001b[49m\u001b[43mindex\u001b[49m\u001b[38;5;241;43m=\u001b[39;49m\u001b[43mindex\u001b[49m\u001b[43m,\u001b[49m\n\u001b[0;32m   4958\u001b[0m \u001b[43m        \u001b[49m\u001b[43mcolumns\u001b[49m\u001b[38;5;241;43m=\u001b[39;49m\u001b[43mcolumns\u001b[49m\u001b[43m,\u001b[49m\n\u001b[0;32m   4959\u001b[0m \u001b[43m        \u001b[49m\u001b[43mlevel\u001b[49m\u001b[38;5;241;43m=\u001b[39;49m\u001b[43mlevel\u001b[49m\u001b[43m,\u001b[49m\n\u001b[0;32m   4960\u001b[0m \u001b[43m        \u001b[49m\u001b[43minplace\u001b[49m\u001b[38;5;241;43m=\u001b[39;49m\u001b[43minplace\u001b[49m\u001b[43m,\u001b[49m\n\u001b[0;32m   4961\u001b[0m \u001b[43m        \u001b[49m\u001b[43merrors\u001b[49m\u001b[38;5;241;43m=\u001b[39;49m\u001b[43merrors\u001b[49m\u001b[43m,\u001b[49m\n\u001b[0;32m   4962\u001b[0m \u001b[43m    \u001b[49m\u001b[43m)\u001b[49m\n",
      "File \u001b[1;32mC:\\ProgramData\\anaconda3\\lib\\site-packages\\pandas\\core\\generic.py:4267\u001b[0m, in \u001b[0;36mNDFrame.drop\u001b[1;34m(self, labels, axis, index, columns, level, inplace, errors)\u001b[0m\n\u001b[0;32m   4265\u001b[0m \u001b[38;5;28;01mfor\u001b[39;00m axis, labels \u001b[38;5;129;01min\u001b[39;00m axes\u001b[38;5;241m.\u001b[39mitems():\n\u001b[0;32m   4266\u001b[0m     \u001b[38;5;28;01mif\u001b[39;00m labels \u001b[38;5;129;01mis\u001b[39;00m \u001b[38;5;129;01mnot\u001b[39;00m \u001b[38;5;28;01mNone\u001b[39;00m:\n\u001b[1;32m-> 4267\u001b[0m         obj \u001b[38;5;241m=\u001b[39m \u001b[43mobj\u001b[49m\u001b[38;5;241;43m.\u001b[39;49m\u001b[43m_drop_axis\u001b[49m\u001b[43m(\u001b[49m\u001b[43mlabels\u001b[49m\u001b[43m,\u001b[49m\u001b[43m \u001b[49m\u001b[43maxis\u001b[49m\u001b[43m,\u001b[49m\u001b[43m \u001b[49m\u001b[43mlevel\u001b[49m\u001b[38;5;241;43m=\u001b[39;49m\u001b[43mlevel\u001b[49m\u001b[43m,\u001b[49m\u001b[43m \u001b[49m\u001b[43merrors\u001b[49m\u001b[38;5;241;43m=\u001b[39;49m\u001b[43merrors\u001b[49m\u001b[43m)\u001b[49m\n\u001b[0;32m   4269\u001b[0m \u001b[38;5;28;01mif\u001b[39;00m inplace:\n\u001b[0;32m   4270\u001b[0m     \u001b[38;5;28mself\u001b[39m\u001b[38;5;241m.\u001b[39m_update_inplace(obj)\n",
      "File \u001b[1;32mC:\\ProgramData\\anaconda3\\lib\\site-packages\\pandas\\core\\generic.py:4311\u001b[0m, in \u001b[0;36mNDFrame._drop_axis\u001b[1;34m(self, labels, axis, level, errors, consolidate, only_slice)\u001b[0m\n\u001b[0;32m   4309\u001b[0m         new_axis \u001b[38;5;241m=\u001b[39m axis\u001b[38;5;241m.\u001b[39mdrop(labels, level\u001b[38;5;241m=\u001b[39mlevel, errors\u001b[38;5;241m=\u001b[39merrors)\n\u001b[0;32m   4310\u001b[0m     \u001b[38;5;28;01melse\u001b[39;00m:\n\u001b[1;32m-> 4311\u001b[0m         new_axis \u001b[38;5;241m=\u001b[39m \u001b[43maxis\u001b[49m\u001b[38;5;241;43m.\u001b[39;49m\u001b[43mdrop\u001b[49m\u001b[43m(\u001b[49m\u001b[43mlabels\u001b[49m\u001b[43m,\u001b[49m\u001b[43m \u001b[49m\u001b[43merrors\u001b[49m\u001b[38;5;241;43m=\u001b[39;49m\u001b[43merrors\u001b[49m\u001b[43m)\u001b[49m\n\u001b[0;32m   4312\u001b[0m     indexer \u001b[38;5;241m=\u001b[39m axis\u001b[38;5;241m.\u001b[39mget_indexer(new_axis)\n\u001b[0;32m   4314\u001b[0m \u001b[38;5;66;03m# Case for non-unique axis\u001b[39;00m\n\u001b[0;32m   4315\u001b[0m \u001b[38;5;28;01melse\u001b[39;00m:\n",
      "File \u001b[1;32mC:\\ProgramData\\anaconda3\\lib\\site-packages\\pandas\\core\\indexes\\base.py:6644\u001b[0m, in \u001b[0;36mIndex.drop\u001b[1;34m(self, labels, errors)\u001b[0m\n\u001b[0;32m   6642\u001b[0m \u001b[38;5;28;01mif\u001b[39;00m mask\u001b[38;5;241m.\u001b[39many():\n\u001b[0;32m   6643\u001b[0m     \u001b[38;5;28;01mif\u001b[39;00m errors \u001b[38;5;241m!=\u001b[39m \u001b[38;5;124m\"\u001b[39m\u001b[38;5;124mignore\u001b[39m\u001b[38;5;124m\"\u001b[39m:\n\u001b[1;32m-> 6644\u001b[0m         \u001b[38;5;28;01mraise\u001b[39;00m \u001b[38;5;167;01mKeyError\u001b[39;00m(\u001b[38;5;124mf\u001b[39m\u001b[38;5;124m\"\u001b[39m\u001b[38;5;132;01m{\u001b[39;00m\u001b[38;5;28mlist\u001b[39m(labels[mask])\u001b[38;5;132;01m}\u001b[39;00m\u001b[38;5;124m not found in axis\u001b[39m\u001b[38;5;124m\"\u001b[39m)\n\u001b[0;32m   6645\u001b[0m     indexer \u001b[38;5;241m=\u001b[39m indexer[\u001b[38;5;241m~\u001b[39mmask]\n\u001b[0;32m   6646\u001b[0m \u001b[38;5;28;01mreturn\u001b[39;00m \u001b[38;5;28mself\u001b[39m\u001b[38;5;241m.\u001b[39mdelete(indexer)\n",
      "\u001b[1;31mKeyError\u001b[0m: \"['Domain_Code', 'Domain', 'Area Code', 'Element_Code', 'Item_Code', 'Item', 'Year_Code', 'Flag', 'Flag Description'] not found in axis\""
     ]
    }
   ],
   "source": [
    "# drop columns that are not neccessory\n",
    "# columns that are not used in data sets are dropped\n",
    "# dropping column will incrase the performance\n",
    "milkproductionyeild_lp_df.drop(['Domain_Code', 'Domain', 'Area Code', 'Element_Code',\n",
    "       'Item_Code', 'Item', 'Year_Code', 'Flag', 'Flag Description'], axis = 1, inplace = True)\n",
    "milkproductionanimals_lp_df.drop(['Domain_Code', 'Domain', 'Area Code', 'Element_Code',\n",
    "       'Item_Code', 'Item', 'Year_Code', 'Flag', 'Flag Description'], axis = 1, inplace = True)"
   ]
  },
  {
   "cell_type": "code",
   "execution_count": 314,
   "id": "d62269c0",
   "metadata": {
    "ExecuteTime": {
     "end_time": "2022-12-18T12:43:42.248311Z",
     "start_time": "2022-12-18T12:43:42.206424Z"
    }
   },
   "outputs": [
    {
     "data": {
      "text/html": [
       "<div>\n",
       "<style scoped>\n",
       "    .dataframe tbody tr th:only-of-type {\n",
       "        vertical-align: middle;\n",
       "    }\n",
       "\n",
       "    .dataframe tbody tr th {\n",
       "        vertical-align: top;\n",
       "    }\n",
       "\n",
       "    .dataframe thead th {\n",
       "        text-align: right;\n",
       "    }\n",
       "</style>\n",
       "<table border=\"1\" class=\"dataframe\">\n",
       "  <thead>\n",
       "    <tr style=\"text-align: right;\">\n",
       "      <th></th>\n",
       "      <th>Area</th>\n",
       "      <th>Yeild_Element</th>\n",
       "      <th>Year</th>\n",
       "      <th>Yeild_Unit</th>\n",
       "      <th>Yeild_Value</th>\n",
       "    </tr>\n",
       "  </thead>\n",
       "  <tbody>\n",
       "    <tr>\n",
       "      <th>0</th>\n",
       "      <td>Afghanistan</td>\n",
       "      <td>Yield</td>\n",
       "      <td>1961</td>\n",
       "      <td>hg/An</td>\n",
       "      <td>753.0</td>\n",
       "    </tr>\n",
       "    <tr>\n",
       "      <th>1</th>\n",
       "      <td>Afghanistan</td>\n",
       "      <td>Yield</td>\n",
       "      <td>1962</td>\n",
       "      <td>hg/An</td>\n",
       "      <td>752.0</td>\n",
       "    </tr>\n",
       "    <tr>\n",
       "      <th>2</th>\n",
       "      <td>Afghanistan</td>\n",
       "      <td>Yield</td>\n",
       "      <td>1963</td>\n",
       "      <td>hg/An</td>\n",
       "      <td>779.0</td>\n",
       "    </tr>\n",
       "    <tr>\n",
       "      <th>3</th>\n",
       "      <td>Afghanistan</td>\n",
       "      <td>Yield</td>\n",
       "      <td>1964</td>\n",
       "      <td>hg/An</td>\n",
       "      <td>753.0</td>\n",
       "    </tr>\n",
       "    <tr>\n",
       "      <th>4</th>\n",
       "      <td>Afghanistan</td>\n",
       "      <td>Yield</td>\n",
       "      <td>1965</td>\n",
       "      <td>hg/An</td>\n",
       "      <td>784.0</td>\n",
       "    </tr>\n",
       "    <tr>\n",
       "      <th>...</th>\n",
       "      <td>...</td>\n",
       "      <td>...</td>\n",
       "      <td>...</td>\n",
       "      <td>...</td>\n",
       "      <td>...</td>\n",
       "    </tr>\n",
       "    <tr>\n",
       "      <th>195</th>\n",
       "      <td>Albania</td>\n",
       "      <td>Yield</td>\n",
       "      <td>1976</td>\n",
       "      <td>hg/An</td>\n",
       "      <td>1803.0</td>\n",
       "    </tr>\n",
       "    <tr>\n",
       "      <th>196</th>\n",
       "      <td>Albania</td>\n",
       "      <td>Yield</td>\n",
       "      <td>1977</td>\n",
       "      <td>hg/An</td>\n",
       "      <td>1941.0</td>\n",
       "    </tr>\n",
       "    <tr>\n",
       "      <th>197</th>\n",
       "      <td>Albania</td>\n",
       "      <td>Yield</td>\n",
       "      <td>1978</td>\n",
       "      <td>hg/An</td>\n",
       "      <td>2072.0</td>\n",
       "    </tr>\n",
       "    <tr>\n",
       "      <th>198</th>\n",
       "      <td>Albania</td>\n",
       "      <td>Yield</td>\n",
       "      <td>1979</td>\n",
       "      <td>hg/An</td>\n",
       "      <td>2144.0</td>\n",
       "    </tr>\n",
       "    <tr>\n",
       "      <th>199</th>\n",
       "      <td>Albania</td>\n",
       "      <td>Yield</td>\n",
       "      <td>1980</td>\n",
       "      <td>hg/An</td>\n",
       "      <td>2076.0</td>\n",
       "    </tr>\n",
       "  </tbody>\n",
       "</table>\n",
       "<p>80 rows × 5 columns</p>\n",
       "</div>"
      ],
      "text/plain": [
       "            Area Yeild_Element  Year Yeild_Unit  Yeild_Value\n",
       "0    Afghanistan         Yield  1961      hg/An        753.0\n",
       "1    Afghanistan         Yield  1962      hg/An        752.0\n",
       "2    Afghanistan         Yield  1963      hg/An        779.0\n",
       "3    Afghanistan         Yield  1964      hg/An        753.0\n",
       "4    Afghanistan         Yield  1965      hg/An        784.0\n",
       "..           ...           ...   ...        ...          ...\n",
       "195      Albania         Yield  1976      hg/An       1803.0\n",
       "196      Albania         Yield  1977      hg/An       1941.0\n",
       "197      Albania         Yield  1978      hg/An       2072.0\n",
       "198      Albania         Yield  1979      hg/An       2144.0\n",
       "199      Albania         Yield  1980      hg/An       2076.0\n",
       "\n",
       "[80 rows x 5 columns]"
      ]
     },
     "execution_count": 314,
     "metadata": {},
     "output_type": "execute_result"
    }
   ],
   "source": [
    "milkproductionyeild_lp_df.head(80) # default shows first 5 rows"
   ]
  },
  {
   "cell_type": "code",
   "execution_count": 315,
   "id": "bd489174",
   "metadata": {
    "ExecuteTime": {
     "end_time": "2022-12-18T12:43:55.200351Z",
     "start_time": "2022-12-18T12:43:55.179380Z"
    }
   },
   "outputs": [
    {
     "data": {
      "text/plain": [
       "(12566, 14)"
      ]
     },
     "execution_count": 315,
     "metadata": {},
     "output_type": "execute_result"
    }
   ],
   "source": [
    "milkproduction_lp_df.shape  # to check row and columns are in the dataframe"
   ]
  },
  {
   "cell_type": "code",
   "execution_count": 316,
   "id": "8ac3b906",
   "metadata": {
    "ExecuteTime": {
     "end_time": "2022-12-18T12:44:12.503335Z",
     "start_time": "2022-12-18T12:44:12.350339Z"
    }
   },
   "outputs": [
    {
     "data": {
      "text/html": [
       "<div>\n",
       "<style scoped>\n",
       "    .dataframe tbody tr th:only-of-type {\n",
       "        vertical-align: middle;\n",
       "    }\n",
       "\n",
       "    .dataframe tbody tr th {\n",
       "        vertical-align: top;\n",
       "    }\n",
       "\n",
       "    .dataframe thead th {\n",
       "        text-align: right;\n",
       "    }\n",
       "</style>\n",
       "<table border=\"1\" class=\"dataframe\">\n",
       "  <thead>\n",
       "    <tr style=\"text-align: right;\">\n",
       "      <th></th>\n",
       "      <th>Domain_Code</th>\n",
       "      <th>Domain</th>\n",
       "      <th>Area</th>\n",
       "      <th>Production_Element</th>\n",
       "      <th>Item</th>\n",
       "      <th>Production_Unit</th>\n",
       "      <th>Flag</th>\n",
       "      <th>Flag Description</th>\n",
       "    </tr>\n",
       "  </thead>\n",
       "  <tbody>\n",
       "    <tr>\n",
       "      <th>count</th>\n",
       "      <td>12566</td>\n",
       "      <td>12566</td>\n",
       "      <td>12566</td>\n",
       "      <td>12566</td>\n",
       "      <td>12566</td>\n",
       "      <td>12566</td>\n",
       "      <td>12566</td>\n",
       "      <td>12566</td>\n",
       "    </tr>\n",
       "    <tr>\n",
       "      <th>unique</th>\n",
       "      <td>1</td>\n",
       "      <td>1</td>\n",
       "      <td>231</td>\n",
       "      <td>1</td>\n",
       "      <td>1</td>\n",
       "      <td>1</td>\n",
       "      <td>1</td>\n",
       "      <td>1</td>\n",
       "    </tr>\n",
       "    <tr>\n",
       "      <th>top</th>\n",
       "      <td>QCL</td>\n",
       "      <td>Crops and livestock products</td>\n",
       "      <td>Afghanistan</td>\n",
       "      <td>Production</td>\n",
       "      <td>Milk</td>\n",
       "      <td>tonnes</td>\n",
       "      <td>E</td>\n",
       "      <td>Estimated value</td>\n",
       "    </tr>\n",
       "    <tr>\n",
       "      <th>freq</th>\n",
       "      <td>12566</td>\n",
       "      <td>12566</td>\n",
       "      <td>60</td>\n",
       "      <td>12566</td>\n",
       "      <td>12566</td>\n",
       "      <td>12566</td>\n",
       "      <td>12566</td>\n",
       "      <td>12566</td>\n",
       "    </tr>\n",
       "  </tbody>\n",
       "</table>\n",
       "</div>"
      ],
      "text/plain": [
       "       Domain_Code                        Domain         Area  \\\n",
       "count        12566                         12566        12566   \n",
       "unique           1                             1          231   \n",
       "top            QCL  Crops and livestock products  Afghanistan   \n",
       "freq         12566                         12566           60   \n",
       "\n",
       "       Production_Element   Item Production_Unit   Flag Flag Description  \n",
       "count               12566  12566           12566  12566            12566  \n",
       "unique                  1      1               1      1                1  \n",
       "top            Production   Milk          tonnes      E  Estimated value  \n",
       "freq                12566  12566           12566  12566            12566  "
      ]
     },
     "execution_count": 316,
     "metadata": {},
     "output_type": "execute_result"
    }
   ],
   "source": [
    "milkproduction_lp_df.describe(include=object) #description of the non-numeric data in the DataFrame"
   ]
  },
  {
   "cell_type": "code",
   "execution_count": 469,
   "id": "2fea93f2",
   "metadata": {
    "ExecuteTime": {
     "end_time": "2022-12-22T15:27:47.884338Z",
     "start_time": "2022-12-22T15:27:47.820512Z"
    }
   },
   "outputs": [
    {
     "data": {
      "text/plain": [
       "array(['Afghanistan', 'Albania', 'Algeria', 'Angola',\n",
       "       'Antigua and Barbuda', 'Argentina', 'Armenia', 'Australia',\n",
       "       'Austria', 'Azerbaijan', 'Bahamas', 'Bahrain', 'Bangladesh',\n",
       "       'Barbados', 'Belarus', 'Belgium', 'Belgium-Luxembourg', 'Belize',\n",
       "       'Benin', 'Bhutan', 'Bolivia (Plurinational State of)',\n",
       "       'Bosnia and Herzegovina', 'Botswana', 'Brazil',\n",
       "       'Brunei Darussalam', 'Bulgaria', 'Burkina Faso', 'Burundi',\n",
       "       'Cabo Verde', 'Cambodia', 'Cameroon', 'Canada',\n",
       "       'Central African Republic', 'Chad', 'Chile', 'China',\n",
       "       'China, Hong Kong SAR', 'China, mainland',\n",
       "       'China, Taiwan Province of', 'Colombia', 'Comoros', 'Congo',\n",
       "       'Costa Rica', \"CÃ´te d'Ivoire\", 'Croatia', 'Cuba', 'Cyprus',\n",
       "       'Czechia', 'Czechoslovakia',\n",
       "       \"Democratic People's Republic of Korea\",\n",
       "       'Democratic Republic of the Congo', 'Denmark', 'Djibouti',\n",
       "       'Dominica', 'Dominican Republic', 'Ecuador', 'Egypt',\n",
       "       'El Salvador', 'Eritrea', 'Estonia', 'Eswatini', 'Ethiopia',\n",
       "       'Ethiopia PDR', 'Fiji', 'Finland', 'France', 'French Guyana',\n",
       "       'French Polynesia', 'Gabon', 'Gambia', 'Georgia', 'Germany',\n",
       "       'Ghana', 'Greece', 'Grenada', 'Guadeloupe', 'Guatemala', 'Guinea',\n",
       "       'Guinea-Bissau', 'Guyana', 'Haiti', 'Honduras', 'Hungary',\n",
       "       'Iceland', 'India', 'Indonesia', 'Iran (Islamic Republic of)',\n",
       "       'Iraq', 'Ireland', 'Israel', 'Italy', 'Jamaica', 'Japan', 'Jordan',\n",
       "       'Kazakhstan', 'Kenya', 'Kuwait', 'Kyrgyzstan',\n",
       "       \"Lao People's Democratic Republic\", 'Latvia', 'Lebanon', 'Lesotho',\n",
       "       'Liberia', 'Libya', 'Lithuania', 'Luxembourg', 'Madagascar',\n",
       "       'Malawi', 'Malaysia', 'Mali', 'Malta', 'Martinique', 'Mauritania',\n",
       "       'Mauritius', 'Mexico', 'Mongolia', 'Montenegro', 'Morocco',\n",
       "       'Mozambique', 'Myanmar', 'Namibia', 'Nepal', 'Netherlands',\n",
       "       'New Caledonia', 'New Zealand', 'Nicaragua', 'Niger', 'Nigeria',\n",
       "       'Niue', 'North Macedonia', 'Norway', 'Oman', 'Pakistan',\n",
       "       'Palestine', 'Panama', 'Papua New Guinea', 'Paraguay', 'Peru',\n",
       "       'Philippines', 'Poland', 'Portugal', 'Puerto Rico', 'Qatar',\n",
       "       'Republic of Korea', 'Republic of Moldova', 'RÃ©union', 'Romania',\n",
       "       'Russian Federation', 'Rwanda', 'Saint Lucia',\n",
       "       'Saint Vincent and the Grenadines', 'Samoa',\n",
       "       'Sao Tome and Principe', 'Saudi Arabia', 'Senegal', 'Serbia',\n",
       "       'Serbia and Montenegro', 'Seychelles', 'Sierra Leone', 'Slovakia',\n",
       "       'Slovenia', 'Solomon Islands', 'Somalia', 'South Africa',\n",
       "       'South Sudan', 'Spain', 'Sri Lanka', 'Sudan', 'Sudan (former)',\n",
       "       'Suriname', 'Sweden', 'Switzerland', 'Syrian Arab Republic',\n",
       "       'Tajikistan', 'Thailand', 'Timor-Leste', 'Togo', 'Tonga',\n",
       "       'Trinidad and Tobago', 'Tunisia', 'TÃ¼rkiye', 'Turkmenistan',\n",
       "       'Uganda', 'Ukraine', 'United Arab Emirates',\n",
       "       'United Kingdom of Great Britain and Northern Ireland',\n",
       "       'United Republic of Tanzania', 'United States of America',\n",
       "       'Uruguay', 'USSR', 'Uzbekistan', 'Vanuatu',\n",
       "       'Venezuela (Bolivarian Republic of)', 'Viet Nam', 'Yemen',\n",
       "       'Yugoslav SFR', 'Zambia', 'Zimbabwe', 'World', 'Africa',\n",
       "       'Eastern Africa', 'Middle Africa', 'Northern Africa',\n",
       "       'Southern Africa', 'Western Africa', 'Americas',\n",
       "       'Northern America', 'Central America', 'Caribbean',\n",
       "       'South America', 'Asia', 'Central Asia', 'Eastern Asia',\n",
       "       'Southern Asia', 'South-eastern Asia', 'Western Asia', 'Europe',\n",
       "       'Eastern Europe', 'Northern Europe', 'Southern Europe',\n",
       "       'Western Europe', 'Oceania', 'Australia and New Zealand',\n",
       "       'Melanesia', 'Polynesia', 'European Union (27)',\n",
       "       'Least Developed Countries', 'Land Locked Developing Countries',\n",
       "       'Small Island Developing States',\n",
       "       'Low Income Food Deficit Countries',\n",
       "       'Net Food Importing Developing Countries'], dtype=object)"
      ]
     },
     "execution_count": 469,
     "metadata": {},
     "output_type": "execute_result"
    }
   ],
   "source": [
    "# now find the unique countries name in the data frame\n",
    "# also check that Ireland is available in the dataset\n",
    "milkproduction_lp_df[\"Area\"].unique()\n"
   ]
  },
  {
   "cell_type": "code",
   "execution_count": 392,
   "id": "851815af",
   "metadata": {
    "ExecuteTime": {
     "end_time": "2022-12-18T13:16:39.198000Z",
     "start_time": "2022-12-18T13:16:39.154115Z"
    }
   },
   "outputs": [],
   "source": [
    "# now merge three data frame into one\n",
    "world_production_lp_df=pd.merge(pd.merge(milkproduction_lp_df,milkproductionyeild_lp_df,on=['Area', 'Year']),milkproductionanimals_lp_df,on=['Area','Year'])"
   ]
  },
  {
   "cell_type": "code",
   "execution_count": 446,
   "id": "ff86f959",
   "metadata": {
    "ExecuteTime": {
     "end_time": "2022-12-20T14:24:15.971848Z",
     "start_time": "2022-12-20T14:24:15.948905Z"
    }
   },
   "outputs": [
    {
     "data": {
      "text/plain": [
       "Index(['Area', 'Production_Element', 'Item', 'Year', 'Production_Unit',\n",
       "       'Production_Value', 'Yeild_Element', 'Yeild_Unit', 'Yeild_Value',\n",
       "       'Animal_Element', 'Animal_Unit', 'Animal_Value'],\n",
       "      dtype='object')"
      ]
     },
     "execution_count": 446,
     "metadata": {},
     "output_type": "execute_result"
    }
   ],
   "source": [
    "#view column name\n",
    "world_production_lp_df.columns\n"
   ]
  },
  {
   "cell_type": "code",
   "execution_count": 478,
   "id": "6bee1492",
   "metadata": {
    "ExecuteTime": {
     "end_time": "2022-12-22T15:38:00.569030Z",
     "start_time": "2022-12-22T15:38:00.557061Z"
    }
   },
   "outputs": [],
   "source": [
    "# drop columns that are not neccessory\n",
    "# columns that are not used in data sets are dropped\n",
    "# dropping column will incrase the performance\n",
    "world_production_lp_df.drop(['Domain_Code', 'Domain', 'Area Code', 'Element_Code',\n",
    "       'Item_Code', 'Year_Code', 'Flag', 'Flag Description'], axis = 1, inplace = True)"
   ]
  },
  {
   "cell_type": "code",
   "execution_count": 470,
   "id": "5c42cc0c",
   "metadata": {
    "ExecuteTime": {
     "end_time": "2022-12-22T15:36:17.760492Z",
     "start_time": "2022-12-22T15:36:17.751517Z"
    }
   },
   "outputs": [],
   "source": [
    "# now merge population with milk production data\n",
    "#wpt_df.tail() "
   ]
  },
  {
   "cell_type": "code",
   "execution_count": 471,
   "id": "c71175f7",
   "metadata": {
    "ExecuteTime": {
     "end_time": "2022-12-22T15:36:18.545200Z",
     "start_time": "2022-12-22T15:36:18.525253Z"
    }
   },
   "outputs": [],
   "source": [
    "#wpt_df.columns"
   ]
  },
  {
   "cell_type": "code",
   "execution_count": 472,
   "id": "6350b008",
   "metadata": {
    "ExecuteTime": {
     "end_time": "2022-12-22T15:36:19.701792Z",
     "start_time": "2022-12-22T15:36:19.684838Z"
    }
   },
   "outputs": [],
   "source": [
    "#wpt_df.head()"
   ]
  },
  {
   "cell_type": "code",
   "execution_count": 473,
   "id": "1cd69fe9",
   "metadata": {
    "ExecuteTime": {
     "end_time": "2022-12-22T15:36:23.576477Z",
     "start_time": "2022-12-22T15:36:23.559495Z"
    }
   },
   "outputs": [],
   "source": [
    "# now merge animal production and human population data set\n",
    "#world_production_inc_lp_df = pd.merge(left=world_production_lp_df, right=wpt_df, on=None, left_on=['Area', 'Year'], right_on=['Country_Name', 'Year'])"
   ]
  },
  {
   "cell_type": "code",
   "execution_count": 474,
   "id": "8c5752cf",
   "metadata": {
    "ExecuteTime": {
     "end_time": "2022-12-22T15:36:26.834708Z",
     "start_time": "2022-12-22T15:36:26.823738Z"
    }
   },
   "outputs": [],
   "source": [
    "#world_production_inc_lp_df.head()"
   ]
  },
  {
   "cell_type": "code",
   "execution_count": 475,
   "id": "fa2cb9f9",
   "metadata": {
    "ExecuteTime": {
     "end_time": "2022-12-22T15:37:46.026028Z",
     "start_time": "2022-12-22T15:37:46.013062Z"
    }
   },
   "outputs": [],
   "source": [
    "# drop columns that are not neccessory\n",
    "#world_production_inc_lp_df.drop(['Country_Name','Indicator_Name','Indicator_Code'], axis = 1, inplace = True)"
   ]
  },
  {
   "cell_type": "code",
   "execution_count": 476,
   "id": "6469f667",
   "metadata": {
    "ExecuteTime": {
     "end_time": "2022-12-22T15:37:46.431135Z",
     "start_time": "2022-12-22T15:37:46.417173Z"
    }
   },
   "outputs": [],
   "source": [
    "#world_production_inc_lp_df.head()"
   ]
  },
  {
   "cell_type": "markdown",
   "id": "8402e8ff",
   "metadata": {},
   "source": [
    "### 2.0.4 Extracting european country data from the data frame\n",
    "This project evaluate milk production in european countries so I need to extract european countries data from the main dataframe"
   ]
  },
  {
   "cell_type": "markdown",
   "id": "074fb97f",
   "metadata": {},
   "source": [
    "#### Library countrygroups\n",
    "It lists country groups as lists of ISO codes, especially those related to the UNFCCC climate policy process\n",
    "This library was use to extract european countries data from the main dataset "
   ]
  },
  {
   "cell_type": "code",
   "execution_count": 467,
   "id": "40105ba9",
   "metadata": {
    "ExecuteTime": {
     "end_time": "2022-12-22T15:10:32.418218Z",
     "start_time": "2022-12-22T15:10:32.142602Z"
    }
   },
   "outputs": [],
   "source": [
    "#library countrygroups\n",
    "#!pip install countrygroups"
   ]
  },
  {
   "cell_type": "code",
   "execution_count": 481,
   "id": "3c805a0d",
   "metadata": {
    "ExecuteTime": {
     "end_time": "2022-12-22T15:39:32.165031Z",
     "start_time": "2022-12-22T15:39:32.158051Z"
    }
   },
   "outputs": [
    {
     "name": "stdout",
     "output_type": "stream",
     "text": [
      "['Austria', 'Belgium', 'Bulgaria', 'Croatia', 'Cyprus', 'Czechia', 'Denmark', 'Estonia', 'Finland', 'France', 'Germany', 'Greece', 'Hungary', 'Ireland', 'Italy', 'Latvia', 'Lithuania', 'Luxembourg', 'Malta', 'Netherlands', 'Poland', 'Portugal', 'Romania', 'Slovakia', 'Slovenia', 'Spain', 'Sweden']\n"
     ]
    }
   ],
   "source": [
    "# get european country list\n",
    "\n",
    "from countrygroups import EUROPEAN_UNION\n",
    "\n",
    "#print(EUROPEAN_UNION.names)\n",
    "eucountry_list = (EUROPEAN_UNION.names)\n",
    "print(eucountry_list)\n",
    "#new_list = [word.upper() for word in EUROPEAN_UNION.names]\n",
    "#print(new_list)\n"
   ]
  },
  {
   "cell_type": "code",
   "execution_count": 482,
   "id": "c177a8f2",
   "metadata": {
    "ExecuteTime": {
     "end_time": "2022-12-22T15:39:40.446233Z",
     "start_time": "2022-12-22T15:39:40.407338Z"
    }
   },
   "outputs": [
    {
     "data": {
      "text/html": [
       "<div>\n",
       "<style scoped>\n",
       "    .dataframe tbody tr th:only-of-type {\n",
       "        vertical-align: middle;\n",
       "    }\n",
       "\n",
       "    .dataframe tbody tr th {\n",
       "        vertical-align: top;\n",
       "    }\n",
       "\n",
       "    .dataframe thead th {\n",
       "        text-align: right;\n",
       "    }\n",
       "</style>\n",
       "<table border=\"1\" class=\"dataframe\">\n",
       "  <thead>\n",
       "    <tr style=\"text-align: right;\">\n",
       "      <th></th>\n",
       "      <th>Area</th>\n",
       "      <th>Production_Element</th>\n",
       "      <th>Item</th>\n",
       "      <th>Year</th>\n",
       "      <th>Production_Unit</th>\n",
       "      <th>Production_Value</th>\n",
       "      <th>Yeild_Element</th>\n",
       "      <th>Yeild_Unit</th>\n",
       "      <th>Yeild_Value</th>\n",
       "      <th>Animal_Element</th>\n",
       "      <th>Animal_Unit</th>\n",
       "      <th>Animal_Value</th>\n",
       "    </tr>\n",
       "  </thead>\n",
       "  <tbody>\n",
       "    <tr>\n",
       "      <th>0</th>\n",
       "      <td>Afghanistan</td>\n",
       "      <td>Production</td>\n",
       "      <td>Milk</td>\n",
       "      <td>1961</td>\n",
       "      <td>tonnes</td>\n",
       "      <td>574900.0</td>\n",
       "      <td>Yield</td>\n",
       "      <td>hg/An</td>\n",
       "      <td>753.0</td>\n",
       "      <td>Milk Animals</td>\n",
       "      <td>Head</td>\n",
       "      <td>7639000.0</td>\n",
       "    </tr>\n",
       "    <tr>\n",
       "      <th>1</th>\n",
       "      <td>Afghanistan</td>\n",
       "      <td>Production</td>\n",
       "      <td>Milk</td>\n",
       "      <td>1962</td>\n",
       "      <td>tonnes</td>\n",
       "      <td>576700.0</td>\n",
       "      <td>Yield</td>\n",
       "      <td>hg/An</td>\n",
       "      <td>752.0</td>\n",
       "      <td>Milk Animals</td>\n",
       "      <td>Head</td>\n",
       "      <td>7672000.0</td>\n",
       "    </tr>\n",
       "    <tr>\n",
       "      <th>2</th>\n",
       "      <td>Afghanistan</td>\n",
       "      <td>Production</td>\n",
       "      <td>Milk</td>\n",
       "      <td>1963</td>\n",
       "      <td>tonnes</td>\n",
       "      <td>646700.0</td>\n",
       "      <td>Yield</td>\n",
       "      <td>hg/An</td>\n",
       "      <td>779.0</td>\n",
       "      <td>Milk Animals</td>\n",
       "      <td>Head</td>\n",
       "      <td>8307000.0</td>\n",
       "    </tr>\n",
       "    <tr>\n",
       "      <th>3</th>\n",
       "      <td>Afghanistan</td>\n",
       "      <td>Production</td>\n",
       "      <td>Milk</td>\n",
       "      <td>1964</td>\n",
       "      <td>tonnes</td>\n",
       "      <td>659900.0</td>\n",
       "      <td>Yield</td>\n",
       "      <td>hg/An</td>\n",
       "      <td>753.0</td>\n",
       "      <td>Milk Animals</td>\n",
       "      <td>Head</td>\n",
       "      <td>8765000.0</td>\n",
       "    </tr>\n",
       "    <tr>\n",
       "      <th>4</th>\n",
       "      <td>Afghanistan</td>\n",
       "      <td>Production</td>\n",
       "      <td>Milk</td>\n",
       "      <td>1965</td>\n",
       "      <td>tonnes</td>\n",
       "      <td>720900.0</td>\n",
       "      <td>Yield</td>\n",
       "      <td>hg/An</td>\n",
       "      <td>784.0</td>\n",
       "      <td>Milk Animals</td>\n",
       "      <td>Head</td>\n",
       "      <td>9200000.0</td>\n",
       "    </tr>\n",
       "    <tr>\n",
       "      <th>...</th>\n",
       "      <td>...</td>\n",
       "      <td>...</td>\n",
       "      <td>...</td>\n",
       "      <td>...</td>\n",
       "      <td>...</td>\n",
       "      <td>...</td>\n",
       "      <td>...</td>\n",
       "      <td>...</td>\n",
       "      <td>...</td>\n",
       "      <td>...</td>\n",
       "      <td>...</td>\n",
       "      <td>...</td>\n",
       "    </tr>\n",
       "    <tr>\n",
       "      <th>12528</th>\n",
       "      <td>Net Food Importing Developing Countries</td>\n",
       "      <td>Production</td>\n",
       "      <td>Milk</td>\n",
       "      <td>2016</td>\n",
       "      <td>tonnes</td>\n",
       "      <td>109277438.0</td>\n",
       "      <td>Yield</td>\n",
       "      <td>hg/An</td>\n",
       "      <td>3302.0</td>\n",
       "      <td>Milk Animals</td>\n",
       "      <td>Head</td>\n",
       "      <td>330972903.0</td>\n",
       "    </tr>\n",
       "    <tr>\n",
       "      <th>12529</th>\n",
       "      <td>Net Food Importing Developing Countries</td>\n",
       "      <td>Production</td>\n",
       "      <td>Milk</td>\n",
       "      <td>2017</td>\n",
       "      <td>tonnes</td>\n",
       "      <td>111378964.0</td>\n",
       "      <td>Yield</td>\n",
       "      <td>hg/An</td>\n",
       "      <td>3347.0</td>\n",
       "      <td>Milk Animals</td>\n",
       "      <td>Head</td>\n",
       "      <td>332781005.0</td>\n",
       "    </tr>\n",
       "    <tr>\n",
       "      <th>12530</th>\n",
       "      <td>Net Food Importing Developing Countries</td>\n",
       "      <td>Production</td>\n",
       "      <td>Milk</td>\n",
       "      <td>2018</td>\n",
       "      <td>tonnes</td>\n",
       "      <td>114671482.0</td>\n",
       "      <td>Yield</td>\n",
       "      <td>hg/An</td>\n",
       "      <td>3435.0</td>\n",
       "      <td>Milk Animals</td>\n",
       "      <td>Head</td>\n",
       "      <td>333856329.0</td>\n",
       "    </tr>\n",
       "    <tr>\n",
       "      <th>12531</th>\n",
       "      <td>Net Food Importing Developing Countries</td>\n",
       "      <td>Production</td>\n",
       "      <td>Milk</td>\n",
       "      <td>2019</td>\n",
       "      <td>tonnes</td>\n",
       "      <td>120266099.0</td>\n",
       "      <td>Yield</td>\n",
       "      <td>hg/An</td>\n",
       "      <td>3427.0</td>\n",
       "      <td>Milk Animals</td>\n",
       "      <td>Head</td>\n",
       "      <td>350949439.0</td>\n",
       "    </tr>\n",
       "    <tr>\n",
       "      <th>12532</th>\n",
       "      <td>Net Food Importing Developing Countries</td>\n",
       "      <td>Production</td>\n",
       "      <td>Milk</td>\n",
       "      <td>2020</td>\n",
       "      <td>tonnes</td>\n",
       "      <td>123486104.0</td>\n",
       "      <td>Yield</td>\n",
       "      <td>hg/An</td>\n",
       "      <td>3563.0</td>\n",
       "      <td>Milk Animals</td>\n",
       "      <td>Head</td>\n",
       "      <td>346548351.0</td>\n",
       "    </tr>\n",
       "  </tbody>\n",
       "</table>\n",
       "<p>12533 rows × 12 columns</p>\n",
       "</div>"
      ],
      "text/plain": [
       "                                          Area Production_Element  Item  Year  \\\n",
       "0                                  Afghanistan         Production  Milk  1961   \n",
       "1                                  Afghanistan         Production  Milk  1962   \n",
       "2                                  Afghanistan         Production  Milk  1963   \n",
       "3                                  Afghanistan         Production  Milk  1964   \n",
       "4                                  Afghanistan         Production  Milk  1965   \n",
       "...                                        ...                ...   ...   ...   \n",
       "12528  Net Food Importing Developing Countries         Production  Milk  2016   \n",
       "12529  Net Food Importing Developing Countries         Production  Milk  2017   \n",
       "12530  Net Food Importing Developing Countries         Production  Milk  2018   \n",
       "12531  Net Food Importing Developing Countries         Production  Milk  2019   \n",
       "12532  Net Food Importing Developing Countries         Production  Milk  2020   \n",
       "\n",
       "      Production_Unit  Production_Value Yeild_Element Yeild_Unit  Yeild_Value  \\\n",
       "0              tonnes          574900.0         Yield      hg/An        753.0   \n",
       "1              tonnes          576700.0         Yield      hg/An        752.0   \n",
       "2              tonnes          646700.0         Yield      hg/An        779.0   \n",
       "3              tonnes          659900.0         Yield      hg/An        753.0   \n",
       "4              tonnes          720900.0         Yield      hg/An        784.0   \n",
       "...               ...               ...           ...        ...          ...   \n",
       "12528          tonnes       109277438.0         Yield      hg/An       3302.0   \n",
       "12529          tonnes       111378964.0         Yield      hg/An       3347.0   \n",
       "12530          tonnes       114671482.0         Yield      hg/An       3435.0   \n",
       "12531          tonnes       120266099.0         Yield      hg/An       3427.0   \n",
       "12532          tonnes       123486104.0         Yield      hg/An       3563.0   \n",
       "\n",
       "      Animal_Element Animal_Unit  Animal_Value  \n",
       "0       Milk Animals        Head     7639000.0  \n",
       "1       Milk Animals        Head     7672000.0  \n",
       "2       Milk Animals        Head     8307000.0  \n",
       "3       Milk Animals        Head     8765000.0  \n",
       "4       Milk Animals        Head     9200000.0  \n",
       "...              ...         ...           ...  \n",
       "12528   Milk Animals        Head   330972903.0  \n",
       "12529   Milk Animals        Head   332781005.0  \n",
       "12530   Milk Animals        Head   333856329.0  \n",
       "12531   Milk Animals        Head   350949439.0  \n",
       "12532   Milk Animals        Head   346548351.0  \n",
       "\n",
       "[12533 rows x 12 columns]"
      ]
     },
     "execution_count": 482,
     "metadata": {},
     "output_type": "execute_result"
    }
   ],
   "source": [
    "world_production_lp_df"
   ]
  },
  {
   "cell_type": "code",
   "execution_count": 484,
   "id": "ca1ca35d",
   "metadata": {
    "ExecuteTime": {
     "end_time": "2022-12-22T15:39:56.872941Z",
     "start_time": "2022-12-22T15:39:56.845985Z"
    }
   },
   "outputs": [
    {
     "name": "stdout",
     "output_type": "stream",
     "text": [
      "(1323, 12)\n"
     ]
    }
   ],
   "source": [
    "#now filter european country data\n",
    "eu_production_lp_df = world_production_lp_df.loc[world_production_lp_df['Area'].isin(eucountry_list)] \n",
    "print(eu_production_lp_df.shape)\n"
   ]
  },
  {
   "cell_type": "code",
   "execution_count": 485,
   "id": "964866d2",
   "metadata": {
    "ExecuteTime": {
     "end_time": "2022-12-22T15:40:22.627568Z",
     "start_time": "2022-12-22T15:40:22.535816Z"
    }
   },
   "outputs": [
    {
     "data": {
      "text/html": [
       "<div>\n",
       "<style scoped>\n",
       "    .dataframe tbody tr th:only-of-type {\n",
       "        vertical-align: middle;\n",
       "    }\n",
       "\n",
       "    .dataframe tbody tr th {\n",
       "        vertical-align: top;\n",
       "    }\n",
       "\n",
       "    .dataframe thead th {\n",
       "        text-align: right;\n",
       "    }\n",
       "</style>\n",
       "<table border=\"1\" class=\"dataframe\">\n",
       "  <thead>\n",
       "    <tr style=\"text-align: right;\">\n",
       "      <th></th>\n",
       "      <th>Area</th>\n",
       "      <th>Production_Element</th>\n",
       "      <th>Item</th>\n",
       "      <th>Year</th>\n",
       "      <th>Production_Unit</th>\n",
       "      <th>Production_Value</th>\n",
       "      <th>Yeild_Element</th>\n",
       "      <th>Yeild_Unit</th>\n",
       "      <th>Yeild_Value</th>\n",
       "      <th>Animal_Element</th>\n",
       "      <th>Animal_Unit</th>\n",
       "      <th>Animal_Value</th>\n",
       "    </tr>\n",
       "  </thead>\n",
       "  <tbody>\n",
       "    <tr>\n",
       "      <th>4793</th>\n",
       "      <td>Ireland</td>\n",
       "      <td>Production</td>\n",
       "      <td>Milk</td>\n",
       "      <td>1961</td>\n",
       "      <td>tonnes</td>\n",
       "      <td>2356000.0</td>\n",
       "      <td>Yield</td>\n",
       "      <td>hg/An</td>\n",
       "      <td>19536.0</td>\n",
       "      <td>Milk Animals</td>\n",
       "      <td>Head</td>\n",
       "      <td>1206000.0</td>\n",
       "    </tr>\n",
       "    <tr>\n",
       "      <th>4794</th>\n",
       "      <td>Ireland</td>\n",
       "      <td>Production</td>\n",
       "      <td>Milk</td>\n",
       "      <td>1962</td>\n",
       "      <td>tonnes</td>\n",
       "      <td>2450800.0</td>\n",
       "      <td>Yield</td>\n",
       "      <td>hg/An</td>\n",
       "      <td>20089.0</td>\n",
       "      <td>Milk Animals</td>\n",
       "      <td>Head</td>\n",
       "      <td>1220000.0</td>\n",
       "    </tr>\n",
       "    <tr>\n",
       "      <th>4795</th>\n",
       "      <td>Ireland</td>\n",
       "      <td>Production</td>\n",
       "      <td>Milk</td>\n",
       "      <td>1963</td>\n",
       "      <td>tonnes</td>\n",
       "      <td>2461100.0</td>\n",
       "      <td>Yield</td>\n",
       "      <td>hg/An</td>\n",
       "      <td>20123.0</td>\n",
       "      <td>Milk Animals</td>\n",
       "      <td>Head</td>\n",
       "      <td>1223000.0</td>\n",
       "    </tr>\n",
       "    <tr>\n",
       "      <th>4796</th>\n",
       "      <td>Ireland</td>\n",
       "      <td>Production</td>\n",
       "      <td>Milk</td>\n",
       "      <td>1964</td>\n",
       "      <td>tonnes</td>\n",
       "      <td>2548300.0</td>\n",
       "      <td>Yield</td>\n",
       "      <td>hg/An</td>\n",
       "      <td>19987.0</td>\n",
       "      <td>Milk Animals</td>\n",
       "      <td>Head</td>\n",
       "      <td>1275000.0</td>\n",
       "    </tr>\n",
       "    <tr>\n",
       "      <th>4797</th>\n",
       "      <td>Ireland</td>\n",
       "      <td>Production</td>\n",
       "      <td>Milk</td>\n",
       "      <td>1965</td>\n",
       "      <td>tonnes</td>\n",
       "      <td>2637800.0</td>\n",
       "      <td>Yield</td>\n",
       "      <td>hg/An</td>\n",
       "      <td>19381.0</td>\n",
       "      <td>Milk Animals</td>\n",
       "      <td>Head</td>\n",
       "      <td>1361000.0</td>\n",
       "    </tr>\n",
       "    <tr>\n",
       "      <th>4798</th>\n",
       "      <td>Ireland</td>\n",
       "      <td>Production</td>\n",
       "      <td>Milk</td>\n",
       "      <td>1966</td>\n",
       "      <td>tonnes</td>\n",
       "      <td>2716600.0</td>\n",
       "      <td>Yield</td>\n",
       "      <td>hg/An</td>\n",
       "      <td>19404.0</td>\n",
       "      <td>Milk Animals</td>\n",
       "      <td>Head</td>\n",
       "      <td>1400000.0</td>\n",
       "    </tr>\n",
       "    <tr>\n",
       "      <th>4799</th>\n",
       "      <td>Ireland</td>\n",
       "      <td>Production</td>\n",
       "      <td>Milk</td>\n",
       "      <td>1967</td>\n",
       "      <td>tonnes</td>\n",
       "      <td>2951400.0</td>\n",
       "      <td>Yield</td>\n",
       "      <td>hg/An</td>\n",
       "      <td>20755.0</td>\n",
       "      <td>Milk Animals</td>\n",
       "      <td>Head</td>\n",
       "      <td>1422000.0</td>\n",
       "    </tr>\n",
       "    <tr>\n",
       "      <th>4800</th>\n",
       "      <td>Ireland</td>\n",
       "      <td>Production</td>\n",
       "      <td>Milk</td>\n",
       "      <td>1968</td>\n",
       "      <td>tonnes</td>\n",
       "      <td>3148700.0</td>\n",
       "      <td>Yield</td>\n",
       "      <td>hg/An</td>\n",
       "      <td>21232.0</td>\n",
       "      <td>Milk Animals</td>\n",
       "      <td>Head</td>\n",
       "      <td>1483000.0</td>\n",
       "    </tr>\n",
       "    <tr>\n",
       "      <th>4801</th>\n",
       "      <td>Ireland</td>\n",
       "      <td>Production</td>\n",
       "      <td>Milk</td>\n",
       "      <td>1969</td>\n",
       "      <td>tonnes</td>\n",
       "      <td>3145000.0</td>\n",
       "      <td>Yield</td>\n",
       "      <td>hg/An</td>\n",
       "      <td>21136.0</td>\n",
       "      <td>Milk Animals</td>\n",
       "      <td>Head</td>\n",
       "      <td>1488000.0</td>\n",
       "    </tr>\n",
       "    <tr>\n",
       "      <th>4802</th>\n",
       "      <td>Ireland</td>\n",
       "      <td>Production</td>\n",
       "      <td>Milk</td>\n",
       "      <td>1970</td>\n",
       "      <td>tonnes</td>\n",
       "      <td>3075600.0</td>\n",
       "      <td>Yield</td>\n",
       "      <td>hg/An</td>\n",
       "      <td>21674.0</td>\n",
       "      <td>Milk Animals</td>\n",
       "      <td>Head</td>\n",
       "      <td>1419000.0</td>\n",
       "    </tr>\n",
       "    <tr>\n",
       "      <th>4803</th>\n",
       "      <td>Ireland</td>\n",
       "      <td>Production</td>\n",
       "      <td>Milk</td>\n",
       "      <td>1971</td>\n",
       "      <td>tonnes</td>\n",
       "      <td>3161400.0</td>\n",
       "      <td>Yield</td>\n",
       "      <td>hg/An</td>\n",
       "      <td>21803.0</td>\n",
       "      <td>Milk Animals</td>\n",
       "      <td>Head</td>\n",
       "      <td>1450000.0</td>\n",
       "    </tr>\n",
       "    <tr>\n",
       "      <th>4804</th>\n",
       "      <td>Ireland</td>\n",
       "      <td>Production</td>\n",
       "      <td>Milk</td>\n",
       "      <td>1972</td>\n",
       "      <td>tonnes</td>\n",
       "      <td>3318900.0</td>\n",
       "      <td>Yield</td>\n",
       "      <td>hg/An</td>\n",
       "      <td>25510.0</td>\n",
       "      <td>Milk Animals</td>\n",
       "      <td>Head</td>\n",
       "      <td>1301000.0</td>\n",
       "    </tr>\n",
       "    <tr>\n",
       "      <th>4805</th>\n",
       "      <td>Ireland</td>\n",
       "      <td>Production</td>\n",
       "      <td>Milk</td>\n",
       "      <td>1973</td>\n",
       "      <td>tonnes</td>\n",
       "      <td>3475500.0</td>\n",
       "      <td>Yield</td>\n",
       "      <td>hg/An</td>\n",
       "      <td>25022.0</td>\n",
       "      <td>Milk Animals</td>\n",
       "      <td>Head</td>\n",
       "      <td>1389000.0</td>\n",
       "    </tr>\n",
       "    <tr>\n",
       "      <th>4806</th>\n",
       "      <td>Ireland</td>\n",
       "      <td>Production</td>\n",
       "      <td>Milk</td>\n",
       "      <td>1974</td>\n",
       "      <td>tonnes</td>\n",
       "      <td>3340000.0</td>\n",
       "      <td>Yield</td>\n",
       "      <td>hg/An</td>\n",
       "      <td>23340.0</td>\n",
       "      <td>Milk Animals</td>\n",
       "      <td>Head</td>\n",
       "      <td>1431000.0</td>\n",
       "    </tr>\n",
       "    <tr>\n",
       "      <th>4807</th>\n",
       "      <td>Ireland</td>\n",
       "      <td>Production</td>\n",
       "      <td>Milk</td>\n",
       "      <td>1975</td>\n",
       "      <td>tonnes</td>\n",
       "      <td>3593000.0</td>\n",
       "      <td>Yield</td>\n",
       "      <td>hg/An</td>\n",
       "      <td>25555.0</td>\n",
       "      <td>Milk Animals</td>\n",
       "      <td>Head</td>\n",
       "      <td>1406000.0</td>\n",
       "    </tr>\n",
       "    <tr>\n",
       "      <th>4808</th>\n",
       "      <td>Ireland</td>\n",
       "      <td>Production</td>\n",
       "      <td>Milk</td>\n",
       "      <td>1976</td>\n",
       "      <td>tonnes</td>\n",
       "      <td>3862700.0</td>\n",
       "      <td>Yield</td>\n",
       "      <td>hg/An</td>\n",
       "      <td>27991.0</td>\n",
       "      <td>Milk Animals</td>\n",
       "      <td>Head</td>\n",
       "      <td>1380000.0</td>\n",
       "    </tr>\n",
       "    <tr>\n",
       "      <th>4809</th>\n",
       "      <td>Ireland</td>\n",
       "      <td>Production</td>\n",
       "      <td>Milk</td>\n",
       "      <td>1977</td>\n",
       "      <td>tonnes</td>\n",
       "      <td>4157200.0</td>\n",
       "      <td>Yield</td>\n",
       "      <td>hg/An</td>\n",
       "      <td>28950.0</td>\n",
       "      <td>Milk Animals</td>\n",
       "      <td>Head</td>\n",
       "      <td>1436000.0</td>\n",
       "    </tr>\n",
       "    <tr>\n",
       "      <th>4810</th>\n",
       "      <td>Ireland</td>\n",
       "      <td>Production</td>\n",
       "      <td>Milk</td>\n",
       "      <td>1978</td>\n",
       "      <td>tonnes</td>\n",
       "      <td>4697000.0</td>\n",
       "      <td>Yield</td>\n",
       "      <td>hg/An</td>\n",
       "      <td>31651.0</td>\n",
       "      <td>Milk Animals</td>\n",
       "      <td>Head</td>\n",
       "      <td>1484000.0</td>\n",
       "    </tr>\n",
       "    <tr>\n",
       "      <th>4811</th>\n",
       "      <td>Ireland</td>\n",
       "      <td>Production</td>\n",
       "      <td>Milk</td>\n",
       "      <td>1979</td>\n",
       "      <td>tonnes</td>\n",
       "      <td>4788200.0</td>\n",
       "      <td>Yield</td>\n",
       "      <td>hg/An</td>\n",
       "      <td>31647.0</td>\n",
       "      <td>Milk Animals</td>\n",
       "      <td>Head</td>\n",
       "      <td>1513000.0</td>\n",
       "    </tr>\n",
       "    <tr>\n",
       "      <th>4812</th>\n",
       "      <td>Ireland</td>\n",
       "      <td>Production</td>\n",
       "      <td>Milk</td>\n",
       "      <td>1980</td>\n",
       "      <td>tonnes</td>\n",
       "      <td>4717400.0</td>\n",
       "      <td>Yield</td>\n",
       "      <td>hg/An</td>\n",
       "      <td>31387.0</td>\n",
       "      <td>Milk Animals</td>\n",
       "      <td>Head</td>\n",
       "      <td>1503000.0</td>\n",
       "    </tr>\n",
       "    <tr>\n",
       "      <th>4813</th>\n",
       "      <td>Ireland</td>\n",
       "      <td>Production</td>\n",
       "      <td>Milk</td>\n",
       "      <td>1981</td>\n",
       "      <td>tonnes</td>\n",
       "      <td>4682800.0</td>\n",
       "      <td>Yield</td>\n",
       "      <td>hg/An</td>\n",
       "      <td>32317.0</td>\n",
       "      <td>Milk Animals</td>\n",
       "      <td>Head</td>\n",
       "      <td>1449000.0</td>\n",
       "    </tr>\n",
       "    <tr>\n",
       "      <th>4814</th>\n",
       "      <td>Ireland</td>\n",
       "      <td>Production</td>\n",
       "      <td>Milk</td>\n",
       "      <td>1982</td>\n",
       "      <td>tonnes</td>\n",
       "      <td>5105600.0</td>\n",
       "      <td>Yield</td>\n",
       "      <td>hg/An</td>\n",
       "      <td>35018.0</td>\n",
       "      <td>Milk Animals</td>\n",
       "      <td>Head</td>\n",
       "      <td>1458000.0</td>\n",
       "    </tr>\n",
       "    <tr>\n",
       "      <th>4815</th>\n",
       "      <td>Ireland</td>\n",
       "      <td>Production</td>\n",
       "      <td>Milk</td>\n",
       "      <td>1983</td>\n",
       "      <td>tonnes</td>\n",
       "      <td>5498300.0</td>\n",
       "      <td>Yield</td>\n",
       "      <td>hg/An</td>\n",
       "      <td>36340.0</td>\n",
       "      <td>Milk Animals</td>\n",
       "      <td>Head</td>\n",
       "      <td>1513000.0</td>\n",
       "    </tr>\n",
       "    <tr>\n",
       "      <th>4816</th>\n",
       "      <td>Ireland</td>\n",
       "      <td>Production</td>\n",
       "      <td>Milk</td>\n",
       "      <td>1984</td>\n",
       "      <td>tonnes</td>\n",
       "      <td>5736500.0</td>\n",
       "      <td>Yield</td>\n",
       "      <td>hg/An</td>\n",
       "      <td>37371.0</td>\n",
       "      <td>Milk Animals</td>\n",
       "      <td>Head</td>\n",
       "      <td>1535000.0</td>\n",
       "    </tr>\n",
       "    <tr>\n",
       "      <th>4817</th>\n",
       "      <td>Ireland</td>\n",
       "      <td>Production</td>\n",
       "      <td>Milk</td>\n",
       "      <td>1985</td>\n",
       "      <td>tonnes</td>\n",
       "      <td>5830300.0</td>\n",
       "      <td>Yield</td>\n",
       "      <td>hg/An</td>\n",
       "      <td>37632.0</td>\n",
       "      <td>Milk Animals</td>\n",
       "      <td>Head</td>\n",
       "      <td>1549300.0</td>\n",
       "    </tr>\n",
       "    <tr>\n",
       "      <th>4818</th>\n",
       "      <td>Ireland</td>\n",
       "      <td>Production</td>\n",
       "      <td>Milk</td>\n",
       "      <td>1986</td>\n",
       "      <td>tonnes</td>\n",
       "      <td>5621000.0</td>\n",
       "      <td>Yield</td>\n",
       "      <td>hg/An</td>\n",
       "      <td>36794.0</td>\n",
       "      <td>Milk Animals</td>\n",
       "      <td>Head</td>\n",
       "      <td>1527700.0</td>\n",
       "    </tr>\n",
       "    <tr>\n",
       "      <th>4819</th>\n",
       "      <td>Ireland</td>\n",
       "      <td>Production</td>\n",
       "      <td>Milk</td>\n",
       "      <td>1987</td>\n",
       "      <td>tonnes</td>\n",
       "      <td>5528200.0</td>\n",
       "      <td>Yield</td>\n",
       "      <td>hg/An</td>\n",
       "      <td>37092.0</td>\n",
       "      <td>Milk Animals</td>\n",
       "      <td>Head</td>\n",
       "      <td>1490400.0</td>\n",
       "    </tr>\n",
       "    <tr>\n",
       "      <th>4820</th>\n",
       "      <td>Ireland</td>\n",
       "      <td>Production</td>\n",
       "      <td>Milk</td>\n",
       "      <td>1988</td>\n",
       "      <td>tonnes</td>\n",
       "      <td>5330300.0</td>\n",
       "      <td>Yield</td>\n",
       "      <td>hg/An</td>\n",
       "      <td>36924.0</td>\n",
       "      <td>Milk Animals</td>\n",
       "      <td>Head</td>\n",
       "      <td>1443600.0</td>\n",
       "    </tr>\n",
       "    <tr>\n",
       "      <th>4821</th>\n",
       "      <td>Ireland</td>\n",
       "      <td>Production</td>\n",
       "      <td>Milk</td>\n",
       "      <td>1989</td>\n",
       "      <td>tonnes</td>\n",
       "      <td>5381800.0</td>\n",
       "      <td>Yield</td>\n",
       "      <td>hg/An</td>\n",
       "      <td>38802.0</td>\n",
       "      <td>Milk Animals</td>\n",
       "      <td>Head</td>\n",
       "      <td>1387000.0</td>\n",
       "    </tr>\n",
       "    <tr>\n",
       "      <th>4822</th>\n",
       "      <td>Ireland</td>\n",
       "      <td>Production</td>\n",
       "      <td>Milk</td>\n",
       "      <td>1990</td>\n",
       "      <td>tonnes</td>\n",
       "      <td>5402400.0</td>\n",
       "      <td>Yield</td>\n",
       "      <td>hg/An</td>\n",
       "      <td>40256.0</td>\n",
       "      <td>Milk Animals</td>\n",
       "      <td>Head</td>\n",
       "      <td>1342000.0</td>\n",
       "    </tr>\n",
       "    <tr>\n",
       "      <th>4823</th>\n",
       "      <td>Ireland</td>\n",
       "      <td>Production</td>\n",
       "      <td>Milk</td>\n",
       "      <td>1991</td>\n",
       "      <td>tonnes</td>\n",
       "      <td>5281800.0</td>\n",
       "      <td>Yield</td>\n",
       "      <td>hg/An</td>\n",
       "      <td>39953.0</td>\n",
       "      <td>Milk Animals</td>\n",
       "      <td>Head</td>\n",
       "      <td>1322000.0</td>\n",
       "    </tr>\n",
       "    <tr>\n",
       "      <th>4824</th>\n",
       "      <td>Ireland</td>\n",
       "      <td>Production</td>\n",
       "      <td>Milk</td>\n",
       "      <td>1992</td>\n",
       "      <td>tonnes</td>\n",
       "      <td>5326100.0</td>\n",
       "      <td>Yield</td>\n",
       "      <td>hg/An</td>\n",
       "      <td>41352.0</td>\n",
       "      <td>Milk Animals</td>\n",
       "      <td>Head</td>\n",
       "      <td>1288000.0</td>\n",
       "    </tr>\n",
       "    <tr>\n",
       "      <th>4825</th>\n",
       "      <td>Ireland</td>\n",
       "      <td>Production</td>\n",
       "      <td>Milk</td>\n",
       "      <td>1993</td>\n",
       "      <td>tonnes</td>\n",
       "      <td>5267400.0</td>\n",
       "      <td>Yield</td>\n",
       "      <td>hg/An</td>\n",
       "      <td>42268.0</td>\n",
       "      <td>Milk Animals</td>\n",
       "      <td>Head</td>\n",
       "      <td>1246200.0</td>\n",
       "    </tr>\n",
       "    <tr>\n",
       "      <th>4826</th>\n",
       "      <td>Ireland</td>\n",
       "      <td>Production</td>\n",
       "      <td>Milk</td>\n",
       "      <td>1994</td>\n",
       "      <td>tonnes</td>\n",
       "      <td>5336500.0</td>\n",
       "      <td>Yield</td>\n",
       "      <td>hg/An</td>\n",
       "      <td>42750.0</td>\n",
       "      <td>Milk Animals</td>\n",
       "      <td>Head</td>\n",
       "      <td>1248300.0</td>\n",
       "    </tr>\n",
       "    <tr>\n",
       "      <th>4827</th>\n",
       "      <td>Ireland</td>\n",
       "      <td>Production</td>\n",
       "      <td>Milk</td>\n",
       "      <td>1995</td>\n",
       "      <td>tonnes</td>\n",
       "      <td>5346800.0</td>\n",
       "      <td>Yield</td>\n",
       "      <td>hg/An</td>\n",
       "      <td>43364.0</td>\n",
       "      <td>Milk Animals</td>\n",
       "      <td>Head</td>\n",
       "      <td>1233000.0</td>\n",
       "    </tr>\n",
       "    <tr>\n",
       "      <th>4828</th>\n",
       "      <td>Ireland</td>\n",
       "      <td>Production</td>\n",
       "      <td>Milk</td>\n",
       "      <td>1996</td>\n",
       "      <td>tonnes</td>\n",
       "      <td>5297100.0</td>\n",
       "      <td>Yield</td>\n",
       "      <td>hg/An</td>\n",
       "      <td>43390.0</td>\n",
       "      <td>Milk Animals</td>\n",
       "      <td>Head</td>\n",
       "      <td>1220800.0</td>\n",
       "    </tr>\n",
       "    <tr>\n",
       "      <th>4829</th>\n",
       "      <td>Ireland</td>\n",
       "      <td>Production</td>\n",
       "      <td>Milk</td>\n",
       "      <td>1997</td>\n",
       "      <td>tonnes</td>\n",
       "      <td>5256300.0</td>\n",
       "      <td>Yield</td>\n",
       "      <td>hg/An</td>\n",
       "      <td>43240.0</td>\n",
       "      <td>Milk Animals</td>\n",
       "      <td>Head</td>\n",
       "      <td>1215600.0</td>\n",
       "    </tr>\n",
       "    <tr>\n",
       "      <th>4830</th>\n",
       "      <td>Ireland</td>\n",
       "      <td>Production</td>\n",
       "      <td>Milk</td>\n",
       "      <td>1998</td>\n",
       "      <td>tonnes</td>\n",
       "      <td>5091200.0</td>\n",
       "      <td>Yield</td>\n",
       "      <td>hg/An</td>\n",
       "      <td>42377.0</td>\n",
       "      <td>Milk Animals</td>\n",
       "      <td>Head</td>\n",
       "      <td>1201400.0</td>\n",
       "    </tr>\n",
       "    <tr>\n",
       "      <th>4831</th>\n",
       "      <td>Ireland</td>\n",
       "      <td>Production</td>\n",
       "      <td>Milk</td>\n",
       "      <td>1999</td>\n",
       "      <td>tonnes</td>\n",
       "      <td>5121100.0</td>\n",
       "      <td>Yield</td>\n",
       "      <td>hg/An</td>\n",
       "      <td>42719.0</td>\n",
       "      <td>Milk Animals</td>\n",
       "      <td>Head</td>\n",
       "      <td>1198800.0</td>\n",
       "    </tr>\n",
       "    <tr>\n",
       "      <th>4832</th>\n",
       "      <td>Ireland</td>\n",
       "      <td>Production</td>\n",
       "      <td>Milk</td>\n",
       "      <td>2000</td>\n",
       "      <td>tonnes</td>\n",
       "      <td>5159788.0</td>\n",
       "      <td>Yield</td>\n",
       "      <td>hg/An</td>\n",
       "      <td>43820.0</td>\n",
       "      <td>Milk Animals</td>\n",
       "      <td>Head</td>\n",
       "      <td>1177500.0</td>\n",
       "    </tr>\n",
       "    <tr>\n",
       "      <th>4833</th>\n",
       "      <td>Ireland</td>\n",
       "      <td>Production</td>\n",
       "      <td>Milk</td>\n",
       "      <td>2001</td>\n",
       "      <td>tonnes</td>\n",
       "      <td>5381800.0</td>\n",
       "      <td>Yield</td>\n",
       "      <td>hg/An</td>\n",
       "      <td>45512.0</td>\n",
       "      <td>Milk Animals</td>\n",
       "      <td>Head</td>\n",
       "      <td>1182500.0</td>\n",
       "    </tr>\n",
       "    <tr>\n",
       "      <th>4834</th>\n",
       "      <td>Ireland</td>\n",
       "      <td>Production</td>\n",
       "      <td>Milk</td>\n",
       "      <td>2002</td>\n",
       "      <td>tonnes</td>\n",
       "      <td>5368000.0</td>\n",
       "      <td>Yield</td>\n",
       "      <td>hg/An</td>\n",
       "      <td>46113.0</td>\n",
       "      <td>Milk Animals</td>\n",
       "      <td>Head</td>\n",
       "      <td>1164100.0</td>\n",
       "    </tr>\n",
       "    <tr>\n",
       "      <th>4835</th>\n",
       "      <td>Ireland</td>\n",
       "      <td>Production</td>\n",
       "      <td>Milk</td>\n",
       "      <td>2003</td>\n",
       "      <td>tonnes</td>\n",
       "      <td>5310140.0</td>\n",
       "      <td>Yield</td>\n",
       "      <td>hg/An</td>\n",
       "      <td>45951.0</td>\n",
       "      <td>Milk Animals</td>\n",
       "      <td>Head</td>\n",
       "      <td>1155600.0</td>\n",
       "    </tr>\n",
       "    <tr>\n",
       "      <th>4836</th>\n",
       "      <td>Ireland</td>\n",
       "      <td>Production</td>\n",
       "      <td>Milk</td>\n",
       "      <td>2004</td>\n",
       "      <td>tonnes</td>\n",
       "      <td>5267880.0</td>\n",
       "      <td>Yield</td>\n",
       "      <td>hg/An</td>\n",
       "      <td>45566.0</td>\n",
       "      <td>Milk Animals</td>\n",
       "      <td>Head</td>\n",
       "      <td>1156100.0</td>\n",
       "    </tr>\n",
       "    <tr>\n",
       "      <th>4837</th>\n",
       "      <td>Ireland</td>\n",
       "      <td>Production</td>\n",
       "      <td>Milk</td>\n",
       "      <td>2005</td>\n",
       "      <td>tonnes</td>\n",
       "      <td>5061250.0</td>\n",
       "      <td>Yield</td>\n",
       "      <td>hg/An</td>\n",
       "      <td>47969.0</td>\n",
       "      <td>Milk Animals</td>\n",
       "      <td>Head</td>\n",
       "      <td>1055100.0</td>\n",
       "    </tr>\n",
       "    <tr>\n",
       "      <th>4838</th>\n",
       "      <td>Ireland</td>\n",
       "      <td>Production</td>\n",
       "      <td>Milk</td>\n",
       "      <td>2006</td>\n",
       "      <td>tonnes</td>\n",
       "      <td>5224390.0</td>\n",
       "      <td>Yield</td>\n",
       "      <td>hg/An</td>\n",
       "      <td>48164.0</td>\n",
       "      <td>Milk Animals</td>\n",
       "      <td>Head</td>\n",
       "      <td>1084700.0</td>\n",
       "    </tr>\n",
       "    <tr>\n",
       "      <th>4839</th>\n",
       "      <td>Ireland</td>\n",
       "      <td>Production</td>\n",
       "      <td>Milk</td>\n",
       "      <td>2007</td>\n",
       "      <td>tonnes</td>\n",
       "      <td>5224770.0</td>\n",
       "      <td>Yield</td>\n",
       "      <td>hg/An</td>\n",
       "      <td>47942.0</td>\n",
       "      <td>Milk Animals</td>\n",
       "      <td>Head</td>\n",
       "      <td>1089800.0</td>\n",
       "    </tr>\n",
       "    <tr>\n",
       "      <th>4840</th>\n",
       "      <td>Ireland</td>\n",
       "      <td>Production</td>\n",
       "      <td>Milk</td>\n",
       "      <td>2008</td>\n",
       "      <td>tonnes</td>\n",
       "      <td>5089960.0</td>\n",
       "      <td>Yield</td>\n",
       "      <td>hg/An</td>\n",
       "      <td>46475.0</td>\n",
       "      <td>Milk Animals</td>\n",
       "      <td>Head</td>\n",
       "      <td>1095200.0</td>\n",
       "    </tr>\n",
       "    <tr>\n",
       "      <th>4841</th>\n",
       "      <td>Ireland</td>\n",
       "      <td>Production</td>\n",
       "      <td>Milk</td>\n",
       "      <td>2009</td>\n",
       "      <td>tonnes</td>\n",
       "      <td>5228300.0</td>\n",
       "      <td>Yield</td>\n",
       "      <td>hg/An</td>\n",
       "      <td>47673.0</td>\n",
       "      <td>Milk Animals</td>\n",
       "      <td>Head</td>\n",
       "      <td>1096700.0</td>\n",
       "    </tr>\n",
       "    <tr>\n",
       "      <th>4842</th>\n",
       "      <td>Ireland</td>\n",
       "      <td>Production</td>\n",
       "      <td>Milk</td>\n",
       "      <td>2010</td>\n",
       "      <td>tonnes</td>\n",
       "      <td>5327000.0</td>\n",
       "      <td>Yield</td>\n",
       "      <td>hg/An</td>\n",
       "      <td>49748.0</td>\n",
       "      <td>Milk Animals</td>\n",
       "      <td>Head</td>\n",
       "      <td>1070800.0</td>\n",
       "    </tr>\n",
       "    <tr>\n",
       "      <th>4843</th>\n",
       "      <td>Ireland</td>\n",
       "      <td>Production</td>\n",
       "      <td>Milk</td>\n",
       "      <td>2011</td>\n",
       "      <td>tonnes</td>\n",
       "      <td>5536680.0</td>\n",
       "      <td>Yield</td>\n",
       "      <td>hg/An</td>\n",
       "      <td>49572.0</td>\n",
       "      <td>Milk Animals</td>\n",
       "      <td>Head</td>\n",
       "      <td>1116900.0</td>\n",
       "    </tr>\n",
       "    <tr>\n",
       "      <th>4844</th>\n",
       "      <td>Ireland</td>\n",
       "      <td>Production</td>\n",
       "      <td>Milk</td>\n",
       "      <td>2012</td>\n",
       "      <td>tonnes</td>\n",
       "      <td>5387770.0</td>\n",
       "      <td>Yield</td>\n",
       "      <td>hg/An</td>\n",
       "      <td>47228.0</td>\n",
       "      <td>Milk Animals</td>\n",
       "      <td>Head</td>\n",
       "      <td>1140800.0</td>\n",
       "    </tr>\n",
       "    <tr>\n",
       "      <th>4845</th>\n",
       "      <td>Ireland</td>\n",
       "      <td>Production</td>\n",
       "      <td>Milk</td>\n",
       "      <td>2013</td>\n",
       "      <td>tonnes</td>\n",
       "      <td>5583670.0</td>\n",
       "      <td>Yield</td>\n",
       "      <td>hg/An</td>\n",
       "      <td>48003.0</td>\n",
       "      <td>Milk Animals</td>\n",
       "      <td>Head</td>\n",
       "      <td>1163200.0</td>\n",
       "    </tr>\n",
       "    <tr>\n",
       "      <th>4846</th>\n",
       "      <td>Ireland</td>\n",
       "      <td>Production</td>\n",
       "      <td>Milk</td>\n",
       "      <td>2014</td>\n",
       "      <td>tonnes</td>\n",
       "      <td>5816220.0</td>\n",
       "      <td>Yield</td>\n",
       "      <td>hg/An</td>\n",
       "      <td>47425.0</td>\n",
       "      <td>Milk Animals</td>\n",
       "      <td>Head</td>\n",
       "      <td>1226400.0</td>\n",
       "    </tr>\n",
       "    <tr>\n",
       "      <th>4847</th>\n",
       "      <td>Ireland</td>\n",
       "      <td>Production</td>\n",
       "      <td>Milk</td>\n",
       "      <td>2015</td>\n",
       "      <td>tonnes</td>\n",
       "      <td>6585120.0</td>\n",
       "      <td>Yield</td>\n",
       "      <td>hg/An</td>\n",
       "      <td>50819.0</td>\n",
       "      <td>Milk Animals</td>\n",
       "      <td>Head</td>\n",
       "      <td>1295800.0</td>\n",
       "    </tr>\n",
       "    <tr>\n",
       "      <th>4848</th>\n",
       "      <td>Ireland</td>\n",
       "      <td>Production</td>\n",
       "      <td>Milk</td>\n",
       "      <td>2016</td>\n",
       "      <td>tonnes</td>\n",
       "      <td>6851430.0</td>\n",
       "      <td>Yield</td>\n",
       "      <td>hg/An</td>\n",
       "      <td>49012.0</td>\n",
       "      <td>Milk Animals</td>\n",
       "      <td>Head</td>\n",
       "      <td>1397900.0</td>\n",
       "    </tr>\n",
       "    <tr>\n",
       "      <th>4849</th>\n",
       "      <td>Ireland</td>\n",
       "      <td>Production</td>\n",
       "      <td>Milk</td>\n",
       "      <td>2017</td>\n",
       "      <td>tonnes</td>\n",
       "      <td>7478160.0</td>\n",
       "      <td>Yield</td>\n",
       "      <td>hg/An</td>\n",
       "      <td>52197.0</td>\n",
       "      <td>Milk Animals</td>\n",
       "      <td>Head</td>\n",
       "      <td>1432687.0</td>\n",
       "    </tr>\n",
       "    <tr>\n",
       "      <th>4850</th>\n",
       "      <td>Ireland</td>\n",
       "      <td>Production</td>\n",
       "      <td>Milk</td>\n",
       "      <td>2018</td>\n",
       "      <td>tonnes</td>\n",
       "      <td>7831250.0</td>\n",
       "      <td>Yield</td>\n",
       "      <td>hg/An</td>\n",
       "      <td>57200.0</td>\n",
       "      <td>Milk Animals</td>\n",
       "      <td>Head</td>\n",
       "      <td>1369100.0</td>\n",
       "    </tr>\n",
       "    <tr>\n",
       "      <th>4851</th>\n",
       "      <td>Ireland</td>\n",
       "      <td>Production</td>\n",
       "      <td>Milk</td>\n",
       "      <td>2019</td>\n",
       "      <td>tonnes</td>\n",
       "      <td>8244870.0</td>\n",
       "      <td>Yield</td>\n",
       "      <td>hg/An</td>\n",
       "      <td>57828.0</td>\n",
       "      <td>Milk Animals</td>\n",
       "      <td>Head</td>\n",
       "      <td>1425760.0</td>\n",
       "    </tr>\n",
       "    <tr>\n",
       "      <th>4852</th>\n",
       "      <td>Ireland</td>\n",
       "      <td>Production</td>\n",
       "      <td>Milk</td>\n",
       "      <td>2020</td>\n",
       "      <td>tonnes</td>\n",
       "      <td>8561470.0</td>\n",
       "      <td>Yield</td>\n",
       "      <td>hg/An</td>\n",
       "      <td>58799.0</td>\n",
       "      <td>Milk Animals</td>\n",
       "      <td>Head</td>\n",
       "      <td>1456050.0</td>\n",
       "    </tr>\n",
       "  </tbody>\n",
       "</table>\n",
       "</div>"
      ],
      "text/plain": [
       "         Area Production_Element  Item  Year Production_Unit  \\\n",
       "4793  Ireland         Production  Milk  1961          tonnes   \n",
       "4794  Ireland         Production  Milk  1962          tonnes   \n",
       "4795  Ireland         Production  Milk  1963          tonnes   \n",
       "4796  Ireland         Production  Milk  1964          tonnes   \n",
       "4797  Ireland         Production  Milk  1965          tonnes   \n",
       "4798  Ireland         Production  Milk  1966          tonnes   \n",
       "4799  Ireland         Production  Milk  1967          tonnes   \n",
       "4800  Ireland         Production  Milk  1968          tonnes   \n",
       "4801  Ireland         Production  Milk  1969          tonnes   \n",
       "4802  Ireland         Production  Milk  1970          tonnes   \n",
       "4803  Ireland         Production  Milk  1971          tonnes   \n",
       "4804  Ireland         Production  Milk  1972          tonnes   \n",
       "4805  Ireland         Production  Milk  1973          tonnes   \n",
       "4806  Ireland         Production  Milk  1974          tonnes   \n",
       "4807  Ireland         Production  Milk  1975          tonnes   \n",
       "4808  Ireland         Production  Milk  1976          tonnes   \n",
       "4809  Ireland         Production  Milk  1977          tonnes   \n",
       "4810  Ireland         Production  Milk  1978          tonnes   \n",
       "4811  Ireland         Production  Milk  1979          tonnes   \n",
       "4812  Ireland         Production  Milk  1980          tonnes   \n",
       "4813  Ireland         Production  Milk  1981          tonnes   \n",
       "4814  Ireland         Production  Milk  1982          tonnes   \n",
       "4815  Ireland         Production  Milk  1983          tonnes   \n",
       "4816  Ireland         Production  Milk  1984          tonnes   \n",
       "4817  Ireland         Production  Milk  1985          tonnes   \n",
       "4818  Ireland         Production  Milk  1986          tonnes   \n",
       "4819  Ireland         Production  Milk  1987          tonnes   \n",
       "4820  Ireland         Production  Milk  1988          tonnes   \n",
       "4821  Ireland         Production  Milk  1989          tonnes   \n",
       "4822  Ireland         Production  Milk  1990          tonnes   \n",
       "4823  Ireland         Production  Milk  1991          tonnes   \n",
       "4824  Ireland         Production  Milk  1992          tonnes   \n",
       "4825  Ireland         Production  Milk  1993          tonnes   \n",
       "4826  Ireland         Production  Milk  1994          tonnes   \n",
       "4827  Ireland         Production  Milk  1995          tonnes   \n",
       "4828  Ireland         Production  Milk  1996          tonnes   \n",
       "4829  Ireland         Production  Milk  1997          tonnes   \n",
       "4830  Ireland         Production  Milk  1998          tonnes   \n",
       "4831  Ireland         Production  Milk  1999          tonnes   \n",
       "4832  Ireland         Production  Milk  2000          tonnes   \n",
       "4833  Ireland         Production  Milk  2001          tonnes   \n",
       "4834  Ireland         Production  Milk  2002          tonnes   \n",
       "4835  Ireland         Production  Milk  2003          tonnes   \n",
       "4836  Ireland         Production  Milk  2004          tonnes   \n",
       "4837  Ireland         Production  Milk  2005          tonnes   \n",
       "4838  Ireland         Production  Milk  2006          tonnes   \n",
       "4839  Ireland         Production  Milk  2007          tonnes   \n",
       "4840  Ireland         Production  Milk  2008          tonnes   \n",
       "4841  Ireland         Production  Milk  2009          tonnes   \n",
       "4842  Ireland         Production  Milk  2010          tonnes   \n",
       "4843  Ireland         Production  Milk  2011          tonnes   \n",
       "4844  Ireland         Production  Milk  2012          tonnes   \n",
       "4845  Ireland         Production  Milk  2013          tonnes   \n",
       "4846  Ireland         Production  Milk  2014          tonnes   \n",
       "4847  Ireland         Production  Milk  2015          tonnes   \n",
       "4848  Ireland         Production  Milk  2016          tonnes   \n",
       "4849  Ireland         Production  Milk  2017          tonnes   \n",
       "4850  Ireland         Production  Milk  2018          tonnes   \n",
       "4851  Ireland         Production  Milk  2019          tonnes   \n",
       "4852  Ireland         Production  Milk  2020          tonnes   \n",
       "\n",
       "      Production_Value Yeild_Element Yeild_Unit  Yeild_Value Animal_Element  \\\n",
       "4793         2356000.0         Yield      hg/An      19536.0   Milk Animals   \n",
       "4794         2450800.0         Yield      hg/An      20089.0   Milk Animals   \n",
       "4795         2461100.0         Yield      hg/An      20123.0   Milk Animals   \n",
       "4796         2548300.0         Yield      hg/An      19987.0   Milk Animals   \n",
       "4797         2637800.0         Yield      hg/An      19381.0   Milk Animals   \n",
       "4798         2716600.0         Yield      hg/An      19404.0   Milk Animals   \n",
       "4799         2951400.0         Yield      hg/An      20755.0   Milk Animals   \n",
       "4800         3148700.0         Yield      hg/An      21232.0   Milk Animals   \n",
       "4801         3145000.0         Yield      hg/An      21136.0   Milk Animals   \n",
       "4802         3075600.0         Yield      hg/An      21674.0   Milk Animals   \n",
       "4803         3161400.0         Yield      hg/An      21803.0   Milk Animals   \n",
       "4804         3318900.0         Yield      hg/An      25510.0   Milk Animals   \n",
       "4805         3475500.0         Yield      hg/An      25022.0   Milk Animals   \n",
       "4806         3340000.0         Yield      hg/An      23340.0   Milk Animals   \n",
       "4807         3593000.0         Yield      hg/An      25555.0   Milk Animals   \n",
       "4808         3862700.0         Yield      hg/An      27991.0   Milk Animals   \n",
       "4809         4157200.0         Yield      hg/An      28950.0   Milk Animals   \n",
       "4810         4697000.0         Yield      hg/An      31651.0   Milk Animals   \n",
       "4811         4788200.0         Yield      hg/An      31647.0   Milk Animals   \n",
       "4812         4717400.0         Yield      hg/An      31387.0   Milk Animals   \n",
       "4813         4682800.0         Yield      hg/An      32317.0   Milk Animals   \n",
       "4814         5105600.0         Yield      hg/An      35018.0   Milk Animals   \n",
       "4815         5498300.0         Yield      hg/An      36340.0   Milk Animals   \n",
       "4816         5736500.0         Yield      hg/An      37371.0   Milk Animals   \n",
       "4817         5830300.0         Yield      hg/An      37632.0   Milk Animals   \n",
       "4818         5621000.0         Yield      hg/An      36794.0   Milk Animals   \n",
       "4819         5528200.0         Yield      hg/An      37092.0   Milk Animals   \n",
       "4820         5330300.0         Yield      hg/An      36924.0   Milk Animals   \n",
       "4821         5381800.0         Yield      hg/An      38802.0   Milk Animals   \n",
       "4822         5402400.0         Yield      hg/An      40256.0   Milk Animals   \n",
       "4823         5281800.0         Yield      hg/An      39953.0   Milk Animals   \n",
       "4824         5326100.0         Yield      hg/An      41352.0   Milk Animals   \n",
       "4825         5267400.0         Yield      hg/An      42268.0   Milk Animals   \n",
       "4826         5336500.0         Yield      hg/An      42750.0   Milk Animals   \n",
       "4827         5346800.0         Yield      hg/An      43364.0   Milk Animals   \n",
       "4828         5297100.0         Yield      hg/An      43390.0   Milk Animals   \n",
       "4829         5256300.0         Yield      hg/An      43240.0   Milk Animals   \n",
       "4830         5091200.0         Yield      hg/An      42377.0   Milk Animals   \n",
       "4831         5121100.0         Yield      hg/An      42719.0   Milk Animals   \n",
       "4832         5159788.0         Yield      hg/An      43820.0   Milk Animals   \n",
       "4833         5381800.0         Yield      hg/An      45512.0   Milk Animals   \n",
       "4834         5368000.0         Yield      hg/An      46113.0   Milk Animals   \n",
       "4835         5310140.0         Yield      hg/An      45951.0   Milk Animals   \n",
       "4836         5267880.0         Yield      hg/An      45566.0   Milk Animals   \n",
       "4837         5061250.0         Yield      hg/An      47969.0   Milk Animals   \n",
       "4838         5224390.0         Yield      hg/An      48164.0   Milk Animals   \n",
       "4839         5224770.0         Yield      hg/An      47942.0   Milk Animals   \n",
       "4840         5089960.0         Yield      hg/An      46475.0   Milk Animals   \n",
       "4841         5228300.0         Yield      hg/An      47673.0   Milk Animals   \n",
       "4842         5327000.0         Yield      hg/An      49748.0   Milk Animals   \n",
       "4843         5536680.0         Yield      hg/An      49572.0   Milk Animals   \n",
       "4844         5387770.0         Yield      hg/An      47228.0   Milk Animals   \n",
       "4845         5583670.0         Yield      hg/An      48003.0   Milk Animals   \n",
       "4846         5816220.0         Yield      hg/An      47425.0   Milk Animals   \n",
       "4847         6585120.0         Yield      hg/An      50819.0   Milk Animals   \n",
       "4848         6851430.0         Yield      hg/An      49012.0   Milk Animals   \n",
       "4849         7478160.0         Yield      hg/An      52197.0   Milk Animals   \n",
       "4850         7831250.0         Yield      hg/An      57200.0   Milk Animals   \n",
       "4851         8244870.0         Yield      hg/An      57828.0   Milk Animals   \n",
       "4852         8561470.0         Yield      hg/An      58799.0   Milk Animals   \n",
       "\n",
       "     Animal_Unit  Animal_Value  \n",
       "4793        Head     1206000.0  \n",
       "4794        Head     1220000.0  \n",
       "4795        Head     1223000.0  \n",
       "4796        Head     1275000.0  \n",
       "4797        Head     1361000.0  \n",
       "4798        Head     1400000.0  \n",
       "4799        Head     1422000.0  \n",
       "4800        Head     1483000.0  \n",
       "4801        Head     1488000.0  \n",
       "4802        Head     1419000.0  \n",
       "4803        Head     1450000.0  \n",
       "4804        Head     1301000.0  \n",
       "4805        Head     1389000.0  \n",
       "4806        Head     1431000.0  \n",
       "4807        Head     1406000.0  \n",
       "4808        Head     1380000.0  \n",
       "4809        Head     1436000.0  \n",
       "4810        Head     1484000.0  \n",
       "4811        Head     1513000.0  \n",
       "4812        Head     1503000.0  \n",
       "4813        Head     1449000.0  \n",
       "4814        Head     1458000.0  \n",
       "4815        Head     1513000.0  \n",
       "4816        Head     1535000.0  \n",
       "4817        Head     1549300.0  \n",
       "4818        Head     1527700.0  \n",
       "4819        Head     1490400.0  \n",
       "4820        Head     1443600.0  \n",
       "4821        Head     1387000.0  \n",
       "4822        Head     1342000.0  \n",
       "4823        Head     1322000.0  \n",
       "4824        Head     1288000.0  \n",
       "4825        Head     1246200.0  \n",
       "4826        Head     1248300.0  \n",
       "4827        Head     1233000.0  \n",
       "4828        Head     1220800.0  \n",
       "4829        Head     1215600.0  \n",
       "4830        Head     1201400.0  \n",
       "4831        Head     1198800.0  \n",
       "4832        Head     1177500.0  \n",
       "4833        Head     1182500.0  \n",
       "4834        Head     1164100.0  \n",
       "4835        Head     1155600.0  \n",
       "4836        Head     1156100.0  \n",
       "4837        Head     1055100.0  \n",
       "4838        Head     1084700.0  \n",
       "4839        Head     1089800.0  \n",
       "4840        Head     1095200.0  \n",
       "4841        Head     1096700.0  \n",
       "4842        Head     1070800.0  \n",
       "4843        Head     1116900.0  \n",
       "4844        Head     1140800.0  \n",
       "4845        Head     1163200.0  \n",
       "4846        Head     1226400.0  \n",
       "4847        Head     1295800.0  \n",
       "4848        Head     1397900.0  \n",
       "4849        Head     1432687.0  \n",
       "4850        Head     1369100.0  \n",
       "4851        Head     1425760.0  \n",
       "4852        Head     1456050.0  "
      ]
     },
     "execution_count": 485,
     "metadata": {},
     "output_type": "execute_result"
    }
   ],
   "source": [
    "#world_production_lp_df\n",
    "\n",
    "# Look at the Ireland  data\n",
    "world_production_lp_df[world_production_lp_df['Area'] == \"Ireland\"]\n"
   ]
  },
  {
   "cell_type": "code",
   "execution_count": 457,
   "id": "a86eec43",
   "metadata": {
    "ExecuteTime": {
     "end_time": "2022-12-20T14:26:45.119828Z",
     "start_time": "2022-12-20T14:26:45.109850Z"
    }
   },
   "outputs": [],
   "source": [
    "#eu_production_lp_df.to_csv(\"test.csv\")"
   ]
  },
  {
   "cell_type": "code",
   "execution_count": 486,
   "id": "2c875c46",
   "metadata": {
    "ExecuteTime": {
     "end_time": "2022-12-22T15:41:14.729100Z",
     "start_time": "2022-12-22T15:41:14.715141Z"
    }
   },
   "outputs": [
    {
     "data": {
      "text/plain": [
       "array(['Austria', 'Belgium', 'Bulgaria', 'Croatia', 'Cyprus', 'Czechia',\n",
       "       'Denmark', 'Estonia', 'Finland', 'France', 'Germany', 'Greece',\n",
       "       'Hungary', 'Ireland', 'Italy', 'Latvia', 'Lithuania', 'Luxembourg',\n",
       "       'Malta', 'Netherlands', 'Poland', 'Portugal', 'Romania',\n",
       "       'Slovakia', 'Slovenia', 'Spain', 'Sweden'], dtype=object)"
      ]
     },
     "execution_count": 486,
     "metadata": {},
     "output_type": "execute_result"
    }
   ],
   "source": [
    "# find the european countries name in the datafame\n",
    "eu_production_lp_df[\"Area\"].unique()"
   ]
  },
  {
   "cell_type": "code",
   "execution_count": 462,
   "id": "9128baa9",
   "metadata": {
    "ExecuteTime": {
     "end_time": "2022-12-20T14:26:58.699341Z",
     "start_time": "2022-12-20T14:26:58.647479Z"
    }
   },
   "outputs": [],
   "source": [
    "# import the propulaton in agriculture data\n",
    "# encoding is added to overcome following error\n",
    "#UnicodeDecodeError: 'utf-8' codec can't decode byte 0xe9 in position 103043: invalid continuation byte\n",
    "wpt_df = pd.read_csv('datasets/world_populations_total.csv', encoding='latin-1') \n"
   ]
  },
  {
   "cell_type": "code",
   "execution_count": null,
   "id": "9f9cb60b",
   "metadata": {
    "ExecuteTime": {
     "end_time": "2022-12-20T14:26:59.890683Z",
     "start_time": "2022-12-20T14:26:59.802927Z"
    }
   },
   "outputs": [],
   "source": [
    "eu_production_lp_df.describe() # statistical description, only for numeric values"
   ]
  },
  {
   "cell_type": "markdown",
   "id": "3b3d29b8",
   "metadata": {},
   "source": [
    "### 2.0.5 Missing data treatment\n",
    "Why dont we ingnore mssing data???"
   ]
  },
  {
   "cell_type": "code",
   "execution_count": null,
   "id": "a1da2b36",
   "metadata": {},
   "outputs": [],
   "source": []
  },
  {
   "cell_type": "markdown",
   "id": "a8bdfc11",
   "metadata": {},
   "source": [
    "#### Maximum value\n",
    "Identify maximum Production_Value value in data frame eu_production_lp_df's column Production_Value\n",
    "\n",
    "There are inbuilt method in pandas to calculate the maximum value. \n",
    "I chose get this information by writting my own function \n",
    "\n",
    "Why calculate maximum value?\n",
    "I calculated maximum to find out the maximum milk production value and which country produced it.\n"
   ]
  },
  {
   "cell_type": "code",
   "execution_count": 501,
   "id": "838c3f63",
   "metadata": {
    "ExecuteTime": {
     "end_time": "2022-12-22T16:33:24.365973Z",
     "start_time": "2022-12-22T16:33:24.352009Z"
    }
   },
   "outputs": [
    {
     "name": "stdout",
     "output_type": "stream",
     "text": [
      "Maximum value is: 34577496.0\n",
      "Country name is: Germany\n"
     ]
    }
   ],
   "source": [
    "# calculate mean value\n",
    "\n",
    "#create a function\n",
    "eu_production_pdntotal_numbers = np.array(eu_production_lp_df['Production_Value']) \n",
    "maximum_value = eu_production_pdntotal_numbers[0]\n",
    "#using for loop\n",
    "for number in eu_production_pdntotal_numbers:\n",
    "    if number > maximum_value:\n",
    "        maximum_value = number\n",
    "\n",
    "print('Maximum value is:', maximum_value)        \n",
    "print('Country name is:', eu_production_lp_df.loc[eu_production_lp_df[\"Production_Value\"]==maximum_value,'Area'].iloc[0])\n",
    "\n",
    "\n"
   ]
  },
  {
   "cell_type": "markdown",
   "id": "588a2216",
   "metadata": {
    "ExecuteTime": {
     "end_time": "2022-12-22T16:31:22.681076Z",
     "start_time": "2022-12-22T16:31:22.661135Z"
    }
   },
   "source": [
    "#### Mean\n",
    "Calculate mean value\n",
    "\n",
    "There are inbuilt method in pandas to calculate the mean value. \n",
    "\n",
    "I chose get this information by writting my own function \n",
    "\n",
    "The mean is the most common way to measure the center of a dataset, but it can actually be misleading in the following situations:\n",
    "When the distribution is skewed.\n",
    "When the distribution contains outliers.\n"
   ]
  },
  {
   "cell_type": "code",
   "execution_count": 502,
   "id": "656a362c",
   "metadata": {
    "ExecuteTime": {
     "end_time": "2022-12-22T16:33:30.957077Z",
     "start_time": "2022-12-22T16:33:30.937132Z"
    }
   },
   "outputs": [
    {
     "name": "stdout",
     "output_type": "stream",
     "text": [
      "Mean value is: 6057124.226001511\n"
     ]
    }
   ],
   "source": [
    "# calculate mean value\n",
    "\n",
    "#create a function\n",
    "def cal_mean(input_data):\n",
    "    try:\n",
    "        return sum(input_data) / len(input_data)\n",
    "    except:\n",
    "        print(\"some error occured!\")\n",
    "\n",
    "#use the function to calculate mean value\n",
    "print('Mean value is:', cal_mean(np.array(eu_production_lp_df['Production_Value'])))"
   ]
  },
  {
   "cell_type": "markdown",
   "id": "3313b02c",
   "metadata": {},
   "source": [
    "#### Mode\n",
    "Calculate bode value \n",
    "There are inbuilt method in pandas to calculate the mean value.\n",
    "\n",
    "I chose get this information by writting my own function\n",
    "\n",
    "The mode represents the value(s) that occurs most often in a dataset.\n",
    "The mode tells us the most common value in categorical data when the mean and median can’t be used.\n",
    "The mode gives us an idea of where the 'center' of a dataset is located."
   ]
  },
  {
   "cell_type": "code",
   "execution_count": 504,
   "id": "73f0a51b",
   "metadata": {
    "ExecuteTime": {
     "end_time": "2022-12-22T16:35:21.386100Z",
     "start_time": "2022-12-22T16:35:21.206581Z"
    }
   },
   "outputs": [
    {
     "data": {
      "text/plain": [
       "[5381800.0, 30010.0, 44415.0]"
      ]
     },
     "execution_count": 504,
     "metadata": {},
     "output_type": "execute_result"
    }
   ],
   "source": [
    "#calculate mode value\n",
    "# there are inbuilt method in pandas to calculate the maximum value. \n",
    "# I chose get this information by writting my own function \n",
    "\n",
    "from collections import Counter\n",
    "\n",
    "#create a function\n",
    "def calc_mode(input_data):\n",
    "    try:\n",
    "        c = Counter(input_data)\n",
    "        return [k for k, v in c.items() if v == c.most_common(1)[0][1]]\n",
    "    except:\n",
    "        print(\"some error occured!\")\n",
    "\n",
    "#use the function to calculate mode value\n",
    "calc_mode(np.array(eu_production_lp_df['Production_Value']))\n"
   ]
  },
  {
   "cell_type": "code",
   "execution_count": 489,
   "id": "369478ba",
   "metadata": {
    "ExecuteTime": {
     "end_time": "2022-12-22T16:14:19.255889Z",
     "start_time": "2022-12-22T16:14:19.234948Z"
    }
   },
   "outputs": [
    {
     "data": {
      "text/plain": [
       "Area                  0\n",
       "Production_Element    0\n",
       "Item                  0\n",
       "Year                  0\n",
       "Production_Unit       0\n",
       "Production_Value      0\n",
       "Yeild_Element         0\n",
       "Yeild_Unit            0\n",
       "Yeild_Value           0\n",
       "Animal_Element        0\n",
       "Animal_Unit           0\n",
       "Animal_Value          0\n",
       "dtype: int64"
      ]
     },
     "execution_count": 489,
     "metadata": {},
     "output_type": "execute_result"
    }
   ],
   "source": [
    "# now check null value\n",
    "eu_production_lp_df.isnull().sum() # check for missing data"
   ]
  },
  {
   "cell_type": "code",
   "execution_count": 513,
   "id": "339dcdbc",
   "metadata": {
    "ExecuteTime": {
     "end_time": "2022-12-22T17:08:35.218864Z",
     "start_time": "2022-12-22T17:08:35.192908Z"
    }
   },
   "outputs": [
    {
     "name": "stdout",
     "output_type": "stream",
     "text": [
      "duplicate rows numbers:  (0, 12)\n"
     ]
    }
   ],
   "source": [
    "# find duplicate row in dataframe capelst_dt\n",
    "\n",
    "duplicate_rows_dfs = eu_production_lp_df[eu_production_lp_df.duplicated()]\n",
    "print('duplicate rows numbers: ', duplicate_rows_dfs.shape)"
   ]
  },
  {
   "cell_type": "code",
   "execution_count": 509,
   "id": "8da75839",
   "metadata": {
    "ExecuteTime": {
     "end_time": "2022-12-22T17:07:24.864951Z",
     "start_time": "2022-12-22T17:07:24.798129Z"
    }
   },
   "outputs": [
    {
     "data": {
      "text/html": [
       "<div>\n",
       "<style scoped>\n",
       "    .dataframe tbody tr th:only-of-type {\n",
       "        vertical-align: middle;\n",
       "    }\n",
       "\n",
       "    .dataframe tbody tr th {\n",
       "        vertical-align: top;\n",
       "    }\n",
       "\n",
       "    .dataframe thead th {\n",
       "        text-align: right;\n",
       "    }\n",
       "</style>\n",
       "<table border=\"1\" class=\"dataframe\">\n",
       "  <thead>\n",
       "    <tr style=\"text-align: right;\">\n",
       "      <th></th>\n",
       "      <th>Area</th>\n",
       "      <th>Production_Element</th>\n",
       "      <th>Item</th>\n",
       "      <th>Year</th>\n",
       "      <th>Production_Unit</th>\n",
       "      <th>Production_Value</th>\n",
       "      <th>Yeild_Element</th>\n",
       "      <th>Yeild_Unit</th>\n",
       "      <th>Yeild_Value</th>\n",
       "      <th>Animal_Element</th>\n",
       "      <th>Animal_Unit</th>\n",
       "      <th>Animal_Value</th>\n",
       "    </tr>\n",
       "  </thead>\n",
       "  <tbody>\n",
       "  </tbody>\n",
       "</table>\n",
       "</div>"
      ],
      "text/plain": [
       "Empty DataFrame\n",
       "Columns: [Area, Production_Element, Item, Year, Production_Unit, Production_Value, Yeild_Element, Yeild_Unit, Yeild_Value, Animal_Element, Animal_Unit, Animal_Value]\n",
       "Index: []"
      ]
     },
     "execution_count": 509,
     "metadata": {},
     "output_type": "execute_result"
    }
   ],
   "source": [
    "# Any missing values?\n",
    "eu_production_lp_df.isnull().values.any()\n",
    "# get sum of null value from column\n",
    "eu_production_lp_df.isnull().sum()\n",
    "# check if there is any zero value\n",
    "eu_production_lp_df.loc[(eu_production_lp_df==0).any(axis=1)]"
   ]
  },
  {
   "cell_type": "code",
   "execution_count": 514,
   "id": "987eb4a5",
   "metadata": {
    "ExecuteTime": {
     "end_time": "2022-12-22T17:08:46.647025Z",
     "start_time": "2022-12-22T17:08:46.609100Z"
    }
   },
   "outputs": [
    {
     "data": {
      "text/plain": [
       "Area                  0\n",
       "Production_Element    0\n",
       "Item                  0\n",
       "Year                  0\n",
       "Production_Unit       0\n",
       "Production_Value      0\n",
       "Yeild_Element         0\n",
       "Yeild_Unit            0\n",
       "Yeild_Value           0\n",
       "Animal_Element        0\n",
       "Animal_Unit           0\n",
       "Animal_Value          0\n",
       "dtype: int64"
      ]
     },
     "execution_count": 514,
     "metadata": {},
     "output_type": "execute_result"
    }
   ],
   "source": [
    "# now check null value\n",
    "eu_production_lp_df.isnull().sum() # check for missing data"
   ]
  },
  {
   "cell_type": "code",
   "execution_count": 515,
   "id": "1d42e8df",
   "metadata": {
    "ExecuteTime": {
     "end_time": "2022-12-22T17:08:47.672255Z",
     "start_time": "2022-12-22T17:08:47.644305Z"
    }
   },
   "outputs": [
    {
     "data": {
      "text/html": [
       "<div>\n",
       "<style scoped>\n",
       "    .dataframe tbody tr th:only-of-type {\n",
       "        vertical-align: middle;\n",
       "    }\n",
       "\n",
       "    .dataframe tbody tr th {\n",
       "        vertical-align: top;\n",
       "    }\n",
       "\n",
       "    .dataframe thead th {\n",
       "        text-align: right;\n",
       "    }\n",
       "</style>\n",
       "<table border=\"1\" class=\"dataframe\">\n",
       "  <thead>\n",
       "    <tr style=\"text-align: right;\">\n",
       "      <th></th>\n",
       "      <th>Area</th>\n",
       "      <th>Production_Element</th>\n",
       "      <th>Item</th>\n",
       "      <th>Year</th>\n",
       "      <th>Production_Unit</th>\n",
       "      <th>Production_Value</th>\n",
       "      <th>Yeild_Element</th>\n",
       "      <th>Yeild_Unit</th>\n",
       "      <th>Yeild_Value</th>\n",
       "      <th>Animal_Element</th>\n",
       "      <th>Animal_Unit</th>\n",
       "      <th>Animal_Value</th>\n",
       "    </tr>\n",
       "  </thead>\n",
       "  <tbody>\n",
       "  </tbody>\n",
       "</table>\n",
       "</div>"
      ],
      "text/plain": [
       "Empty DataFrame\n",
       "Columns: [Area, Production_Element, Item, Year, Production_Unit, Production_Value, Yeild_Element, Yeild_Unit, Yeild_Value, Animal_Element, Animal_Unit, Animal_Value]\n",
       "Index: []"
      ]
     },
     "execution_count": 515,
     "metadata": {},
     "output_type": "execute_result"
    }
   ],
   "source": [
    "# identify the line where null value exist\n",
    "eu_productionVal = eu_production_lp_df[eu_production_lp_df.isna().any(axis=1)]\n",
    "eu_productionVal"
   ]
  },
  {
   "cell_type": "code",
   "execution_count": null,
   "id": "36b6c37a",
   "metadata": {},
   "outputs": [],
   "source": []
  },
  {
   "cell_type": "markdown",
   "id": "ddabd076",
   "metadata": {},
   "source": [
    "### why dont we ignore the missing value\n",
    "### what are the ways to replace the mssing value\n",
    "### if there was any missing value then i would have replaced it with mean value\n",
    "### whast is the mean value\n",
    "### why you replace with mean value"
   ]
  },
  {
   "cell_type": "code",
   "execution_count": null,
   "id": "0e9d9c75",
   "metadata": {},
   "outputs": [],
   "source": []
  },
  {
   "cell_type": "code",
   "execution_count": 516,
   "id": "df4eefa2",
   "metadata": {
    "ExecuteTime": {
     "end_time": "2022-12-22T17:11:15.866094Z",
     "start_time": "2022-12-22T17:11:15.836179Z"
    }
   },
   "outputs": [
    {
     "data": {
      "text/html": [
       "<div>\n",
       "<style scoped>\n",
       "    .dataframe tbody tr th:only-of-type {\n",
       "        vertical-align: middle;\n",
       "    }\n",
       "\n",
       "    .dataframe tbody tr th {\n",
       "        vertical-align: top;\n",
       "    }\n",
       "\n",
       "    .dataframe thead th {\n",
       "        text-align: right;\n",
       "    }\n",
       "</style>\n",
       "<table border=\"1\" class=\"dataframe\">\n",
       "  <thead>\n",
       "    <tr style=\"text-align: right;\">\n",
       "      <th></th>\n",
       "      <th>Area</th>\n",
       "      <th>Production_Element</th>\n",
       "      <th>Item</th>\n",
       "      <th>Year</th>\n",
       "      <th>Production_Unit</th>\n",
       "      <th>Production_Value</th>\n",
       "      <th>Yeild_Element</th>\n",
       "      <th>Yeild_Unit</th>\n",
       "      <th>Yeild_Value</th>\n",
       "      <th>Animal_Element</th>\n",
       "      <th>Animal_Unit</th>\n",
       "      <th>Animal_Value</th>\n",
       "    </tr>\n",
       "  </thead>\n",
       "  <tbody>\n",
       "  </tbody>\n",
       "</table>\n",
       "</div>"
      ],
      "text/plain": [
       "Empty DataFrame\n",
       "Columns: [Area, Production_Element, Item, Year, Production_Unit, Production_Value, Yeild_Element, Yeild_Unit, Yeild_Value, Animal_Element, Animal_Unit, Animal_Value]\n",
       "Index: []"
      ]
     },
     "execution_count": 516,
     "metadata": {},
     "output_type": "execute_result"
    }
   ],
   "source": [
    "# check if there is any zero value\n",
    "eu_production_lp_df.loc[(eu_production_lp_df==0).any(axis=1)]"
   ]
  },
  {
   "cell_type": "markdown",
   "id": "9e078f65",
   "metadata": {},
   "source": [
    "### what are the treatment for zero values in the dataset "
   ]
  },
  {
   "cell_type": "code",
   "execution_count": 517,
   "id": "a23e4f53",
   "metadata": {
    "ExecuteTime": {
     "end_time": "2022-12-22T17:12:47.462261Z",
     "start_time": "2022-12-22T17:12:47.445294Z"
    }
   },
   "outputs": [
    {
     "data": {
      "text/plain": [
       "Area                   object\n",
       "Production_Element     object\n",
       "Item                   object\n",
       "Year                    int64\n",
       "Production_Unit        object\n",
       "Production_Value      float64\n",
       "Yeild_Element          object\n",
       "Yeild_Unit             object\n",
       "Yeild_Value           float64\n",
       "Animal_Element         object\n",
       "Animal_Unit            object\n",
       "Animal_Value          float64\n",
       "dtype: object"
      ]
     },
     "execution_count": 517,
     "metadata": {},
     "output_type": "execute_result"
    }
   ],
   "source": [
    "#check the data type\n",
    "# check  data type\n",
    "eu_production_lp_df.dtypes\n"
   ]
  },
  {
   "cell_type": "markdown",
   "id": "7282771c",
   "metadata": {},
   "source": [
    "### Handling outliers\n",
    "###  what is outliers, why you need to handle it, do i have any outliers, how i treat them"
   ]
  },
  {
   "cell_type": "code",
   "execution_count": 518,
   "id": "cc3b6c37",
   "metadata": {
    "ExecuteTime": {
     "end_time": "2022-12-22T17:14:16.111586Z",
     "start_time": "2022-12-22T17:14:11.165577Z"
    }
   },
   "outputs": [
    {
     "data": {
      "text/plain": [
       "<seaborn.axisgrid.PairGrid at 0x1a27dba73a0>"
      ]
     },
     "execution_count": 518,
     "metadata": {},
     "output_type": "execute_result"
    },
    {
     "data": {
      "image/png": "[encoded data removed]",
      "text/plain": [
       "<Figure size 720x720 with 20 Axes>"
      ]
     },
     "metadata": {
      "needs_background": "light"
     },
     "output_type": "display_data"
    }
   ],
   "source": [
    "#to pair the data\n",
    "sns.pairplot(eu_production_lp_df)"
   ]
  },
  {
   "cell_type": "code",
   "execution_count": 537,
   "id": "2a92fcba",
   "metadata": {
    "ExecuteTime": {
     "end_time": "2022-12-23T11:21:59.861495Z",
     "start_time": "2022-12-23T11:21:59.419678Z"
    }
   },
   "outputs": [
    {
     "data": {
      "image/png": "[encoded data removed]",
      "text/plain": [
       "<Figure size 360x360 with 1 Axes>"
      ]
     },
     "metadata": {
      "needs_background": "light"
     },
     "output_type": "display_data"
    }
   ],
   "source": [
    "# to see against which feature i want to work with\n",
    "sns.displot(eu_production_lp_df[\"Production_Value\"]);\n"
   ]
  },
  {
   "cell_type": "code",
   "execution_count": 538,
   "id": "4bfad45d",
   "metadata": {
    "ExecuteTime": {
     "end_time": "2022-12-23T11:22:25.064938Z",
     "start_time": "2022-12-23T11:22:25.055963Z"
    }
   },
   "outputs": [],
   "source": [
    "#eu_production_lp_df[\"Production_Value\"]\n",
    "eu_production_lp_df"
   ]
  },
  {
   "cell_type": "code",
   "execution_count": 542,
   "id": "aecd3cee",
   "metadata": {
    "ExecuteTime": {
     "end_time": "2022-12-23T12:13:35.399264Z",
     "start_time": "2022-12-23T12:13:35.079830Z"
    }
   },
   "outputs": [
    {
     "data": {
      "image/png": "[encoded data removed]",
      "text/plain": [
       "<Figure size 360x360 with 1 Axes>"
      ]
     },
     "metadata": {
      "needs_background": "light"
     },
     "output_type": "display_data"
    }
   ],
   "source": [
    "# to see against which feature i want to work with\n",
    "sns.displot(eu_production_lp_df[\"Yeild_Value\"]);"
   ]
  },
  {
   "cell_type": "code",
   "execution_count": 543,
   "id": "b912858a",
   "metadata": {
    "ExecuteTime": {
     "end_time": "2022-12-23T12:28:02.263573Z",
     "start_time": "2022-12-23T12:28:01.920610Z"
    }
   },
   "outputs": [
    {
     "data": {
      "image/png": "[encoded data removed]",
      "text/plain": [
       "<Figure size 360x360 with 1 Axes>"
      ]
     },
     "metadata": {
      "needs_background": "light"
     },
     "output_type": "display_data"
    }
   ],
   "source": [
    "# to see against which feature i want to work with\n",
    "sns.displot(eu_production_lp_df[\"Animal_Value\"]);"
   ]
  },
  {
   "cell_type": "code",
   "execution_count": 544,
   "id": "8f84c513",
   "metadata": {
    "ExecuteTime": {
     "end_time": "2022-12-23T12:34:34.166419Z",
     "start_time": "2022-12-23T12:34:33.427396Z"
    }
   },
   "outputs": [
    {
     "data": {
      "image/png": "[encoded data removed]",
      "text/plain": [
       "<Figure size 432x288 with 1 Axes>"
      ]
     },
     "metadata": {
      "needs_background": "light"
     },
     "output_type": "display_data"
    }
   ],
   "source": [
    "# boxplot Production_Value column\n",
    "warnings.filterwarnings(\"ignore\")\n",
    "sns.boxplot(eu_production_lp_df[\"Production_Value\"]);"
   ]
  },
  {
   "cell_type": "code",
   "execution_count": null,
   "id": "6be023c6",
   "metadata": {},
   "outputs": [],
   "source": []
  },
  {
   "cell_type": "code",
   "execution_count": 539,
   "id": "aa991ad3",
   "metadata": {
    "ExecuteTime": {
     "end_time": "2022-12-23T12:12:35.839962Z",
     "start_time": "2022-12-23T12:12:35.829021Z"
    }
   },
   "outputs": [
    {
     "data": {
      "text/plain": [
       "Index(['Area', 'Production_Element', 'Item', 'Year', 'Production_Unit',\n",
       "       'Production_Value', 'Yeild_Element', 'Yeild_Unit', 'Yeild_Value',\n",
       "       'Animal_Element', 'Animal_Unit', 'Animal_Value'],\n",
       "      dtype='object')"
      ]
     },
     "execution_count": 539,
     "metadata": {},
     "output_type": "execute_result"
    }
   ],
   "source": [
    "eu_production_lp_df.columns"
   ]
  },
  {
   "cell_type": "code",
   "execution_count": 540,
   "id": "361044df",
   "metadata": {
    "ExecuteTime": {
     "end_time": "2022-12-23T12:12:56.725231Z",
     "start_time": "2022-12-23T12:12:56.670378Z"
    }
   },
   "outputs": [
    {
     "data": {
      "text/html": [
       "<div>\n",
       "<style scoped>\n",
       "    .dataframe tbody tr th:only-of-type {\n",
       "        vertical-align: middle;\n",
       "    }\n",
       "\n",
       "    .dataframe tbody tr th {\n",
       "        vertical-align: top;\n",
       "    }\n",
       "\n",
       "    .dataframe thead th {\n",
       "        text-align: right;\n",
       "    }\n",
       "</style>\n",
       "<table border=\"1\" class=\"dataframe\">\n",
       "  <thead>\n",
       "    <tr style=\"text-align: right;\">\n",
       "      <th></th>\n",
       "      <th>Area</th>\n",
       "      <th>Production_Element</th>\n",
       "      <th>Item</th>\n",
       "      <th>Year</th>\n",
       "      <th>Production_Unit</th>\n",
       "      <th>Production_Value</th>\n",
       "      <th>Yeild_Element</th>\n",
       "      <th>Yeild_Unit</th>\n",
       "      <th>Yeild_Value</th>\n",
       "      <th>Animal_Element</th>\n",
       "      <th>Animal_Unit</th>\n",
       "      <th>Animal_Value</th>\n",
       "    </tr>\n",
       "  </thead>\n",
       "  <tbody>\n",
       "    <tr>\n",
       "      <th>449</th>\n",
       "      <td>Austria</td>\n",
       "      <td>Production</td>\n",
       "      <td>Milk</td>\n",
       "      <td>1961</td>\n",
       "      <td>tonnes</td>\n",
       "      <td>2972611.0</td>\n",
       "      <td>Yield</td>\n",
       "      <td>hg/An</td>\n",
       "      <td>23250.0</td>\n",
       "      <td>Milk Animals</td>\n",
       "      <td>Head</td>\n",
       "      <td>1278559.0</td>\n",
       "    </tr>\n",
       "    <tr>\n",
       "      <th>450</th>\n",
       "      <td>Austria</td>\n",
       "      <td>Production</td>\n",
       "      <td>Milk</td>\n",
       "      <td>1962</td>\n",
       "      <td>tonnes</td>\n",
       "      <td>3064786.0</td>\n",
       "      <td>Yield</td>\n",
       "      <td>hg/An</td>\n",
       "      <td>24251.0</td>\n",
       "      <td>Milk Animals</td>\n",
       "      <td>Head</td>\n",
       "      <td>1263753.0</td>\n",
       "    </tr>\n",
       "    <tr>\n",
       "      <th>451</th>\n",
       "      <td>Austria</td>\n",
       "      <td>Production</td>\n",
       "      <td>Milk</td>\n",
       "      <td>1963</td>\n",
       "      <td>tonnes</td>\n",
       "      <td>3106694.0</td>\n",
       "      <td>Yield</td>\n",
       "      <td>hg/An</td>\n",
       "      <td>24919.0</td>\n",
       "      <td>Milk Animals</td>\n",
       "      <td>Head</td>\n",
       "      <td>1246704.0</td>\n",
       "    </tr>\n",
       "    <tr>\n",
       "      <th>452</th>\n",
       "      <td>Austria</td>\n",
       "      <td>Production</td>\n",
       "      <td>Milk</td>\n",
       "      <td>1964</td>\n",
       "      <td>tonnes</td>\n",
       "      <td>3179100.0</td>\n",
       "      <td>Yield</td>\n",
       "      <td>hg/An</td>\n",
       "      <td>25985.0</td>\n",
       "      <td>Milk Animals</td>\n",
       "      <td>Head</td>\n",
       "      <td>1223420.0</td>\n",
       "    </tr>\n",
       "    <tr>\n",
       "      <th>453</th>\n",
       "      <td>Austria</td>\n",
       "      <td>Production</td>\n",
       "      <td>Milk</td>\n",
       "      <td>1965</td>\n",
       "      <td>tonnes</td>\n",
       "      <td>3255700.0</td>\n",
       "      <td>Yield</td>\n",
       "      <td>hg/An</td>\n",
       "      <td>26923.0</td>\n",
       "      <td>Milk Animals</td>\n",
       "      <td>Head</td>\n",
       "      <td>1209280.0</td>\n",
       "    </tr>\n",
       "    <tr>\n",
       "      <th>...</th>\n",
       "      <td>...</td>\n",
       "      <td>...</td>\n",
       "      <td>...</td>\n",
       "      <td>...</td>\n",
       "      <td>...</td>\n",
       "      <td>...</td>\n",
       "      <td>...</td>\n",
       "      <td>...</td>\n",
       "      <td>...</td>\n",
       "      <td>...</td>\n",
       "      <td>...</td>\n",
       "      <td>...</td>\n",
       "    </tr>\n",
       "    <tr>\n",
       "      <th>9141</th>\n",
       "      <td>Sweden</td>\n",
       "      <td>Production</td>\n",
       "      <td>Milk</td>\n",
       "      <td>2016</td>\n",
       "      <td>tonnes</td>\n",
       "      <td>2862000.0</td>\n",
       "      <td>Yield</td>\n",
       "      <td>hg/An</td>\n",
       "      <td>87759.0</td>\n",
       "      <td>Milk Animals</td>\n",
       "      <td>Head</td>\n",
       "      <td>326122.0</td>\n",
       "    </tr>\n",
       "    <tr>\n",
       "      <th>9142</th>\n",
       "      <td>Sweden</td>\n",
       "      <td>Production</td>\n",
       "      <td>Milk</td>\n",
       "      <td>2017</td>\n",
       "      <td>tonnes</td>\n",
       "      <td>2816660.0</td>\n",
       "      <td>Yield</td>\n",
       "      <td>hg/An</td>\n",
       "      <td>86284.0</td>\n",
       "      <td>Milk Animals</td>\n",
       "      <td>Head</td>\n",
       "      <td>326440.0</td>\n",
       "    </tr>\n",
       "    <tr>\n",
       "      <th>9143</th>\n",
       "      <td>Sweden</td>\n",
       "      <td>Production</td>\n",
       "      <td>Milk</td>\n",
       "      <td>2018</td>\n",
       "      <td>tonnes</td>\n",
       "      <td>2760230.0</td>\n",
       "      <td>Yield</td>\n",
       "      <td>hg/An</td>\n",
       "      <td>88172.0</td>\n",
       "      <td>Milk Animals</td>\n",
       "      <td>Head</td>\n",
       "      <td>313050.0</td>\n",
       "    </tr>\n",
       "    <tr>\n",
       "      <th>9144</th>\n",
       "      <td>Sweden</td>\n",
       "      <td>Production</td>\n",
       "      <td>Milk</td>\n",
       "      <td>2019</td>\n",
       "      <td>tonnes</td>\n",
       "      <td>2704390.0</td>\n",
       "      <td>Yield</td>\n",
       "      <td>hg/An</td>\n",
       "      <td>89734.0</td>\n",
       "      <td>Milk Animals</td>\n",
       "      <td>Head</td>\n",
       "      <td>301380.0</td>\n",
       "    </tr>\n",
       "    <tr>\n",
       "      <th>9145</th>\n",
       "      <td>Sweden</td>\n",
       "      <td>Production</td>\n",
       "      <td>Milk</td>\n",
       "      <td>2020</td>\n",
       "      <td>tonnes</td>\n",
       "      <td>2772740.0</td>\n",
       "      <td>Yield</td>\n",
       "      <td>hg/An</td>\n",
       "      <td>91089.0</td>\n",
       "      <td>Milk Animals</td>\n",
       "      <td>Head</td>\n",
       "      <td>304400.0</td>\n",
       "    </tr>\n",
       "  </tbody>\n",
       "</table>\n",
       "<p>1323 rows × 12 columns</p>\n",
       "</div>"
      ],
      "text/plain": [
       "         Area Production_Element  Item  Year Production_Unit  \\\n",
       "449   Austria         Production  Milk  1961          tonnes   \n",
       "450   Austria         Production  Milk  1962          tonnes   \n",
       "451   Austria         Production  Milk  1963          tonnes   \n",
       "452   Austria         Production  Milk  1964          tonnes   \n",
       "453   Austria         Production  Milk  1965          tonnes   \n",
       "...       ...                ...   ...   ...             ...   \n",
       "9141   Sweden         Production  Milk  2016          tonnes   \n",
       "9142   Sweden         Production  Milk  2017          tonnes   \n",
       "9143   Sweden         Production  Milk  2018          tonnes   \n",
       "9144   Sweden         Production  Milk  2019          tonnes   \n",
       "9145   Sweden         Production  Milk  2020          tonnes   \n",
       "\n",
       "      Production_Value Yeild_Element Yeild_Unit  Yeild_Value Animal_Element  \\\n",
       "449          2972611.0         Yield      hg/An      23250.0   Milk Animals   \n",
       "450          3064786.0         Yield      hg/An      24251.0   Milk Animals   \n",
       "451          3106694.0         Yield      hg/An      24919.0   Milk Animals   \n",
       "452          3179100.0         Yield      hg/An      25985.0   Milk Animals   \n",
       "453          3255700.0         Yield      hg/An      26923.0   Milk Animals   \n",
       "...                ...           ...        ...          ...            ...   \n",
       "9141         2862000.0         Yield      hg/An      87759.0   Milk Animals   \n",
       "9142         2816660.0         Yield      hg/An      86284.0   Milk Animals   \n",
       "9143         2760230.0         Yield      hg/An      88172.0   Milk Animals   \n",
       "9144         2704390.0         Yield      hg/An      89734.0   Milk Animals   \n",
       "9145         2772740.0         Yield      hg/An      91089.0   Milk Animals   \n",
       "\n",
       "     Animal_Unit  Animal_Value  \n",
       "449         Head     1278559.0  \n",
       "450         Head     1263753.0  \n",
       "451         Head     1246704.0  \n",
       "452         Head     1223420.0  \n",
       "453         Head     1209280.0  \n",
       "...          ...           ...  \n",
       "9141        Head      326122.0  \n",
       "9142        Head      326440.0  \n",
       "9143        Head      313050.0  \n",
       "9144        Head      301380.0  \n",
       "9145        Head      304400.0  \n",
       "\n",
       "[1323 rows x 12 columns]"
      ]
     },
     "execution_count": 540,
     "metadata": {},
     "output_type": "execute_result"
    }
   ],
   "source": [
    "eu_production_lp_df"
   ]
  },
  {
   "cell_type": "markdown",
   "id": "6be03f44",
   "metadata": {},
   "source": [
    "## 4.0.1 Merge milk production data with human population data\n",
    "Data frame wpt_df contains world human population data"
   ]
  },
  {
   "cell_type": "code",
   "execution_count": null,
   "id": "369b6d4d",
   "metadata": {},
   "outputs": [],
   "source": []
  },
  {
   "cell_type": "code",
   "execution_count": 549,
   "id": "0aee4e53",
   "metadata": {
    "ExecuteTime": {
     "end_time": "2022-12-28T14:03:58.782842Z",
     "start_time": "2022-12-28T14:03:58.764891Z"
    }
   },
   "outputs": [
    {
     "data": {
      "text/plain": [
       "Index(['Country_Name', 'Country_Code', 'Indicator_Name', 'Indicator_Code',\n",
       "       'Year', 'Human_Population_Total', 'Human_Populationin_agriculture',\n",
       "       'Human_Populationin_agriculturePercent'],\n",
       "      dtype='object')"
      ]
     },
     "execution_count": 549,
     "metadata": {},
     "output_type": "execute_result"
    }
   ],
   "source": [
    "# now merge population with milk production data\n",
    "wpt_df.tail() \n",
    "wpt_df.columns"
   ]
  },
  {
   "cell_type": "code",
   "execution_count": 548,
   "id": "dde27464",
   "metadata": {
    "ExecuteTime": {
     "end_time": "2022-12-28T14:03:56.486257Z",
     "start_time": "2022-12-28T14:03:56.334662Z"
    }
   },
   "outputs": [],
   "source": [
    "#fix column name in data frame wpt_df\n",
    "wpt_df.rename(columns = {'ï»¿Country_Name':'Country_Name'}, inplace = True)"
   ]
  },
  {
   "cell_type": "code",
   "execution_count": null,
   "id": "d85f63a1",
   "metadata": {},
   "outputs": [],
   "source": []
  },
  {
   "cell_type": "code",
   "execution_count": 550,
   "id": "46430f60",
   "metadata": {
    "ExecuteTime": {
     "end_time": "2022-12-28T14:04:19.619388Z",
     "start_time": "2022-12-28T14:04:19.407617Z"
    }
   },
   "outputs": [
    {
     "data": {
      "text/html": [
       "<div>\n",
       "<style scoped>\n",
       "    .dataframe tbody tr th:only-of-type {\n",
       "        vertical-align: middle;\n",
       "    }\n",
       "\n",
       "    .dataframe tbody tr th {\n",
       "        vertical-align: top;\n",
       "    }\n",
       "\n",
       "    .dataframe thead th {\n",
       "        text-align: right;\n",
       "    }\n",
       "</style>\n",
       "<table border=\"1\" class=\"dataframe\">\n",
       "  <thead>\n",
       "    <tr style=\"text-align: right;\">\n",
       "      <th></th>\n",
       "      <th>Country_Name</th>\n",
       "      <th>Country_Code</th>\n",
       "      <th>Indicator_Name</th>\n",
       "      <th>Indicator_Code</th>\n",
       "      <th>Year</th>\n",
       "      <th>Human_Population_Total</th>\n",
       "      <th>Human_Populationin_agriculture</th>\n",
       "      <th>Human_Populationin_agriculturePercent</th>\n",
       "    </tr>\n",
       "  </thead>\n",
       "  <tbody>\n",
       "    <tr>\n",
       "      <th>0</th>\n",
       "      <td>Afghanistan</td>\n",
       "      <td>AFG</td>\n",
       "      <td>Population total</td>\n",
       "      <td>SP.POP.TOTL</td>\n",
       "      <td>1960</td>\n",
       "      <td>8996967.0</td>\n",
       "      <td>NaN</td>\n",
       "      <td>NaN</td>\n",
       "    </tr>\n",
       "    <tr>\n",
       "      <th>1</th>\n",
       "      <td>Afghanistan</td>\n",
       "      <td>AFG</td>\n",
       "      <td>Population total</td>\n",
       "      <td>SP.POP.TOTL</td>\n",
       "      <td>1961</td>\n",
       "      <td>9169406.0</td>\n",
       "      <td>NaN</td>\n",
       "      <td>NaN</td>\n",
       "    </tr>\n",
       "    <tr>\n",
       "      <th>2</th>\n",
       "      <td>Afghanistan</td>\n",
       "      <td>AFG</td>\n",
       "      <td>Population total</td>\n",
       "      <td>SP.POP.TOTL</td>\n",
       "      <td>1962</td>\n",
       "      <td>9351442.0</td>\n",
       "      <td>NaN</td>\n",
       "      <td>NaN</td>\n",
       "    </tr>\n",
       "    <tr>\n",
       "      <th>3</th>\n",
       "      <td>Afghanistan</td>\n",
       "      <td>AFG</td>\n",
       "      <td>Population total</td>\n",
       "      <td>SP.POP.TOTL</td>\n",
       "      <td>1963</td>\n",
       "      <td>9543200.0</td>\n",
       "      <td>NaN</td>\n",
       "      <td>NaN</td>\n",
       "    </tr>\n",
       "    <tr>\n",
       "      <th>4</th>\n",
       "      <td>Afghanistan</td>\n",
       "      <td>AFG</td>\n",
       "      <td>Population total</td>\n",
       "      <td>SP.POP.TOTL</td>\n",
       "      <td>1964</td>\n",
       "      <td>9744772.0</td>\n",
       "      <td>NaN</td>\n",
       "      <td>NaN</td>\n",
       "    </tr>\n",
       "  </tbody>\n",
       "</table>\n",
       "</div>"
      ],
      "text/plain": [
       "  Country_Name Country_Code    Indicator_Name Indicator_Code  Year  \\\n",
       "0  Afghanistan          AFG  Population total    SP.POP.TOTL  1960   \n",
       "1  Afghanistan          AFG  Population total    SP.POP.TOTL  1961   \n",
       "2  Afghanistan          AFG  Population total    SP.POP.TOTL  1962   \n",
       "3  Afghanistan          AFG  Population total    SP.POP.TOTL  1963   \n",
       "4  Afghanistan          AFG  Population total    SP.POP.TOTL  1964   \n",
       "\n",
       "   Human_Population_Total  Human_Populationin_agriculture  \\\n",
       "0               8996967.0                             NaN   \n",
       "1               9169406.0                             NaN   \n",
       "2               9351442.0                             NaN   \n",
       "3               9543200.0                             NaN   \n",
       "4               9744772.0                             NaN   \n",
       "\n",
       "   Human_Populationin_agriculturePercent  \n",
       "0                                    NaN  \n",
       "1                                    NaN  \n",
       "2                                    NaN  \n",
       "3                                    NaN  \n",
       "4                                    NaN  "
      ]
     },
     "execution_count": 550,
     "metadata": {},
     "output_type": "execute_result"
    }
   ],
   "source": [
    "wpt_df.head()"
   ]
  },
  {
   "cell_type": "code",
   "execution_count": 551,
   "id": "fffa5457",
   "metadata": {
    "ExecuteTime": {
     "end_time": "2022-12-28T14:05:02.458685Z",
     "start_time": "2022-12-28T14:05:01.998443Z"
    }
   },
   "outputs": [],
   "source": [
    "# now merge animal production and human population data set\n",
    "eu_production_inc_lp_df = pd.merge(left=eu_production_lp_df, right=wpt_df, on=None, left_on=['Area', 'Year'], right_on=['Country_Name', 'Year'])\n",
    "\n"
   ]
  },
  {
   "cell_type": "code",
   "execution_count": 554,
   "id": "ccdd05f9",
   "metadata": {
    "ExecuteTime": {
     "end_time": "2022-12-28T14:05:33.528007Z",
     "start_time": "2022-12-28T14:05:33.477145Z"
    }
   },
   "outputs": [
    {
     "data": {
      "text/html": [
       "<div>\n",
       "<style scoped>\n",
       "    .dataframe tbody tr th:only-of-type {\n",
       "        vertical-align: middle;\n",
       "    }\n",
       "\n",
       "    .dataframe tbody tr th {\n",
       "        vertical-align: top;\n",
       "    }\n",
       "\n",
       "    .dataframe thead th {\n",
       "        text-align: right;\n",
       "    }\n",
       "</style>\n",
       "<table border=\"1\" class=\"dataframe\">\n",
       "  <thead>\n",
       "    <tr style=\"text-align: right;\">\n",
       "      <th></th>\n",
       "      <th>Area</th>\n",
       "      <th>Production_Element</th>\n",
       "      <th>Item</th>\n",
       "      <th>Year</th>\n",
       "      <th>Production_Unit</th>\n",
       "      <th>Production_Value</th>\n",
       "      <th>Yeild_Element</th>\n",
       "      <th>Yeild_Unit</th>\n",
       "      <th>Yeild_Value</th>\n",
       "      <th>Animal_Element</th>\n",
       "      <th>Animal_Unit</th>\n",
       "      <th>Animal_Value</th>\n",
       "      <th>Country_Code</th>\n",
       "      <th>Human_Population_Total</th>\n",
       "      <th>Human_Populationin_agriculture</th>\n",
       "      <th>Human_Populationin_agriculturePercent</th>\n",
       "    </tr>\n",
       "  </thead>\n",
       "  <tbody>\n",
       "    <tr>\n",
       "      <th>0</th>\n",
       "      <td>Austria</td>\n",
       "      <td>Production</td>\n",
       "      <td>Milk</td>\n",
       "      <td>1961</td>\n",
       "      <td>tonnes</td>\n",
       "      <td>2972611.0</td>\n",
       "      <td>Yield</td>\n",
       "      <td>hg/An</td>\n",
       "      <td>23250.0</td>\n",
       "      <td>Milk Animals</td>\n",
       "      <td>Head</td>\n",
       "      <td>1278559.0</td>\n",
       "      <td>AUT</td>\n",
       "      <td>7086299.0</td>\n",
       "      <td>NaN</td>\n",
       "      <td>NaN</td>\n",
       "    </tr>\n",
       "    <tr>\n",
       "      <th>1</th>\n",
       "      <td>Austria</td>\n",
       "      <td>Production</td>\n",
       "      <td>Milk</td>\n",
       "      <td>1962</td>\n",
       "      <td>tonnes</td>\n",
       "      <td>3064786.0</td>\n",
       "      <td>Yield</td>\n",
       "      <td>hg/An</td>\n",
       "      <td>24251.0</td>\n",
       "      <td>Milk Animals</td>\n",
       "      <td>Head</td>\n",
       "      <td>1263753.0</td>\n",
       "      <td>AUT</td>\n",
       "      <td>7129864.0</td>\n",
       "      <td>NaN</td>\n",
       "      <td>NaN</td>\n",
       "    </tr>\n",
       "    <tr>\n",
       "      <th>2</th>\n",
       "      <td>Austria</td>\n",
       "      <td>Production</td>\n",
       "      <td>Milk</td>\n",
       "      <td>1963</td>\n",
       "      <td>tonnes</td>\n",
       "      <td>3106694.0</td>\n",
       "      <td>Yield</td>\n",
       "      <td>hg/An</td>\n",
       "      <td>24919.0</td>\n",
       "      <td>Milk Animals</td>\n",
       "      <td>Head</td>\n",
       "      <td>1246704.0</td>\n",
       "      <td>AUT</td>\n",
       "      <td>7175811.0</td>\n",
       "      <td>NaN</td>\n",
       "      <td>NaN</td>\n",
       "    </tr>\n",
       "    <tr>\n",
       "      <th>3</th>\n",
       "      <td>Austria</td>\n",
       "      <td>Production</td>\n",
       "      <td>Milk</td>\n",
       "      <td>1964</td>\n",
       "      <td>tonnes</td>\n",
       "      <td>3179100.0</td>\n",
       "      <td>Yield</td>\n",
       "      <td>hg/An</td>\n",
       "      <td>25985.0</td>\n",
       "      <td>Milk Animals</td>\n",
       "      <td>Head</td>\n",
       "      <td>1223420.0</td>\n",
       "      <td>AUT</td>\n",
       "      <td>7223801.0</td>\n",
       "      <td>NaN</td>\n",
       "      <td>NaN</td>\n",
       "    </tr>\n",
       "    <tr>\n",
       "      <th>4</th>\n",
       "      <td>Austria</td>\n",
       "      <td>Production</td>\n",
       "      <td>Milk</td>\n",
       "      <td>1965</td>\n",
       "      <td>tonnes</td>\n",
       "      <td>3255700.0</td>\n",
       "      <td>Yield</td>\n",
       "      <td>hg/An</td>\n",
       "      <td>26923.0</td>\n",
       "      <td>Milk Animals</td>\n",
       "      <td>Head</td>\n",
       "      <td>1209280.0</td>\n",
       "      <td>AUT</td>\n",
       "      <td>7270889.0</td>\n",
       "      <td>NaN</td>\n",
       "      <td>NaN</td>\n",
       "    </tr>\n",
       "  </tbody>\n",
       "</table>\n",
       "</div>"
      ],
      "text/plain": [
       "      Area Production_Element  Item  Year Production_Unit  Production_Value  \\\n",
       "0  Austria         Production  Milk  1961          tonnes         2972611.0   \n",
       "1  Austria         Production  Milk  1962          tonnes         3064786.0   \n",
       "2  Austria         Production  Milk  1963          tonnes         3106694.0   \n",
       "3  Austria         Production  Milk  1964          tonnes         3179100.0   \n",
       "4  Austria         Production  Milk  1965          tonnes         3255700.0   \n",
       "\n",
       "  Yeild_Element Yeild_Unit  Yeild_Value Animal_Element Animal_Unit  \\\n",
       "0         Yield      hg/An      23250.0   Milk Animals        Head   \n",
       "1         Yield      hg/An      24251.0   Milk Animals        Head   \n",
       "2         Yield      hg/An      24919.0   Milk Animals        Head   \n",
       "3         Yield      hg/An      25985.0   Milk Animals        Head   \n",
       "4         Yield      hg/An      26923.0   Milk Animals        Head   \n",
       "\n",
       "   Animal_Value Country_Code  Human_Population_Total  \\\n",
       "0     1278559.0          AUT               7086299.0   \n",
       "1     1263753.0          AUT               7129864.0   \n",
       "2     1246704.0          AUT               7175811.0   \n",
       "3     1223420.0          AUT               7223801.0   \n",
       "4     1209280.0          AUT               7270889.0   \n",
       "\n",
       "   Human_Populationin_agriculture  Human_Populationin_agriculturePercent  \n",
       "0                             NaN                                    NaN  \n",
       "1                             NaN                                    NaN  \n",
       "2                             NaN                                    NaN  \n",
       "3                             NaN                                    NaN  \n",
       "4                             NaN                                    NaN  "
      ]
     },
     "execution_count": 554,
     "metadata": {},
     "output_type": "execute_result"
    }
   ],
   "source": [
    "eu_production_inc_lp_df.head()"
   ]
  },
  {
   "cell_type": "code",
   "execution_count": 553,
   "id": "a29ed48d",
   "metadata": {
    "ExecuteTime": {
     "end_time": "2022-12-28T14:05:31.034580Z",
     "start_time": "2022-12-28T14:05:31.000673Z"
    }
   },
   "outputs": [],
   "source": [
    "# drop columns that are not neccessory\n",
    "eu_production_inc_lp_df.drop(['Country_Name','Indicator_Name','Indicator_Code'], axis = 1, inplace = True)\n"
   ]
  },
  {
   "cell_type": "code",
   "execution_count": 555,
   "id": "7491c27e",
   "metadata": {
    "ExecuteTime": {
     "end_time": "2022-12-28T14:05:49.738954Z",
     "start_time": "2022-12-28T14:05:49.700058Z"
    }
   },
   "outputs": [
    {
     "data": {
      "text/html": [
       "<div>\n",
       "<style scoped>\n",
       "    .dataframe tbody tr th:only-of-type {\n",
       "        vertical-align: middle;\n",
       "    }\n",
       "\n",
       "    .dataframe tbody tr th {\n",
       "        vertical-align: top;\n",
       "    }\n",
       "\n",
       "    .dataframe thead th {\n",
       "        text-align: right;\n",
       "    }\n",
       "</style>\n",
       "<table border=\"1\" class=\"dataframe\">\n",
       "  <thead>\n",
       "    <tr style=\"text-align: right;\">\n",
       "      <th></th>\n",
       "      <th>Area</th>\n",
       "      <th>Production_Element</th>\n",
       "      <th>Item</th>\n",
       "      <th>Year</th>\n",
       "      <th>Production_Unit</th>\n",
       "      <th>Production_Value</th>\n",
       "      <th>Yeild_Element</th>\n",
       "      <th>Yeild_Unit</th>\n",
       "      <th>Yeild_Value</th>\n",
       "      <th>Animal_Element</th>\n",
       "      <th>Animal_Unit</th>\n",
       "      <th>Animal_Value</th>\n",
       "      <th>Country_Code</th>\n",
       "      <th>Human_Population_Total</th>\n",
       "      <th>Human_Populationin_agriculture</th>\n",
       "      <th>Human_Populationin_agriculturePercent</th>\n",
       "    </tr>\n",
       "  </thead>\n",
       "  <tbody>\n",
       "    <tr>\n",
       "      <th>0</th>\n",
       "      <td>Austria</td>\n",
       "      <td>Production</td>\n",
       "      <td>Milk</td>\n",
       "      <td>1961</td>\n",
       "      <td>tonnes</td>\n",
       "      <td>2972611.0</td>\n",
       "      <td>Yield</td>\n",
       "      <td>hg/An</td>\n",
       "      <td>23250.0</td>\n",
       "      <td>Milk Animals</td>\n",
       "      <td>Head</td>\n",
       "      <td>1278559.0</td>\n",
       "      <td>AUT</td>\n",
       "      <td>7086299.0</td>\n",
       "      <td>NaN</td>\n",
       "      <td>NaN</td>\n",
       "    </tr>\n",
       "    <tr>\n",
       "      <th>1</th>\n",
       "      <td>Austria</td>\n",
       "      <td>Production</td>\n",
       "      <td>Milk</td>\n",
       "      <td>1962</td>\n",
       "      <td>tonnes</td>\n",
       "      <td>3064786.0</td>\n",
       "      <td>Yield</td>\n",
       "      <td>hg/An</td>\n",
       "      <td>24251.0</td>\n",
       "      <td>Milk Animals</td>\n",
       "      <td>Head</td>\n",
       "      <td>1263753.0</td>\n",
       "      <td>AUT</td>\n",
       "      <td>7129864.0</td>\n",
       "      <td>NaN</td>\n",
       "      <td>NaN</td>\n",
       "    </tr>\n",
       "    <tr>\n",
       "      <th>2</th>\n",
       "      <td>Austria</td>\n",
       "      <td>Production</td>\n",
       "      <td>Milk</td>\n",
       "      <td>1963</td>\n",
       "      <td>tonnes</td>\n",
       "      <td>3106694.0</td>\n",
       "      <td>Yield</td>\n",
       "      <td>hg/An</td>\n",
       "      <td>24919.0</td>\n",
       "      <td>Milk Animals</td>\n",
       "      <td>Head</td>\n",
       "      <td>1246704.0</td>\n",
       "      <td>AUT</td>\n",
       "      <td>7175811.0</td>\n",
       "      <td>NaN</td>\n",
       "      <td>NaN</td>\n",
       "    </tr>\n",
       "    <tr>\n",
       "      <th>3</th>\n",
       "      <td>Austria</td>\n",
       "      <td>Production</td>\n",
       "      <td>Milk</td>\n",
       "      <td>1964</td>\n",
       "      <td>tonnes</td>\n",
       "      <td>3179100.0</td>\n",
       "      <td>Yield</td>\n",
       "      <td>hg/An</td>\n",
       "      <td>25985.0</td>\n",
       "      <td>Milk Animals</td>\n",
       "      <td>Head</td>\n",
       "      <td>1223420.0</td>\n",
       "      <td>AUT</td>\n",
       "      <td>7223801.0</td>\n",
       "      <td>NaN</td>\n",
       "      <td>NaN</td>\n",
       "    </tr>\n",
       "    <tr>\n",
       "      <th>4</th>\n",
       "      <td>Austria</td>\n",
       "      <td>Production</td>\n",
       "      <td>Milk</td>\n",
       "      <td>1965</td>\n",
       "      <td>tonnes</td>\n",
       "      <td>3255700.0</td>\n",
       "      <td>Yield</td>\n",
       "      <td>hg/An</td>\n",
       "      <td>26923.0</td>\n",
       "      <td>Milk Animals</td>\n",
       "      <td>Head</td>\n",
       "      <td>1209280.0</td>\n",
       "      <td>AUT</td>\n",
       "      <td>7270889.0</td>\n",
       "      <td>NaN</td>\n",
       "      <td>NaN</td>\n",
       "    </tr>\n",
       "  </tbody>\n",
       "</table>\n",
       "</div>"
      ],
      "text/plain": [
       "      Area Production_Element  Item  Year Production_Unit  Production_Value  \\\n",
       "0  Austria         Production  Milk  1961          tonnes         2972611.0   \n",
       "1  Austria         Production  Milk  1962          tonnes         3064786.0   \n",
       "2  Austria         Production  Milk  1963          tonnes         3106694.0   \n",
       "3  Austria         Production  Milk  1964          tonnes         3179100.0   \n",
       "4  Austria         Production  Milk  1965          tonnes         3255700.0   \n",
       "\n",
       "  Yeild_Element Yeild_Unit  Yeild_Value Animal_Element Animal_Unit  \\\n",
       "0         Yield      hg/An      23250.0   Milk Animals        Head   \n",
       "1         Yield      hg/An      24251.0   Milk Animals        Head   \n",
       "2         Yield      hg/An      24919.0   Milk Animals        Head   \n",
       "3         Yield      hg/An      25985.0   Milk Animals        Head   \n",
       "4         Yield      hg/An      26923.0   Milk Animals        Head   \n",
       "\n",
       "   Animal_Value Country_Code  Human_Population_Total  \\\n",
       "0     1278559.0          AUT               7086299.0   \n",
       "1     1263753.0          AUT               7129864.0   \n",
       "2     1246704.0          AUT               7175811.0   \n",
       "3     1223420.0          AUT               7223801.0   \n",
       "4     1209280.0          AUT               7270889.0   \n",
       "\n",
       "   Human_Populationin_agriculture  Human_Populationin_agriculturePercent  \n",
       "0                             NaN                                    NaN  \n",
       "1                             NaN                                    NaN  \n",
       "2                             NaN                                    NaN  \n",
       "3                             NaN                                    NaN  \n",
       "4                             NaN                                    NaN  "
      ]
     },
     "execution_count": 555,
     "metadata": {},
     "output_type": "execute_result"
    }
   ],
   "source": [
    "eu_production_inc_lp_df.head()"
   ]
  },
  {
   "cell_type": "code",
   "execution_count": null,
   "id": "34e51c3a",
   "metadata": {},
   "outputs": [],
   "source": [
    "# excrct ireland data"
   ]
  },
  {
   "cell_type": "code",
   "execution_count": 558,
   "id": "49816b44",
   "metadata": {
    "ExecuteTime": {
     "end_time": "2022-12-28T14:10:05.026506Z",
     "start_time": "2022-12-28T14:10:05.012543Z"
    }
   },
   "outputs": [],
   "source": [
    "# Select Rows Based on List of Column Values (countries)\n",
    "values=[\"Ireland\"]"
   ]
  },
  {
   "cell_type": "code",
   "execution_count": 559,
   "id": "a8c37654",
   "metadata": {
    "ExecuteTime": {
     "end_time": "2022-12-28T14:10:05.886742Z",
     "start_time": "2022-12-28T14:10:05.820919Z"
    }
   },
   "outputs": [
    {
     "name": "stdout",
     "output_type": "stream",
     "text": [
      "        Area Production_Element  Item  Year Production_Unit  Production_Value  \\\n",
      "647  Ireland         Production  Milk  1961          tonnes         2356000.0   \n",
      "648  Ireland         Production  Milk  1962          tonnes         2450800.0   \n",
      "649  Ireland         Production  Milk  1963          tonnes         2461100.0   \n",
      "650  Ireland         Production  Milk  1964          tonnes         2548300.0   \n",
      "651  Ireland         Production  Milk  1965          tonnes         2637800.0   \n",
      "652  Ireland         Production  Milk  1966          tonnes         2716600.0   \n",
      "653  Ireland         Production  Milk  1967          tonnes         2951400.0   \n",
      "654  Ireland         Production  Milk  1968          tonnes         3148700.0   \n",
      "655  Ireland         Production  Milk  1969          tonnes         3145000.0   \n",
      "656  Ireland         Production  Milk  1970          tonnes         3075600.0   \n",
      "657  Ireland         Production  Milk  1971          tonnes         3161400.0   \n",
      "658  Ireland         Production  Milk  1972          tonnes         3318900.0   \n",
      "659  Ireland         Production  Milk  1973          tonnes         3475500.0   \n",
      "660  Ireland         Production  Milk  1974          tonnes         3340000.0   \n",
      "661  Ireland         Production  Milk  1975          tonnes         3593000.0   \n",
      "662  Ireland         Production  Milk  1976          tonnes         3862700.0   \n",
      "663  Ireland         Production  Milk  1977          tonnes         4157200.0   \n",
      "664  Ireland         Production  Milk  1978          tonnes         4697000.0   \n",
      "665  Ireland         Production  Milk  1979          tonnes         4788200.0   \n",
      "666  Ireland         Production  Milk  1980          tonnes         4717400.0   \n",
      "667  Ireland         Production  Milk  1981          tonnes         4682800.0   \n",
      "668  Ireland         Production  Milk  1982          tonnes         5105600.0   \n",
      "669  Ireland         Production  Milk  1983          tonnes         5498300.0   \n",
      "670  Ireland         Production  Milk  1984          tonnes         5736500.0   \n",
      "671  Ireland         Production  Milk  1985          tonnes         5830300.0   \n",
      "672  Ireland         Production  Milk  1986          tonnes         5621000.0   \n",
      "673  Ireland         Production  Milk  1987          tonnes         5528200.0   \n",
      "674  Ireland         Production  Milk  1988          tonnes         5330300.0   \n",
      "675  Ireland         Production  Milk  1989          tonnes         5381800.0   \n",
      "676  Ireland         Production  Milk  1990          tonnes         5402400.0   \n",
      "677  Ireland         Production  Milk  1991          tonnes         5281800.0   \n",
      "678  Ireland         Production  Milk  1992          tonnes         5326100.0   \n",
      "679  Ireland         Production  Milk  1993          tonnes         5267400.0   \n",
      "680  Ireland         Production  Milk  1994          tonnes         5336500.0   \n",
      "681  Ireland         Production  Milk  1995          tonnes         5346800.0   \n",
      "682  Ireland         Production  Milk  1996          tonnes         5297100.0   \n",
      "683  Ireland         Production  Milk  1997          tonnes         5256300.0   \n",
      "684  Ireland         Production  Milk  1998          tonnes         5091200.0   \n",
      "685  Ireland         Production  Milk  1999          tonnes         5121100.0   \n",
      "686  Ireland         Production  Milk  2000          tonnes         5159788.0   \n",
      "687  Ireland         Production  Milk  2001          tonnes         5381800.0   \n",
      "688  Ireland         Production  Milk  2002          tonnes         5368000.0   \n",
      "689  Ireland         Production  Milk  2003          tonnes         5310140.0   \n",
      "690  Ireland         Production  Milk  2004          tonnes         5267880.0   \n",
      "691  Ireland         Production  Milk  2005          tonnes         5061250.0   \n",
      "692  Ireland         Production  Milk  2006          tonnes         5224390.0   \n",
      "693  Ireland         Production  Milk  2007          tonnes         5224770.0   \n",
      "694  Ireland         Production  Milk  2008          tonnes         5089960.0   \n",
      "695  Ireland         Production  Milk  2009          tonnes         5228300.0   \n",
      "696  Ireland         Production  Milk  2010          tonnes         5327000.0   \n",
      "697  Ireland         Production  Milk  2011          tonnes         5536680.0   \n",
      "698  Ireland         Production  Milk  2012          tonnes         5387770.0   \n",
      "699  Ireland         Production  Milk  2013          tonnes         5583670.0   \n",
      "700  Ireland         Production  Milk  2014          tonnes         5816220.0   \n",
      "701  Ireland         Production  Milk  2015          tonnes         6585120.0   \n",
      "702  Ireland         Production  Milk  2016          tonnes         6851430.0   \n",
      "703  Ireland         Production  Milk  2017          tonnes         7478160.0   \n",
      "704  Ireland         Production  Milk  2018          tonnes         7831250.0   \n",
      "705  Ireland         Production  Milk  2019          tonnes         8244870.0   \n",
      "706  Ireland         Production  Milk  2020          tonnes         8561470.0   \n",
      "\n",
      "    Yeild_Element Yeild_Unit  Yeild_Value Animal_Element Animal_Unit  \\\n",
      "647         Yield      hg/An      19536.0   Milk Animals        Head   \n",
      "648         Yield      hg/An      20089.0   Milk Animals        Head   \n",
      "649         Yield      hg/An      20123.0   Milk Animals        Head   \n",
      "650         Yield      hg/An      19987.0   Milk Animals        Head   \n",
      "651         Yield      hg/An      19381.0   Milk Animals        Head   \n",
      "652         Yield      hg/An      19404.0   Milk Animals        Head   \n",
      "653         Yield      hg/An      20755.0   Milk Animals        Head   \n",
      "654         Yield      hg/An      21232.0   Milk Animals        Head   \n",
      "655         Yield      hg/An      21136.0   Milk Animals        Head   \n",
      "656         Yield      hg/An      21674.0   Milk Animals        Head   \n",
      "657         Yield      hg/An      21803.0   Milk Animals        Head   \n",
      "658         Yield      hg/An      25510.0   Milk Animals        Head   \n",
      "659         Yield      hg/An      25022.0   Milk Animals        Head   \n",
      "660         Yield      hg/An      23340.0   Milk Animals        Head   \n",
      "661         Yield      hg/An      25555.0   Milk Animals        Head   \n",
      "662         Yield      hg/An      27991.0   Milk Animals        Head   \n",
      "663         Yield      hg/An      28950.0   Milk Animals        Head   \n",
      "664         Yield      hg/An      31651.0   Milk Animals        Head   \n",
      "665         Yield      hg/An      31647.0   Milk Animals        Head   \n",
      "666         Yield      hg/An      31387.0   Milk Animals        Head   \n",
      "667         Yield      hg/An      32317.0   Milk Animals        Head   \n",
      "668         Yield      hg/An      35018.0   Milk Animals        Head   \n",
      "669         Yield      hg/An      36340.0   Milk Animals        Head   \n",
      "670         Yield      hg/An      37371.0   Milk Animals        Head   \n",
      "671         Yield      hg/An      37632.0   Milk Animals        Head   \n",
      "672         Yield      hg/An      36794.0   Milk Animals        Head   \n",
      "673         Yield      hg/An      37092.0   Milk Animals        Head   \n",
      "674         Yield      hg/An      36924.0   Milk Animals        Head   \n",
      "675         Yield      hg/An      38802.0   Milk Animals        Head   \n",
      "676         Yield      hg/An      40256.0   Milk Animals        Head   \n",
      "677         Yield      hg/An      39953.0   Milk Animals        Head   \n",
      "678         Yield      hg/An      41352.0   Milk Animals        Head   \n",
      "679         Yield      hg/An      42268.0   Milk Animals        Head   \n",
      "680         Yield      hg/An      42750.0   Milk Animals        Head   \n",
      "681         Yield      hg/An      43364.0   Milk Animals        Head   \n",
      "682         Yield      hg/An      43390.0   Milk Animals        Head   \n",
      "683         Yield      hg/An      43240.0   Milk Animals        Head   \n",
      "684         Yield      hg/An      42377.0   Milk Animals        Head   \n",
      "685         Yield      hg/An      42719.0   Milk Animals        Head   \n",
      "686         Yield      hg/An      43820.0   Milk Animals        Head   \n",
      "687         Yield      hg/An      45512.0   Milk Animals        Head   \n",
      "688         Yield      hg/An      46113.0   Milk Animals        Head   \n",
      "689         Yield      hg/An      45951.0   Milk Animals        Head   \n",
      "690         Yield      hg/An      45566.0   Milk Animals        Head   \n",
      "691         Yield      hg/An      47969.0   Milk Animals        Head   \n",
      "692         Yield      hg/An      48164.0   Milk Animals        Head   \n",
      "693         Yield      hg/An      47942.0   Milk Animals        Head   \n",
      "694         Yield      hg/An      46475.0   Milk Animals        Head   \n",
      "695         Yield      hg/An      47673.0   Milk Animals        Head   \n",
      "696         Yield      hg/An      49748.0   Milk Animals        Head   \n",
      "697         Yield      hg/An      49572.0   Milk Animals        Head   \n",
      "698         Yield      hg/An      47228.0   Milk Animals        Head   \n",
      "699         Yield      hg/An      48003.0   Milk Animals        Head   \n",
      "700         Yield      hg/An      47425.0   Milk Animals        Head   \n",
      "701         Yield      hg/An      50819.0   Milk Animals        Head   \n",
      "702         Yield      hg/An      49012.0   Milk Animals        Head   \n",
      "703         Yield      hg/An      52197.0   Milk Animals        Head   \n",
      "704         Yield      hg/An      57200.0   Milk Animals        Head   \n",
      "705         Yield      hg/An      57828.0   Milk Animals        Head   \n",
      "706         Yield      hg/An      58799.0   Milk Animals        Head   \n",
      "\n",
      "     Animal_Value Country_Code  Human_Population_Total  \\\n",
      "647     1206000.0          IRL               2824400.0   \n",
      "648     1220000.0          IRL               2836050.0   \n",
      "649     1223000.0          IRL               2852650.0   \n",
      "650     1275000.0          IRL               2866550.0   \n",
      "651     1361000.0          IRL               2877300.0   \n",
      "652     1400000.0          IRL               2888800.0   \n",
      "653     1422000.0          IRL               2902450.0   \n",
      "654     1483000.0          IRL               2915550.0   \n",
      "655     1488000.0          IRL               2932650.0   \n",
      "656     1419000.0          IRL               2957250.0   \n",
      "657     1450000.0          IRL               2992050.0   \n",
      "658     1301000.0          IRL               3036850.0   \n",
      "659     1389000.0          IRL               3085950.0   \n",
      "660     1431000.0          IRL               3137500.0   \n",
      "661     1406000.0          IRL               3189550.0   \n",
      "662     1380000.0          IRL               3238050.0   \n",
      "663     1436000.0          IRL               3282200.0   \n",
      "664     1484000.0          IRL               3329100.0   \n",
      "665     1513000.0          IRL               3373750.0   \n",
      "666     1503000.0          IRL               3412800.0   \n",
      "667     1449000.0          IRL               3453000.0   \n",
      "668     1458000.0          IRL               3485800.0   \n",
      "669     1513000.0          IRL               3510600.0   \n",
      "670     1535000.0          IRL               3532423.0   \n",
      "671     1549300.0          IRL               3538082.0   \n",
      "672     1527700.0          IRL               3539690.0   \n",
      "673     1490400.0          IRL               3540057.0   \n",
      "674     1443600.0          IRL               3524949.0   \n",
      "675     1387000.0          IRL               3511009.0   \n",
      "676     1342000.0          IRL               3513974.0   \n",
      "677     1322000.0          IRL               3534235.0   \n",
      "678     1288000.0          IRL               3558430.0   \n",
      "679     1246200.0          IRL               3576261.0   \n",
      "680     1248300.0          IRL               3590386.0   \n",
      "681     1233000.0          IRL               3608841.0   \n",
      "682     1220800.0          IRL               3637510.0   \n",
      "683     1215600.0          IRL               3674171.0   \n",
      "684     1201400.0          IRL               3712696.0   \n",
      "685     1198800.0          IRL               3754786.0   \n",
      "686     1177500.0          IRL               3805174.0   \n",
      "687     1182500.0          IRL               3866243.0   \n",
      "688     1164100.0          IRL               3931947.0   \n",
      "689     1155600.0          IRL               3996521.0   \n",
      "690     1156100.0          IRL               4070262.0   \n",
      "691     1055100.0          IRL               4159914.0   \n",
      "692     1084700.0          IRL               4273591.0   \n",
      "693     1089800.0          IRL               4398942.0   \n",
      "694     1095200.0          IRL               4489544.0   \n",
      "695     1096700.0          IRL               4535375.0   \n",
      "696     1070800.0          IRL               4560155.0   \n",
      "697     1116900.0          IRL               4580084.0   \n",
      "698     1140800.0          IRL               4599533.0   \n",
      "699     1163200.0          IRL               4623816.0   \n",
      "700     1226400.0          IRL               4657740.0   \n",
      "701     1295800.0          IRL               4701957.0   \n",
      "702     1397900.0          IRL               4755335.0   \n",
      "703     1432687.0          IRL               4807388.0   \n",
      "704     1369100.0          IRL               4867316.0   \n",
      "705     1425760.0          IRL               4934340.0   \n",
      "706     1456050.0          IRL               4985674.0   \n",
      "\n",
      "     Human_Populationin_agriculture  Human_Populationin_agriculturePercent  \n",
      "647                             NaN                                    NaN  \n",
      "648                             NaN                                    NaN  \n",
      "649                             NaN                                    NaN  \n",
      "650                             NaN                                    NaN  \n",
      "651                             NaN                                    NaN  \n",
      "652                             NaN                                    NaN  \n",
      "653                             NaN                                    NaN  \n",
      "654                             NaN                                    NaN  \n",
      "655                             NaN                                    NaN  \n",
      "656                             NaN                                    NaN  \n",
      "657                             NaN                                    NaN  \n",
      "658                             NaN                                    NaN  \n",
      "659                             NaN                                    NaN  \n",
      "660                             NaN                                    NaN  \n",
      "661                             NaN                                    NaN  \n",
      "662                             NaN                                    NaN  \n",
      "663                             NaN                                    NaN  \n",
      "664                             NaN                                    NaN  \n",
      "665                             NaN                                    NaN  \n",
      "666                             NaN                                    NaN  \n",
      "667                             NaN                                    NaN  \n",
      "668                             NaN                                    NaN  \n",
      "669                             NaN                                    NaN  \n",
      "670                             NaN                                    NaN  \n",
      "671                             NaN                                    NaN  \n",
      "672                             NaN                                    NaN  \n",
      "673                             NaN                                    NaN  \n",
      "674                             NaN                                    NaN  \n",
      "675                             NaN                                    NaN  \n",
      "676                             NaN                                    NaN  \n",
      "677                        489492.0                                  13.85  \n",
      "678                        480744.0                                  13.51  \n",
      "679                        469563.0                                  13.13  \n",
      "680                        451671.0                                  12.58  \n",
      "681                        433422.0                                  12.01  \n",
      "682                        408856.0                                  11.24  \n",
      "683                        400852.0                                  10.91  \n",
      "684                        337855.0                                   9.10  \n",
      "685                        324414.0                                   8.64  \n",
      "686                        302511.0                                   7.95  \n",
      "687                        274890.0                                   7.11  \n",
      "688                        276416.0                                   7.03  \n",
      "689                        259774.0                                   6.50  \n",
      "690                        259683.0                                   6.38  \n",
      "691                        245851.0                                   5.91  \n",
      "692                        244022.0                                   5.71  \n",
      "693                        239302.0                                   5.44  \n",
      "694                        237497.0                                   5.29  \n",
      "695                        253527.0                                   5.59  \n",
      "696                        262209.0                                   5.75  \n",
      "697                        262439.0                                   5.73  \n",
      "698                        266313.0                                   5.79  \n",
      "699                        267257.0                                   5.78  \n",
      "700                        253381.0                                   5.44  \n",
      "701                        251085.0                                   5.34  \n",
      "702                        251557.0                                   5.29  \n",
      "703                        242773.0                                   5.05  \n",
      "704                        232171.0                                   4.77  \n",
      "705                        218591.0                                   4.43  \n",
      "706                             NaN                                    NaN  \n"
     ]
    }
   ],
   "source": [
    "Ireland_production_inc_lp_df = eu_production_inc_lp_df.loc[eu_production_inc_lp_df['Area'].isin(values)] \n",
    "print(Ireland_production_inc_lp_df)"
   ]
  },
  {
   "cell_type": "code",
   "execution_count": null,
   "id": "3a7b5c57",
   "metadata": {},
   "outputs": [],
   "source": []
  },
  {
   "cell_type": "code",
   "execution_count": null,
   "id": "2c6d7f2f",
   "metadata": {},
   "outputs": [],
   "source": []
  },
  {
   "cell_type": "markdown",
   "id": "dee91055",
   "metadata": {},
   "source": [
    "## 5.0.1 Descriptive statistics and Plots\n",
    "Descriptive statistics are used to describe the basic features of the data in my project. It provide a summary about the data and the measures. Together with simple graphics analysis, It form the basis of virtually every quantitative analysis of data.\n",
    "Descriptive statistics can be useful for two purposes: \n",
    "1) To provide basic information about variables in a dataset\n",
    "\n",
    "2) To highlight potential relationships between variables."
   ]
  },
  {
   "cell_type": "markdown",
   "id": "d2abacc5",
   "metadata": {},
   "source": [
    "#### Mean\n",
    "Calculate mean value\n",
    "\n",
    "There are inbuilt method in pandas to calculate the mean value.\n",
    "\n",
    "I chose get this information by writting my own function\n",
    "\n",
    "The mean is the most common way to measure the center of a dataset. \n",
    "Missing data in the dataset can be replaced with mean value."
   ]
  },
  {
   "cell_type": "code",
   "execution_count": 560,
   "id": "b14b33ec",
   "metadata": {
    "ExecuteTime": {
     "end_time": "2022-12-28T14:10:47.514610Z",
     "start_time": "2022-12-28T14:10:47.483661Z"
    }
   },
   "outputs": [
    {
     "name": "stdout",
     "output_type": "stream",
     "text": [
      "Mean value is: 6057124.226001511\n"
     ]
    }
   ],
   "source": [
    "# calculate mean value\n",
    "#create a function\n",
    "\n",
    "def cal_mean(input_data):\n",
    "    try:\n",
    "        return sum(input_data) / len(input_data)\n",
    "    except:\n",
    "        print(\"some error occured!\")\n",
    "        \n",
    "#use the function to calculate mean value\n",
    "print('Mean value is:', cal_mean(np.array(eu_production_inc_lp_df['Production_Value'])))\n"
   ]
  },
  {
   "cell_type": "markdown",
   "id": "11197322",
   "metadata": {},
   "source": [
    "#### Mode\n",
    "Calculate bode value There are inbuilt method in pandas to calculate the mean value.\n",
    "\n",
    "I chose get this information by writting my own function\n",
    "\n",
    "The mode represents the value(s) that occurs most often in a dataset. The mode tells us the most common value in categorical data when the mean and median can’t be used. The mode gives us an idea of where the 'center' of a dataset is located.\n"
   ]
  },
  {
   "cell_type": "code",
   "execution_count": 561,
   "id": "5f6844c6",
   "metadata": {
    "ExecuteTime": {
     "end_time": "2022-12-28T14:10:52.407374Z",
     "start_time": "2022-12-28T14:10:52.132112Z"
    }
   },
   "outputs": [
    {
     "data": {
      "text/plain": [
       "[5381800.0, 30010.0, 44415.0]"
      ]
     },
     "execution_count": 561,
     "metadata": {},
     "output_type": "execute_result"
    }
   ],
   "source": [
    "#calculate mode value\n",
    "# there are inbuilt method in pandas to calculate the maximum value. \n",
    "# I chose get this information by writting my own function \n",
    "\n",
    "from collections import Counter\n",
    "\n",
    "#create a function\n",
    "def calc_mode(input_data):\n",
    "    try:\n",
    "        c = Counter(input_data)\n",
    "        return [k for k, v in c.items() if v == c.most_common(1)[0][1]]\n",
    "    except:\n",
    "        print(\"some error occured!\")\n",
    "#use the function to calculate mode value\n",
    "calc_mode(np.array(eu_production_inc_lp_df['Production_Value']))"
   ]
  },
  {
   "cell_type": "code",
   "execution_count": null,
   "id": "2e14d055",
   "metadata": {},
   "outputs": [],
   "source": []
  }
 ],
 "metadata": {
  "kernelspec": {
   "display_name": "Python 3 (ipykernel)",
   "language": "python",
   "name": "python3"
  },
  "language_info": {
   "codemirror_mode": {
    "name": "ipython",
    "version": 3
   },
   "file_extension": ".py",
   "mimetype": "text/x-python",
   "name": "python",
   "nbconvert_exporter": "python",
   "pygments_lexer": "ipython3",
   "version": "3.9.12"
  }
 },
 "nbformat": 4,
 "nbformat_minor": 5
}
