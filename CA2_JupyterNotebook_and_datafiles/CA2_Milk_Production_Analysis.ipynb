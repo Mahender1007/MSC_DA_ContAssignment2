{
 "cells": [
  {
   "cell_type": "code",
   "execution_count": 1,
   "id": "5e5176ee",
   "metadata": {
    "ExecuteTime": {
     "end_time": "2022-12-14T13:02:22.120504Z",
     "start_time": "2022-12-14T13:02:21.906077Z"
    }
   },
   "outputs": [],
   "source": [
    "#python file added to git"
   ]
  },
  {
   "cell_type": "code",
   "execution_count": null,
   "id": "1819e57e",
   "metadata": {},
   "outputs": [],
   "source": []
  }
 ],
 "metadata": {
  "kernelspec": {
   "display_name": "Python 3 (ipykernel)",
   "language": "python",
   "name": "python3"
  },
  "language_info": {
   "codemirror_mode": {
    "name": "ipython",
    "version": 3
   },
   "file_extension": ".py",
   "mimetype": "text/x-python",
   "name": "python",
   "nbconvert_exporter": "python",
   "pygments_lexer": "ipython3",
   "version": "3.9.12"
  }
 },
 "nbformat": 4,
 "nbformat_minor": 5
}
